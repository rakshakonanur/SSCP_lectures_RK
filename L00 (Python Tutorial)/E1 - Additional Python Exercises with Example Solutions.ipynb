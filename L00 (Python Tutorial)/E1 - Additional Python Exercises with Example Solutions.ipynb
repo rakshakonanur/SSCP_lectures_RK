{
    "cells": [
        {
            "attachments": {},
            "cell_type": "markdown",
            "metadata": {},
            "source": [
                "## E1 - Additional Practice Exercises for Python\n",
                "\n",
                "These exercises are meant for you to further familiarize you with Python, and give you an opportunity to practice Python coding and the concepts you have been shown. Note that these exercises might be challenging for beginners, so please do not hesitate to collaborate on them, or ask us for advice or help if you get stuck. On the other hand, if you are more experienced, these exercises might be a bit to simple, in which case we recommend going to <a href=\"https://projecteuler.net\">projecteuler.net</a> and solving the first exercises there using Python."
            ]
        },
        {
            "attachments": {},
            "cell_type": "markdown",
            "metadata": {},
            "source": [
                "#### Exercise 1: Python as a Scientific Calculator\n",
                "\n",
                "\n",
                "The formula for the volume of a sphere is \n",
                "$$V = \\frac{4}{3}\\pi R^3.$$\n",
                "\n",
                "**1a)** The earth is close to a perfect sphere, and has a radius of approximately 6371 km. Compute the volume of the earth.\n",
                "\n",
                "**1b)** Redo your computations, but this time, change the units around so that the answer is in number of liters.\n",
                "\n",
                "**1c)** The total mass of the earth is approximately $M=5.972\\times 10^{24}$ kg. Compute the average density of the earth in terms of kg per liter. Does your answer seem reasonable?\n",
                "\n",
                "<img src=\"fig/earth.png\" width=125>\n"
            ]
        },
        {
            "cell_type": "code",
            "execution_count": 1,
            "metadata": {
                "jupyter": {
                    "outputs_hidden": true,
                    "source_hidden": true
                },
                "tags": [
                    "hide-input",
                    "hide-output"
                ]
            },
            "outputs": [
                {
                    "name": "stdout",
                    "output_type": "stream",
                    "text": [
                        "The volume of earth is 1.083e+12 km^3\n",
                        "The volume of earth is 1.083e+24 liters\n",
                        "The average density of earth is 5.513 kg/L\n"
                    ]
                }
            ],
            "source": [
                "# 1a) \n",
                "from math import pi\n",
                "\n",
                "R = 6371  # km\n",
                "V = 4/3*pi*R**3 # km^3\n",
                "\n",
                "print(f\"The volume of earth is {V:.3e} km^3\")",
                "\n",
                "\n",
                "# 1b)\n",
                "m3_to_liters = 1000  #cubic meters to liter\n",
                "\n",
                "R = 6371*1000  # m\n",
                "V = 4/3*pi*R**3 # m^3\n",
                "V_liters = V* m3_to_liters\n",
                "\n",
                "print(f\"The volume of earth is {V_liters:.3e} liters\")",
                "\n",
                "\n",
                "# 1c)\n",
                "M = 5.972e24  # kg\n",
                "density = M/V_liters\n",
                "\n",
                "print(f\"The average density of earth is {density:.3f} kg/L\")"
            ]
        },
        {
            "attachments": {},
            "cell_type": "markdown",
            "metadata": {},
            "source": [
                "#### Exercise 2: Converting Temperatures\n",
                "\n",
                "To convert from degrees Celsius to degrees Fahrenheit you can use the formula\n",
                "$$F = \\frac{9}{5}C + 32.$$\n",
                "\n",
                "**2a)** Use the formula to compute how many degrees Fahrenheit 100$^\\circ$C corresponds to\n",
                "\n",
                "**2b)** Define a Python function called `C2F` which converts any given temperature from Celsius to Fahrenheit. Test that `C2F(100)` returns the same answer you found in 2a.\n",
                "\n",
                "**2c)** Define the inverse function, `F2C`, which takes instead degrees Fahrenheit as input, and returns the degrees Celsius as output.\n",
                "\n",
                "<img src=\"fig/thermo.png\" width=125>\n"
            ]
        },
        {
            "cell_type": "code",
            "execution_count": 2,
            "metadata": {
                "jupyter": {
                    "outputs_hidden": true,
                    "source_hidden": true
                },
                "tags": [
                    "hide-input",
                    "hide-output"
                ]
            },
            "outputs": [
                {
                    "name": "stdout",
                    "output_type": "stream",
                    "text": [
                        "100 degrees Celisus corresponds to 212.0 degrees Fahrenheit\n",
                        "212.0\n",
                        "100.0\n"
                    ]
                }
            ],
            "source": [
                "# 2a)\n",
                "C = 100  # degrees celcius\n",
                "F = 9/5*C + 32\n",
                "\n",
                "print(f\"100 degrees Celisus corresponds to {F} degrees Fahrenheit\")",
                "\n",
                "\n",
                "# 2b)\n",
                "def C2F(C):\n",
                "    return 9/5*C + 32\n",
                "\n",
                "print(C2F(100))",
                "\n",
                "\n",
                "# 2c)\n",
                "def F2C(F):\n",
                "    return (F-32)*5/9\n",
                "\n",
                "print(F2C(212))"
            ]
        },
        {
            "attachments": {},
            "cell_type": "markdown",
            "metadata": {},
            "source": [
                "#### Exercise 3) Grains of Rice\n",
                "\n",
                "If we place one grain of rice on the first square of a chessboard, two grains on the second square, four grains on the third square and so on for the rest of the board: How many grains of rice will we get in total? This can be written out as the sum\n",
                "$$1 + 2 + 4 + 8 + ...$$\n",
                "\n",
                "**a)** Use a for-loop and the `range` function to loop over all the squares of the chessboard and find the number of grains we get in total. Print your answer using scientific formatting (for example: \"`{total:.1e}`\").\n",
                "\n",
                "**b)** There are about 50,000 grains of rice in a 1 kg bag. Use a while-loop to find the number of squares we need to get at least 1 kg rice.\n",
                "\n",
                "<img src=\"fig/chessboard.png\" width=350>\n"
            ]
        },
        {
            "cell_type": "code",
            "execution_count": 11,
            "metadata": {
                "jupyter": {
                    "outputs_hidden": true,
                    "source_hidden": true
                },
                "tags": [
                    "hide-input",
                    "hide-output"
                ]
            },
            "outputs": [
                {
                    "name": "stdout",
                    "output_type": "stream",
                    "text": [
                        "The total number of rice grains is 1.8e+19\n",
                        "The number of squares needed for at least 1 kg of rice is 16.\n"
                    ]
                }
            ],
            "source": [
                "# 3a) \n",
                "total_squares = 64\n",
                "total_grains = 0\n",
                "\n",
                "for square in range(total_squares):\n",
                "    total_grains += 2**square\n",
                "    \n",
                "print(f\"The total number of rice grains is {total_grains:.1e}\")",
                "\n",
                "\n",
                "# 3b)\n",
                "square = 0\n",
                "total_grains = 0\n",
                "\n",
                "while total_grains < 50000:\n",
                "    total_grains += 2**square\n",
                "    square += 1\n",
                "\n",
                "print(f\"The number of squares needed for at least 1 kg of rice is {square}.\")"
            ]
        },
        {
            "attachments": {},
            "cell_type": "markdown",
            "metadata": {},
            "source": [
                "#### Exercise 4) Functions and Plotting\n",
                "\n",
                "**4a)** Define the two quadratic functions\n",
                "$$f(x) = x^2 + 4x - 6,$$\n",
                "and \n",
                "$$g(x) = -2x^2 + 6x + 6.$$\n",
                "\n",
                "**4b)** Import `numpy` as `np` and `matplotlib.pyplot` as `plt`\n",
                "\n",
                "**4c)** Use `np.linspace` to define a large number of $x$-values between -5 and 5. Recall that `np.linspace(min, max, n)` creates $n$ uniformly spaced values between the two boundaries.\n",
                "\n",
                "**4d)** Use `plt.plot` to plot $f(x)$ and $g(x)$ into the same plot for $x\\in[-5, 5]$. To plot two curves in the same plot, simply do two `plt.plot` commands before you do `plt.show`.\n",
                "\n",
                "**4e)** (By eye) For what values of $x$ do the two functions intersect?\n",
                "\n",
                "\n",
                "<img src=\"fig/intersection.png\" width=225>\n"
            ]
        },
        {
            "cell_type": "code",
            "execution_count": 1,
            "metadata": {
                "jupyter": {
                    "outputs_hidden": true,
                    "source_hidden": true
                },
                "tags": [
                    "hide-input",
                    "hide-output"
                ]
            },
            "outputs": [
                {
                    "data": {
                        "image/png": "[encoded data removed]",
                        "text/plain": [
                            "<Figure size 432x288 with 1 Axes>"
                        ]
                    },
                    "metadata": {
                        "needs_background": "light"
                    },
                    "output_type": "display_data"
                }
            ],
            "source": [
                "\n",
                "\n",
                "# 4a) \n",
                "def f(x):\n",
                "    return x**2 + 4*x - 6\n",
                "\n",
                "def g(x):\n",
                "    return -2*x**2 + 6*x + 6",
                "\n",
                "\n",
                "# 4b) \n",
                "import numpy as np\n",
                "import matplotlib.pyplot as plt\n",
                "\n",
                "\n",
                "# 4c)\n",
                "x = np.linspace(-5, 5, 10000)\n",
                "\n",
                "\n",
                "# 4d) \n",
                "plt.plot(x, f(x))\n",
                "plt.plot(x, g(x))\n",
                "plt.show()\n",
                "\n",
                "\n",
                "# 4e)\n",
                "# -1.8, 2.3"
            ]
        },
        {
            "attachments": {},
            "cell_type": "markdown",
            "metadata": {},
            "source": [
                "#### Exercise 5) Multiples of 3 and 5\n",
                "\n",
                "(This exercise is taken from [projecteuler.net](https://projecteuler.net/problem=1), where it is Problem 1)\n",
                "\n",
                "If we list all the natural numbers below 10 that are multiples of 3 or 5, we get 3, 5, 6 and 9. The sum of these multiples is 23.\n",
                "\n",
                "Find the sum of all the multiples of 3 or 5 below 1000."
            ]
        },
        {
            "cell_type": "code",
            "execution_count": 14,
            "metadata": {
                "jupyter": {
                    "outputs_hidden": true,
                    "source_hidden": true
                },
                "tags": [
                    "hide-input",
                    "hide-output"
                ]
            },
            "outputs": [
                {
                    "name": "stdout",
                    "output_type": "stream",
                    "text": [
                        "233168\n"
                    ]
                }
            ],
            "source": [
                "sum = 0\n",
                "for n in range(1,1000):\n",
                "    if (n % 3==0) or (n % 5==0):\n",
                "        sum += n\n",
                "        \n",
                "print(sum)"
            ]
        },
        {
            "attachments": {},
            "cell_type": "markdown",
            "metadata": {},
            "source": [
                "#### Exercise 6) Finding the 10001st Prime Number\n",
                "\n",
                "(This exercise is taken from [projecteuler.net](https://projecteuler.net/problem=7), where it is Problem 7)\n",
                "\n",
                "By listing the first six prime numbers: 2, 3, 5, 7, 11, and 13, we can see that the 6th prime is 13.\n",
                "\n",
                "What is the 10001st prime number?\n",
                "\n",
                "**a)** To answer this question, first define a function `is_prime`, that checks wether a given integer is a prime or not. Feel free to look at the example in the lecture notes.\n",
                "\n",
                "**b)** Using your function, use a while-loop to keep looking for primes untill you found 10001."
            ]
        },
        {
            "cell_type": "code",
            "execution_count": 15,
            "metadata": {
                "jupyter": {
                    "outputs_hidden": true,
                    "source_hidden": true
                },
                "tags": [
                    "hide-input",
                    "hide-output"
                ]
            },
            "outputs": [
                {
                    "name": "stdout",
                    "output_type": "stream",
                    "text": [
                        "The 10001st prime is 104743.\n"
                    ]
                }
            ],
            "source": [
                "# The first solution is based on the lecture notes, the second is a quicker alternative\n",
                "\n",
                "# 1 : Check if divisible for all smaller numbers\n",
                "\n",
                "def is_prime_1(n):\n",
                "    if n <=1:\n",
                "        return False\n",
                "    for d in range(2,n):\n",
                "        if n % d == 0:\n",
                "            return False\n",
                "        \n",
                "    return True\n",
                "\n",
                "\n",
                "# 2 : But, we really only need to check up to sqrt(n). Why?\n",
                "from numpy import sqrt\n",
                "\n",
                "def is_prime_2(n):\n",
                "    max_factor = int(sqrt(n)+1)\n",
                "    if n <=1:\n",
                "        return False\n",
                "    for d in range(2,max_factor):\n",
                "        if n % d == 0:\n",
                "            return False\n",
                "    return True",
                "\n",
                "\n",
                "# 6b) \n",
                "prime_counter = 0\n",
                "number = 2\n",
                "while prime_counter < 10001:\n",
                "    if is_prime_2(number):\n",
                "        prime_counter += 1\n",
                "    number += 1\n",
                "\n",
                "final_prime = number - 1\n",
                "print(f\"The 10001st prime is {final_prime}.\")"
            ]
        },
        {
            "cell_type": "code",
            "execution_count": null,
            "metadata": {},
            "outputs": [],
            "source": []
        }
    ],
    "metadata": {
        "interpreter": {
            "hash": "aee8b7b246df8f9039afb4144a1f6fd8d2ca17a180786b69acc140d282b71a49"
        },
        "kernelspec": {
            "display_name": "Python 3.8.2 64-bit",
            "language": "python",
            "name": "python3"
        },
        "language_info": {
            "codemirror_mode": {
                "name": "ipython",
                "version": 3
            },
            "file_extension": ".py",
            "mimetype": "text/x-python",
            "name": "python",
            "nbconvert_exporter": "python",
            "pygments_lexer": "ipython3",
            "version": "3.8.2"
        }
    },
    "nbformat": 4,
    "nbformat_minor": 2
}
