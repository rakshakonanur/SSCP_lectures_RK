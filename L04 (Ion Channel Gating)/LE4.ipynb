{
 "cells": [
  {
   "cell_type": "markdown",
   "metadata": {},
   "source": [
    "### Exercise 1: Gating equation with constant coefficients\n",
    "\n",
    "We will solve the classic Hodgkin-Huxley gating equation, representing the activation ($\\alpha$) and deactivation ($\\beta$) processes:\n",
    "$$ \\frac{{\\rm d}m}{{\\rm d}t} = \\alpha (1-m)-\\beta m$$\n",
    "\n"
   ]
  },
  {
   "cell_type": "markdown",
   "metadata": {},
   "source": [
    "**Exercise 1a)**\n",
    "\n",
    "Find the equilibrium solution for this equation, i.e. solve $\\frac{{\\rm d}m}{{\\rm d}t} = 0$.\n",
    "\n",
    "In terms of channel biophysics, what is happening under this condition?"
   ]
  },
  {
   "cell_type": "markdown",
   "metadata": {},
   "source": [
    "**Exercise 1b)**\n",
    "\n",
    "Call the solution you found above $m_{\\infty}$. For $\\alpha$, $\\beta>0$, find the set of values $m_{\\infty}$ can have."
   ]
  },
  {
   "cell_type": "markdown",
   "metadata": {},
   "source": [
    "**Exercise 1c)**\n",
    "\n",
    "The time constant of the equation is defined as $\\tau_m=\\frac{1}{\\alpha+\\beta}$.\n",
    "Reformulate the ODE by using $m_{\\infty}$ and $\\tau_m$  instead of $\\alpha$ and $\\beta$."
   ]
  },
  {
   "cell_type": "markdown",
   "metadata": {},
   "source": [
    "**Exercise 1d)**\n",
    "\n",
    "Use the widget below to find values for $\\alpha$ and $\\beta$ such that the solution quickly approaches 0.8."
   ]
  },
  {
   "cell_type": "code",
   "execution_count": 7,
   "metadata": {},
   "outputs": [
    {
     "name": "stdout",
     "output_type": "stream",
     "text": [
      "Requirement already satisfied: numpy in /opt/pixi/.pixi/envs/default/lib/python3.12/site-packages (2.2.5)\n",
      "Requirement already satisfied: matplotlib in /opt/pixi/.pixi/envs/default/lib/python3.12/site-packages (3.10.1)\n",
      "Requirement already satisfied: contourpy>=1.0.1 in /opt/pixi/.pixi/envs/default/lib/python3.12/site-packages (from matplotlib) (1.3.2)\n",
      "Requirement already satisfied: cycler>=0.10 in /opt/pixi/.pixi/envs/default/lib/python3.12/site-packages (from matplotlib) (0.12.1)\n",
      "Requirement already satisfied: fonttools>=4.22.0 in /opt/pixi/.pixi/envs/default/lib/python3.12/site-packages (from matplotlib) (4.57.0)\n",
      "Requirement already satisfied: kiwisolver>=1.3.1 in /opt/pixi/.pixi/envs/default/lib/python3.12/site-packages (from matplotlib) (1.4.8)\n",
      "Requirement already satisfied: numpy>=1.23 in /opt/pixi/.pixi/envs/default/lib/python3.12/site-packages (from matplotlib) (2.2.5)\n",
      "Requirement already satisfied: packaging>=20.0 in /opt/pixi/.pixi/envs/default/lib/python3.12/site-packages (from matplotlib) (25.0)\n",
      "Requirement already satisfied: pillow>=8 in /opt/pixi/.pixi/envs/default/lib/python3.12/site-packages (from matplotlib) (11.2.1)\n",
      "Requirement already satisfied: pyparsing>=2.3.1 in /opt/pixi/.pixi/envs/default/lib/python3.12/site-packages (from matplotlib) (3.2.3)\n",
      "Requirement already satisfied: python-dateutil>=2.7 in /opt/pixi/.pixi/envs/default/lib/python3.12/site-packages (from matplotlib) (2.9.0.post0)\n",
      "Requirement already satisfied: six>=1.5 in /opt/pixi/.pixi/envs/default/lib/python3.12/site-packages (from python-dateutil>=2.7->matplotlib) (1.17.0)\n",
      "Requirement already satisfied: scipy in /opt/pixi/.pixi/envs/default/lib/python3.12/site-packages (1.15.2)\n",
      "Requirement already satisfied: numpy<2.5,>=1.23.5 in /opt/pixi/.pixi/envs/default/lib/python3.12/site-packages (from scipy) (2.2.5)\n"
     ]
    }
   ],
   "source": [
    "import sys\n",
    "import subprocess\n",
    "subprocess.run([sys.executable, \"-m\", \"pip\", \"install\", \"numpy\", \"matplotlib\", \"scipy\"], stdout=subprocess.DEVNULL)\n",
    "!{sys.executable} -m pip install numpy\n",
    "!{sys.executable} -m pip install matplotlib\n",
    "!{sys.executable} -m pip install scipy"
   ]
  },
  {
   "cell_type": "code",
   "execution_count": 8,
   "metadata": {},
   "outputs": [
    {
     "data": {
      "application/vnd.jupyter.widget-view+json": {
       "model_id": "f5183db0e5c04ea7a663bfb1e94e4e5e",
       "version_major": 2,
       "version_minor": 0
      },
      "text/plain": [
       "interactive(children=(FloatSlider(value=0.0, continuous_update=False, description='m0', max=1.0), FloatSlider(…"
      ]
     },
     "metadata": {},
     "output_type": "display_data"
    }
   ],
   "source": [
    "import L4_code as L4\n",
    "import importlib\n",
    "importlib.reload(L4)\n",
    "L4.GatingWidget();"
   ]
  },
  {
   "cell_type": "markdown",
   "metadata": {},
   "source": []
  },
  {
   "cell_type": "markdown",
   "metadata": {},
   "source": [
    "**Exercise 1e)**\n",
    "\n",
    "Can you verify analytically that you have found the fastest solution possible? \n",
    "\n",
    "\n",
    "*Hint:* Solve $m_{\\infty}=0.8$ to express $\\beta$ as function of $\\alpha$. Insert this into the expression for $\\tau_m$.  \n"
   ]
  },
  {
   "cell_type": "markdown",
   "metadata": {},
   "source": [
    "### Exercise 2: Voltage-dependent  coefficients\n",
    "\n",
    "We will now consider the case where the coefficients are not constants but some function of the membrane voltage. Specifically we will use the follwing exponential forms: \n",
    "\n",
    "$$ \\alpha(V)  = e^{(V-V_\\alpha)/d_\\alpha}$$\n",
    "$$ \\beta(V)  = e^{(V-V_\\beta)/d_\\beta}$$\n"
   ]
  },
  {
   "cell_type": "markdown",
   "metadata": {},
   "source": [
    "**Exercise 2a)**\n",
    "\n",
    "What are the values of $\\alpha(V_\\alpha)$, $\\alpha(V_\\alpha+d_\\alpha)$ and $\\alpha(V_\\alpha-d_\\alpha)$?\n"
   ]
  },
  {
   "cell_type": "markdown",
   "metadata": {},
   "source": [
    "**Exercise 2b)**\n",
    "\n",
    "Make a sketech of $\\alpha(V)$, assume $d_\\alpha>0$.\n"
   ]
  },
  {
   "cell_type": "markdown",
   "metadata": {},
   "source": [
    "**Exercise 2c)**\n",
    "\n",
    "Use the widget below to familiarize yourself with the impact of the parameters on $m_\\infty(V)$ and $\\tau_{m}(V)$.\n",
    "\n",
    "* Find a paremeter set where $m_\\infty(V)$ changes rapidly around $V=-50$.\n",
    "\n",
    "**Answer:** $V_{\\alpha} = V_{\\beta} = -50$\n",
    "\n",
    "* Keep $d_\\alpha = -d_\\beta$ and small (say 10). How does the peak of $\\tau_m(V)$ depend on $V_\\alpha$ and $V_\\beta$?4\n",
    "\n",
    "**Answer:** $V_a$ shifts to higher peaks at higher voltages, and peak of $V_b$ decreases for increasing voltages."
   ]
  },
  {
   "cell_type": "code",
   "execution_count": 10,
   "metadata": {},
   "outputs": [
    {
     "data": {
      "application/vnd.jupyter.widget-view+json": {
       "model_id": "c5e657f5e41a481c8e0715b6339b5dba",
       "version_major": 2,
       "version_minor": 0
      },
      "text/plain": [
       "interactive(children=(IntSlider(value=0, description='Va0', min=-100), IntSlider(value=50, description='da', m…"
      ]
     },
     "metadata": {},
     "output_type": "display_data"
    }
   ],
   "source": [
    "importlib.reload(L4)\n",
    "L4.voltage_dependence();"
   ]
  },
  {
   "cell_type": "markdown",
   "metadata": {},
   "source": [
    "### Exercise 3: A two current model, with fixed conductances\n",
    "\n",
    "We will study the following model that consits of two ionic currents, pluss an applied current.\n",
    "$$C_{\\rm m}\\frac{{\\rm d}V}{{\\rm d}t} = - g_{\\rm Na} (V-E_{\\rm Na}) - g_{\\rm K} (V-E_{\\rm K}) + I_{\\rm app}$$\n"
   ]
  },
  {
   "cell_type": "markdown",
   "metadata": {},
   "source": [
    "Use the widget below to familiarize yourself with the impact of the parameters. \n",
    "\n",
    "**Exercise 3a)**\n",
    "* Set the initial value $V_0=-80$, and $g_{\\rm{Na}}$ = $g_{\\rm{K}}$ = 0. How large must I_amp be to reach -40mV? $I_{amp}$= 2 A\n",
    "* The model uses $C_m$ = 0.05nF and the applied current lasts for 1ms. Can you derive the required current strength from the mathematical model?\n",
    "\n",
    "**Exercise 3b)**\n",
    "* Increase $g_{\\rm{K}}=0.2$ $\\rm{\\mu{}S}$. How large must the applied current be now to reach -40mV?\n",
    "\n",
    "**Exercise 3c)**\n",
    "* Set the applied current to zero. For $g_{\\rm{K}}$ = 0.2uS, how large must $g_{\\rm{Na}}$ be in order to for $V$ to reach 0mV? \n",
    "* How dows the required value of $g_{\\rm{Na}}$ depend on $V_0$? Steady-state solution does not depend on initial guess\n",
    "* With $E_{\\rm{K}}=-80mV$ and $g_{\\rm{Na}}=50mV$ can you find the required value of $g_{\\rm{Na}}$ mathematically? "
   ]
  },
  {
   "cell_type": "code",
   "execution_count": 12,
   "metadata": {},
   "outputs": [
    {
     "data": {
      "application/vnd.jupyter.widget-view+json": {
       "model_id": "7709890d6ee6431d95c2dbe1aa5aa8ad",
       "version_major": 2,
       "version_minor": 0
      },
      "text/plain": [
       "interactive(children=(FloatSlider(value=-60.0, continuous_update=False, description='V0', min=-100.0, step=1.0…"
      ]
     },
     "metadata": {},
     "output_type": "display_data"
    }
   ],
   "source": [
    "importlib.reload(L4)\n",
    "L4.ConstantConductancesWidget();"
   ]
  },
  {
   "cell_type": "markdown",
   "metadata": {},
   "source": [
    "### Exercise 4: Voltage dependent conductance\n",
    "\n",
    "We expand the model above with a voltage dependent gate $m$:\n",
    "\n",
    "$$C_{\\rm m}\\frac{{\\rm d}V}{{\\rm d}t} = - g_{\\rm Na} m (V-E_{\\rm Na}) - g_{\\rm K} (V-E_{\\rm K}) - I_{\\rm app}.$$\n",
    "where $m$ is controlled by:\n",
    "$$ \\frac{{\\rm d}m}{{\\rm d}t} = \\alpha_m (1-m)-\\beta_m m$$\n",
    "\n",
    "We use a parameterisation similar to above, but with $V_\\alpha= V_\\beta = V_s$ and $d_\\alpha = -d_\\beta = d$:\n",
    "\n",
    "$$ \\alpha(V)  = e^{(V-V_s)/d}$$\n",
    "$$ \\beta(V)  = e^{-(V-V_s)/d}$$\n",
    "\n",
    "\n",
    "We will assume that $\\alpha_m$ and $\\beta_m$ are large such that we can use the approximation $m(t,V)\\approx m_\\infty(V)$. \n",
    "\n",
    "Our model is then a single ODE instead of a system of two ODEs, but we are no longer able to solve it analytically due to the messy dependency of voltage in $m_\\infty(V)$.\n",
    "\n",
    "**Exercise 4a)**\n",
    "* With the other parameters fixed ($V_0=-80,V_s = -20, d = 10$), how large must $I_{\\rm amp}$ be for the voltage to surpass 0mV? $I_{amp} > 4.5e-9 A$\n",
    "\n",
    "**Exercise 4b)**\n",
    "* With the other parameters fixed ($I_{\\rm amp}=0,V_s = -20, d = 10$), how large must $V_0$ be for the voltage to surpass 0mV? $V_0 = -31 mV$\n",
    "* How is this releated to the I-V plot on the right? Can find zero-crossings from graph.\n",
    "\n",
    "**Exercise 4c)**\n",
    "* With $I_{\\rm amp}=0$ and $d = 10$, find a value for $V_s$ such that the threshold for firing is reduced to around -60mV. $V_s = -50mV$"
   ]
  },
  {
   "cell_type": "code",
   "execution_count": 13,
   "metadata": {},
   "outputs": [
    {
     "data": {
      "application/vnd.jupyter.widget-view+json": {
       "model_id": "8d1847c084d04847a3efd66ca51674ef",
       "version_major": 2,
       "version_minor": 0
      },
      "text/plain": [
       "interactive(children=(FloatSlider(value=-80.0, continuous_update=False, description='V0', min=-100.0, step=1.0…"
      ]
     },
     "metadata": {},
     "output_type": "display_data"
    }
   ],
   "source": [
    "importlib.reload(L4)\n",
    "L4.VoltageDependentConductancesWidget();"
   ]
  },
  {
   "cell_type": "markdown",
   "metadata": {},
   "source": [
    "### Exercise 5: Time dependent conductances (gates)\n",
    "\n",
    "In the model above the voltage either converged to a high or to low a potential. In that model it is not possible to find parameters that generates an action potential, that is a solution where the voltage first rises and then later fall back to a negative resting value. In order to acheive that we need a more sophisticated gating scheme. At the minimum we need two-state ODE system. We will use the following model:\n",
    "\n",
    "$$C_{\\rm m}\\frac{{\\rm d}V}{{\\rm d}t} = - g_{\\rm Na} m_{\\infty}(V) h(V-E_{\\rm Na}) - g_{\\rm K} (V-E_{\\rm K}) - I_{\\rm app}.$$\n",
    "where $h$ is controlled by:\n",
    "$$ \\frac{{\\rm d}h}{{\\rm d}t} = \\alpha_h (1-h)-\\beta_h h$$\n",
    "\n",
    "Below you can investigate the impact the parameters have on the stability of the system. \n",
    "\n",
    "**Exercise 5a)**\n",
    "\n",
    "With default parameters ($V_{am}=-60, V_{bm}=-10, V_{ah}=-80, V_{bh}=-20$) how low must $V_{am}$ be to induce oscillations?\n",
    "\n",
    "Notice the number of different equilibrum points (number of crossings between $\\dot{V}=0$ and $\\dot{h}=0$). \n",
    "Check out their stability properties (printed under the plot).\n",
    "\n",
    "How does the behaviour depend on the initial condition?\n",
    "\n",
    "**Exercise 5b)**\n",
    "\n",
    "With default parameters ($V_{am}=-60, V_{bm}=-10, V_{ah}=-80, V_{bh}=-20$) can you adjust $V_{ah}=-50$ to also get oscillations?\n",
    "\n",
    "How does the behaviour depend on the initial condition?\n"
   ]
  },
  {
   "cell_type": "code",
   "execution_count": 9,
   "metadata": {},
   "outputs": [
    {
     "data": {
      "application/vnd.jupyter.widget-view+json": {
       "model_id": "89e30cf2b1494f279b79510c37c46c1c",
       "version_major": 2,
       "version_minor": 0
      },
      "text/plain": [
       "interactive(children=(FloatSlider(value=-50.0, continuous_update=False, description='V0', max=50.0, min=-100.0…"
      ]
     },
     "metadata": {},
     "output_type": "display_data"
    }
   ],
   "source": [
    "importlib.reload(L4)\n",
    "L4.ap_widget();"
   ]
  },
  {
   "cell_type": "code",
   "execution_count": null,
   "metadata": {},
   "outputs": [],
   "source": []
  }
 ],
 "metadata": {
  "kernelspec": {
   "display_name": "Python 3 (ipykernel)",
   "language": "python",
   "name": "python3"
  },
  "language_info": {
   "codemirror_mode": {
    "name": "ipython",
    "version": 3
   },
   "file_extension": ".py",
   "mimetype": "text/x-python",
   "name": "python",
   "nbconvert_exporter": "python",
   "pygments_lexer": "ipython3",
   "version": "3.12.10"
  },
  "widgets": {
   "state": {
    "07539806005943978550d57531f2ef22": {
     "views": [
      {
       "cell_index": 16
      }
     ]
    },
    "334e7a1c573e4ea1afb6146a3d22797e": {
     "views": [
      {
       "cell_index": 20
      }
     ]
    },
    "5418bc2eecab4b63a9fa6022d24d198d": {
     "views": [
      {
       "cell_index": 12
      }
     ]
    },
    "5a0b2686256b4a108c77eb954b0816d2": {
     "views": [
      {
       "cell_index": 18
      }
     ]
    },
    "e8743580193241e7bc0cef82429b6925": {
     "views": [
      {
       "cell_index": 5
      }
     ]
    }
   },
   "version": "1.2.0"
  }
 },
 "nbformat": 4,
 "nbformat_minor": 4
}
