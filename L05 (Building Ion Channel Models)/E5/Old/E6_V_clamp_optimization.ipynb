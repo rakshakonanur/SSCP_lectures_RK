{
 "cells": [
  {
   "cell_type": "markdown",
   "metadata": {},
   "source": [
    "# E6 — Building ion current models from data (part 1)\n",
    "\n",
    "This notebook contains interactive exercises related to the L5 session of the SSCP2018. \n",
    "\n",
    "With these exercises we will begin applying some conventional approaches to using voltage-clamp data to parameterize ion channel models. A first step is for us to construct the steady-state activation curve for the fast cardiac sodium current from an existing data set.\n",
    "\n",
    "Let's import the data."
   ]
  },
  {
   "cell_type": "code",
   "execution_count": null,
   "metadata": {
    "collapsed": true
   },
   "outputs": [],
   "source": [
    "import neo\n",
    "import pylab as plt\n",
    "import numpy as np\n",
    "import matplotlib.pylab as plt\n",
    "%matplotlib inline"
   ]
  },
  {
   "cell_type": "code",
   "execution_count": null,
   "metadata": {},
   "outputs": [],
   "source": [
    "sweep_num = 15 # the number of voltage steps\n",
    "V_steps = np.linspace(-120, 20, 15) # the voltage step values\n",
    "SR = 5 #(kHz)\n",
    "sweep_length = 5000 #(points)\n",
    "sweep_duration = sweep_length/SR #(ms)\n",
    "time = np.linspace(0.2, sweep_duration, sweep_length) # construct the time vector\n",
    "I = np.zeros(shape=(sweep_length,sweep_num)) # initialize the data array\n",
    "\n",
    "f = neo.io.AxonIO('Active.abf')\n",
    "bl = f.read_block()\n",
    "for idx, seg in enumerate(bl.segments):\n",
    "    data = np.array(seg.analogsignals[0])\n",
    "    I[:,idx] = data[:,0]\n",
    "    plt.plot(time, I) \n",
    "    plt.xlabel('time [ms]') \n",
    "    plt.ylabel('Measured current [pA]'); \n",
    "    plt.xlim([260, 280])\n",
    "    plt.ylim([-3500, 2000])\n",
    "plt.show()"
   ]
  },
  {
   "cell_type": "markdown",
   "metadata": {},
   "source": [
    "\n",
    "\n",
    "And with some simple peak-finding we can have the maximum imward $I_{Na}$ at each voltage to construct our steady-state activation curve:\n",
    "\n"
   ]
  },
  {
   "cell_type": "code",
   "execution_count": null,
   "metadata": {},
   "outputs": [],
   "source": [
    "peak = np.zeros(15) #initialize arrays to store the times, indices, and values of the peak for each voltage step\n",
    "peak_index = np.zeros(15)\n",
    "t_peak = np.zeros(15)\n",
    "\n",
    "# loop to find peaks and store them\n",
    "for i in range(sweep_num):\n",
    "    # define a search range for finding the peak inward current\n",
    "    start = int(5000*(266.6/1000))\n",
    "    finish = int(1500)\n",
    "    search = I[start:finish,i] \n",
    "    # find the peak value, its index, and the time at the peak\n",
    "    peak[i] = search.min()\n",
    "    peak_index[i] = search.argmin()+start\n",
    "    t_peak[i] = time[int(peak_index[i])]\n",
    "    # plot a close-up of the time-series for each voltage step and the peak you have picked out \n",
    "    plt.plot(time, I,t_peak,peak,'ro'); plt.xlabel('time [ms]'); plt.ylabel('Measured current [pA]');\n",
    "    plt.xlim([265, 275]); plt.ylim([-3500, 1000])\n",
    "plt.show()"
   ]
  },
  {
   "cell_type": "markdown",
   "metadata": {},
   "source": [
    "## Exercise: extracting the steady-state activation curve\n",
    "\n",
    "Now you have the peak values for the current at each step potential. The next exercises ask you to reduce it to varying degrees of detail, all to get to data that can be used to optimize the activation properties of a Na$^+$ channel model.\n",
    "\n",
    "#### 1. Plot the steady-state I-V relationship"
   ]
  },
  {
   "cell_type": "code",
   "execution_count": null,
   "metadata": {
    "collapsed": true
   },
   "outputs": [],
   "source": [
    "# Your code here:"
   ]
  },
  {
   "cell_type": "markdown",
   "metadata": {},
   "source": [
    "#### 2. Plot the steady-state g-V relationship\n",
    "Assume an extracellular Na$^+$ concentration of 130 mM and an intracellular concentration of 10 mM "
   ]
  },
  {
   "cell_type": "code",
   "execution_count": null,
   "metadata": {
    "collapsed": true
   },
   "outputs": [],
   "source": [
    "# Your code here:"
   ]
  },
  {
   "cell_type": "markdown",
   "metadata": {},
   "source": [
    "#### 3. Given the start made below, try to write a routine to calculate and plot the *INactivation* time constants"
   ]
  },
  {
   "cell_type": "code",
   "execution_count": null,
   "metadata": {
    "collapsed": true
   },
   "outputs": [],
   "source": [
    "from scipy.optimize import curve_fit\n",
    "\n",
    "tau = np.zeros(15)\n",
    "# define the decay function to this data range\n",
    "def exp_decay(t,A,K,C): \n",
    "    return np.array(A * np.exp(-K * t) + C)\n",
    "def exp_fit(t,y): \n",
    "    params, cov = curve_fit(exp_decay, t, y)\n",
    "    A, K, C = params\n",
    "    return A, K, C"
   ]
  },
  {
   "cell_type": "markdown",
   "metadata": {},
   "source": [
    "#### 4. Save the data describing step voltage, inactivation time constant, and peak current for each step in an output that can be retrieved later"
   ]
  },
  {
   "cell_type": "code",
   "execution_count": null,
   "metadata": {
    "collapsed": true
   },
   "outputs": [],
   "source": []
  },
  {
   "cell_type": "code",
   "execution_count": null,
   "metadata": {
    "collapsed": true
   },
   "outputs": [],
   "source": [
    "import numpy as np\n",
    "import matplotlib.pylab as plt\n",
    "%matplotlib inline\n",
    "import scipy.optimize as opt\n",
    "import math\n",
    "from scipy.integrate import ode"
   ]
  },
  {
   "cell_type": "code",
   "execution_count": null,
   "metadata": {
    "collapsed": true
   },
   "outputs": [],
   "source": [
    "import pandas as pd\n",
    "\n",
    "#load the data from the activation tutorial\n",
    "SSA_data = pd.read_csv('Act_table.csv')\n",
    "peaks = np.array((SSA_data.Peak_INa)/10)\n",
    "tau = np.array(SSA_data.Tau_inact)\n",
    "V_steps = np.array(SSA_data.Voltage)\n",
    "#print(SSA_data)\n",
    "#print(peaks)\n",
    "#print(tau)\n",
    "#print(V_steps)"
   ]
  },
  {
   "cell_type": "code",
   "execution_count": null,
   "metadata": {
    "collapsed": true
   },
   "outputs": [],
   "source": [
    "def HH(y,t,V,P):\n",
    "    #initialize output vector\n",
    "    dy = np.zeros(2)\n",
    "    \n",
    "    # m-gate\n",
    "    m = y[0]\n",
    "    alpha_m = (P[0] + P[1]*V)/(1+P[2]*np.exp(P[3]*V))\n",
    "    beta_m = P[4]*np.exp(P[5]*V)\n",
    "    m_inf = alpha_m/(alpha_m+beta_m)\n",
    "    \n",
    "    # h-gate\n",
    "    h = y[1]\n",
    "    if type(V)==np.ndarray:\n",
    "        alpha_h = 0*V\n",
    "        idx = np.nonzero(V<-40)\n",
    "        alpha_h = 0*V\n",
    "        alpha_h[idx] = P[6]*np.exp(P[7]*V[idx])\n",
    "        beta_h = (1.0/(P[8] + P[9]*np.exp(P[10]*V)));\n",
    "        beta_h[idx] = P[11]*np.exp(0.35*V[idx]) + P[12]*np.exp(P[13]*V[idx])\n",
    "    else:\n",
    "        alpha_h = (0 if V >= -40 else P[6]*np.exp(P[7]*V))\n",
    "        beta_h = (1.0/(P[8] + P[9]*np.exp(P[10]*V)) if V >= -40 else P[11]*np.exp(0.35*V) + P[12]*np.exp(P[13]*V))\n",
    "        \n",
    "    h_inf = alpha_h/(alpha_h+beta_h)\n",
    "    \n",
    "    dm = alpha_m*(1-m) - m*beta_m;\n",
    "    dh = alpha_h*(1-h) - h*beta_h;\n",
    "    \n",
    "    dy[0] = dm\n",
    "    dy[1] = dh\n",
    "    \n",
    "    return dy\n",
    "    "
   ]
  },
  {
   "cell_type": "code",
   "execution_count": null,
   "metadata": {},
   "outputs": [],
   "source": [
    "from scipy.integrate import odeint\n",
    "\n",
    "HH_P = np.zeros((15))\n",
    "HH_P[0] = 15.0816\n",
    "HH_P[1] = 0.32\n",
    "HH_P[2] = -0.0089778037307\n",
    "HH_P[3] = -0.1\n",
    "HH_P[4] = 0.08\n",
    "HH_P[5] = -0.0909090909091\n",
    "HH_P[6] = 1.04951082543e-06\n",
    "HH_P[7] = -0.147058823529\n",
    "HH_P[8] = 0.13\n",
    "HH_P[9] = 0.0497581410839\n",
    "HH_P[10] = -0.0900900900901\n",
    "HH_P[11] = 310000.0\n",
    "HH_P[12] = 3.56\n",
    "HH_P[13] = 0.079\n",
    "HH_P[14] = 10\n",
    "\n",
    "t = np.linspace(0,1,1001)\n",
    "y0 = [0,1]\n",
    "V_hold = 40 \n",
    "y = odeint(HH, y0, t, (V_hold,HH_P))\n",
    "m = y[:,0]\n",
    "h = y[:,1]\n",
    "plt.plot(t,h,t,m,t,pow(m,3)*h); plt.legend((r'$h$',r'$m$',r'$m^3*h$')); plt.show()"
   ]
  },
  {
   "cell_type": "code",
   "execution_count": null,
   "metadata": {
    "collapsed": true
   },
   "outputs": [],
   "source": [
    "def Markov_Na_Matrix(V,P):\n",
    "    \n",
    "    # A Markov state model for the fast sodium current (INa)\n",
    "    # Grandi et al. 2007\n",
    "    \n",
    "    # state indices for mass matrix\n",
    "    O = int(0)\n",
    "    IF = int(1)\n",
    "    IM1 = int(2)\n",
    "    IM2 = int(3)\n",
    "    C3 = int(4)\n",
    "    C2 = int(5)\n",
    "    C1 = int(6)\n",
    "    IC3 = int(7)\n",
    "    IC2 = int(8)\n",
    "  \n",
    "    n = 9 # number of states\n",
    "    A = np.zeros((n,n)) # initialize rate mass matrix for output\n",
    "    \n",
    "    alpha1 = P[0]/(P[1]*math.exp(-(V+P[2])/P[3])+ P[6]*math.exp(-(V+P[2])/150));\n",
    "    alpha2 = P[0]/(P[1]*math.exp(-(V+P[2])/P[4])+ P[7]*math.exp(-(V+P[2])/150));\n",
    "    alpha3 = P[0]/(P[1]*math.exp(-(V+P[2])/P[5])+ P[8]*math.exp(-(V+P[2])/150));\n",
    "    beta1 = P[9]*math.exp(-(V+P[2])/P[10]);\n",
    "    beta2 = P[11]*math.exp(-(V-P[12])/P[10]);\n",
    "    beta3 = P[13]*math.exp(-(V-P[14])/P[10]);\n",
    "    alpha4 = 1/(P[15]*math.exp(-(V+7)/P[16])+P[17]);\n",
    "    alpha5 = P[18]*math.exp(-(V+7)/P[19]);\n",
    "    beta5 = P[20] + P[21]*(V+7);\n",
    "    beta4 = (alpha3*alpha4*alpha5)/(beta3*beta5);\n",
    "    alpha6 = alpha4/P[22];\n",
    "    beta6 = P[23]*math.exp(-V/P[24]);\n",
    "    alpha7 = P[25]*math.exp(V/P[26]);\n",
    "    beta7 = P[28]*math.exp(-V/P[29]);\n",
    "    #alpha8 = P[30];\n",
    "    #beta8 = P[31];\n",
    "    \n",
    "    #Assign transitions\n",
    "    A[C3, C2] = beta1\n",
    "    A[C2, C3] = alpha1\n",
    "    A[C2, C1] = beta2\n",
    "    A[C1, C2] = alpha2\n",
    "    A[C1, O]  = beta3\n",
    "    A[O, C1]  = alpha3\n",
    "    A[O, IF]  = beta4\n",
    "    A[IF,O] = alpha4\n",
    "    A[IF,C1] = beta5\n",
    "    A[C1,IF] = alpha5\n",
    "    A[IC2,C2] = beta5\n",
    "    A[C2,IC2] = alpha5\n",
    "    A[IC3,C3] = beta5\n",
    "    A[C3,IC3] = alpha5\n",
    "    A[IF,IM1] = beta6\n",
    "    A[IM1,IF] = alpha6\n",
    "    A[IM1,IM2] = beta7\n",
    "    A[IM2,IM1] = alpha7    \n",
    "    \n",
    "    for i in range(n):\n",
    "        A[i,i] = -math.fsum(A[:,i])\n",
    "    \n",
    "    return A"
   ]
  },
  {
   "cell_type": "code",
   "execution_count": null,
   "metadata": {
    "collapsed": true
   },
   "outputs": [],
   "source": [
    "import numpy.linalg as lin\n",
    "def Markov_Na_Init(V,P):\n",
    "    b = np.zeros(9)\n",
    "    A = Markov_Na_Matrix(P,V)\n",
    "    A[-1,:] = 1;\n",
    "    b[-1] = 1\n",
    "    \n",
    "    return lin.solve(A,b)"
   ]
  },
  {
   "cell_type": "code",
   "execution_count": null,
   "metadata": {
    "collapsed": true
   },
   "outputs": [],
   "source": [
    "def Markov_Na(y,t,V,P):\n",
    "    # Initialize the output vector\n",
    "    dim = y.shape\n",
    "    dy = np.zeros((dim))\n",
    "    A = Markov_Na_Matrix(V,P)\n",
    "    \n",
    "    dy = A.dot(y)\n",
    "    return dy"
   ]
  },
  {
   "cell_type": "code",
   "execution_count": null,
   "metadata": {},
   "outputs": [],
   "source": [
    "from scipy.integrate import odeint\n",
    "\n",
    "#Na Channel parameter set \n",
    "P1 = np.zeros((31))\n",
    "P1[0] = 3.802; P1[1] = 0.1027;P1[2] = 2.5;P1[3] = 17;P1[4] = 15;P1[5] = 12;P1[6] = 0.2;P1[7] = 0.23;P1[8] = 0.25;\n",
    "P1[9] = 0.1917; P1[10] = 20.3;\n",
    "P1[11] = 0.2; P1[12] = 2.5;\n",
    "P1[13] = 0.22; P1[14] = 7.5;\n",
    "P1[15] = 0.188495; P1[16] = 16.6; P1[17] = 0.393956;\n",
    "P1[18] = 7e-07; P1[19] = 7.2; \n",
    "P1[20] = 0.0084/1.9; P1[21] = 2e-05; \n",
    "P1[22] = 100; \n",
    "P1[23] = 8.9554e-07; P1[24] = 11.3944; \n",
    "P1[25] = 4.8696e-05; P1[26] = 23.2696; \n",
    "P1[28] = 2.868e-04; P1[29] = 35.9898;\n",
    "P1[30] = 7\n",
    "#P1[30] = 1e-08/1000;\n",
    "#P1[31] = 9.8e-03/1000;\n",
    "\n",
    "V_init = -90   \n",
    "y0 = Markov_Na_Init(P1,V_init)\n",
    "\n",
    "#print (y0)\n",
    "    \n",
    "t = np.linspace(0,1,1001) \n",
    "V_hold = 40 \n",
    "y = odeint(Markov_Na, y0, t, (V_hold, P1))\n",
    "\n",
    "O = y[:,0]\n",
    "IF = y[:,1]\n",
    "IM1 = y[:,2]\n",
    "IM2 = y[:,3]\n",
    "C3 = y[:,4]\n",
    "C2 = y[:,5]\n",
    "C1 = y[:,6]\n",
    "IC3 = y[:,7]\n",
    "IC2 = y[:,8]\n",
    "\n",
    "plt.plot(t,O,t,C3,t,IF); plt.legend((r'$O$',r'$C3$',r'$IF$')); plt.show()"
   ]
  },
  {
   "cell_type": "code",
   "execution_count": null,
   "metadata": {
    "collapsed": true
   },
   "outputs": [],
   "source": [
    "def Activation(P,V,model):\n",
    "    \n",
    "    # Make a more realistic I_Na current, where the conductance is voltage depedendet\n",
    "    R = 8314 # mJ/(K mol)\n",
    "    T = 273.0+37.0 #  K\n",
    "    F = 96485.33289 # C/mol \n",
    "    Na_o = 140.0\n",
    "    Na_i = 10.0;\n",
    "    E_Na = (R*T/F)*math.log(Na_o/Na_i) # mV\n",
    "    \n",
    "    #configure activation protocol\n",
    "    step_duration = 1000\n",
    "    ntsteps = int(step_duration*100)\n",
    "    \n",
    "    #initialize outputs\n",
    "    Po_out = np.zeros((ntsteps,len(V)))\n",
    "    model_I = np.zeros((ntsteps,len(V)))\n",
    "    model_peaks = np.zeros((len(V)))\n",
    "    \n",
    "    #step through the test potentials in your reference data\n",
    "    for idx,i in enumerate(V): \n",
    "        V_hold = -90\n",
    "        if model == 1: # Markov model\n",
    "            # First reset your initial conditions to the holding potential at the beginning of each step\n",
    "            # Question: Is this always a good idea? Why or why not?\n",
    "            y0 = Markov_Na_Init(P1,V_hold)\n",
    "            # Run the model\n",
    "            t = np.linspace(0,10,100000) \n",
    "            y = odeint(Markov_Na, y0, t, (V[idx], P1))\n",
    "            #store the open probability data and calculate the error metrics\n",
    "            Po_out[:,idx] = y[:,0]\n",
    "            model_I[:,idx] = P1[-1]*Po_out[:,idx]*(V[idx]-E_Na)\n",
    "            model_peaks[idx] = model_I[:,idx].min()\n",
    "            out = {'t':t, 'Po':Po_out,'I':model_I,'I_peak':model_peaks}\n",
    "        else:\n",
    "            y0 = [0,1] # More simple initialization \n",
    "            t = np.linspace(0,10,100000) \n",
    "            y = odeint(HH, y0, t, (V[idx], HH_P))\n",
    "            #store the open probability data and calculate the error metrics\n",
    "            m = y[:,0]\n",
    "            h = y[:,1] \n",
    "            Po_out[:,idx] = pow(m,3)*h   \n",
    "            model_I[:,idx] = HH_P[-1]*Po_out[:,idx]*(V[idx]-E_Na)\n",
    "            model_peaks[idx] = model_I[:,idx].min()\n",
    "            out = {'t':t, 'Po':Po_out,'I':model_I,'I_peak':model_peaks}\n",
    "      \n",
    "    return out\n",
    "\n"
   ]
  },
  {
   "cell_type": "code",
   "execution_count": null,
   "metadata": {
    "collapsed": true
   },
   "outputs": [],
   "source": [
    "V_steps = np.arange(-100,50,10)\n",
    "HH_dats = Activation(HH_P,V_steps,0)\n",
    "HH_I_peaks = HH_dats['I_peak']\n",
    "HH_I = HH_dats['I']\n",
    "HH_Po = HH_dats['Po']\n",
    "HH_t = HH_dats['t']\n",
    "\n",
    "Markov_dats = Activation(P1,V_steps,1)\n",
    "Markov_I_peaks = Markov_dats['I_peak']\n",
    "Markov_I = Markov_dats['I']\n",
    "Markov_Po = Markov_dats['Po']\n",
    "Markov_t = Markov_dats['t']\n",
    "#print (t)\n",
    "#print (Po)\n",
    "#print (model_I)\n",
    "    "
   ]
  },
  {
   "cell_type": "code",
   "execution_count": null,
   "metadata": {},
   "outputs": [],
   "source": [
    "plt.figure()\n",
    "plt.plot(HH_t,HH_Po,'b')\n",
    "plt.plot(Markov_t,Markov_Po,'r')\n",
    "plt.xlabel('time [ms]')\n",
    "plt.ylabel('Open probability (normalized conductance)')"
   ]
  },
  {
   "cell_type": "code",
   "execution_count": null,
   "metadata": {},
   "outputs": [],
   "source": [
    "plt.figure()\n",
    "plt.plot(Markov_t,Markov_I,'r')\n",
    "plt.plot(HH_t,HH_I,'b')\n",
    "plt.xlabel('time [ms]')\n",
    "plt.ylabel('Current')"
   ]
  },
  {
   "cell_type": "code",
   "execution_count": null,
   "metadata": {},
   "outputs": [],
   "source": [
    "plt.figure()\n",
    "plt.plot(V_steps,peaks,'b-')\n",
    "plt.plot(V_steps,HH_I_peaks,'r-')\n",
    "plt.plot(V_steps,Markov_I_peaks,'g-')\n",
    "plt.xlabel('Step potential [mV]')\n",
    "plt.ylabel('Current (A/F)')"
   ]
  },
  {
   "cell_type": "code",
   "execution_count": null,
   "metadata": {
    "collapsed": true
   },
   "outputs": [],
   "source": []
  }
 ],
 "metadata": {
  "kernelspec": {
   "display_name": "Python 3",
   "language": "python",
   "name": "python3"
  },
  "language_info": {
   "codemirror_mode": {
    "name": "ipython",
    "version": 3
   },
   "file_extension": ".py",
   "mimetype": "text/x-python",
   "name": "python",
   "nbconvert_exporter": "python",
   "pygments_lexer": "ipython3",
   "version": "3.6.1"
  }
 },
 "nbformat": 4,
 "nbformat_minor": 1
}
