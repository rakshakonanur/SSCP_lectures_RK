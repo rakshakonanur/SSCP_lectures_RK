{
 "cells": [
  {
   "cell_type": "markdown",
   "metadata": {},
   "source": [
    "# L6—Ion current models and their roles in the action potential\n",
    "\n",
    "We have now arrived at the point where we can start specifically describing the models used to simulate different species of ion channel in the heart and elsewhere. In general, modelling of cardiac ion channels has become more detailed than it is in many other fields. This is largely because the role of more subtle dynamics and functional effects can be addressed with more certainty in a tissue with less variable cellular electrophysiology. For example, it is possible to link a number of measurable defects in ion channel function ('channelopathies') to their manifestations for cardiac cellular and tissue electrophysiology. While these channels are also present in other tissues it is often less straightforward to map the mechanisms from protein to tissue in those organs (e.g. brain) because there is greater diversity in cellular electrical function.\n",
    "\n",
    "In this notebook we will go through some of the unique behaviours of the most important ion channels in the heart, most of which also have important roles in the brain and other tissues."
   ]
  },
  {
   "cell_type": "markdown",
   "metadata": {},
   "source": [
    "## $I_{Na}$ \n",
    "\n",
    "Voltage-gated sodium channels are some of the best-characterized species of channels. We have already mentioned their very rapid activation and inactivation kinetics. It should also be clear that these channels are highly expressed in cells that have a rapid action potential upstroke, because the current to carry this upstroke must be large.\n",
    "\n",
    "As we've already discussed, these basic characteristics of cardiac ion channel function can be relatively well captured by simple Hodgkin-Huxley type model:\n",
    "\n",
    "$$ I_{\\rm Na} = g_{\\rm Na} m^3 h(V-E_{\\rm Na}). $$\n",
    "$$ \\frac{{\\rm d}m}{{\\rm d}t} = \\alpha_m (1-m)-\\beta_m. m$$\n",
    "$$ \\frac{{\\rm d}h}{{\\rm d}t} = \\alpha_h (1-h)-\\beta_h. h$$\n",
    "\n",
    "This model is sufficient for characterisation of $I_{\\rm Na}$ in most rapidly repolarizing cells (< 10ms). For this reason, these formulations are everywhere in neuroscience, and specific characterisations (e.g. the effect of a genetic mutation on the voltage-dependence of activation) can be reflected by subtle changes to the parameters used to calculate the rates $\\alpha$ and $\\beta$.\n",
    "\n",
    "However, there are a couple of important extra considerations for cardiac $I_{Na}$. The first, mentioned briefly in the previous lecture, is that when cardiac sodium channels are exposed to prolonged depolarization, they become much slower to recover from inactivation. This is important to capture frequency dependence in cardiac cells which have action potentials that are slow to repolarize (> 200 ms in humans). To account for this, different models have added slower gating processes. One version, originally published by Beeler and Reuter in 1977 includes a third gating process, $j$, with kinetics about 1 order of magnitude slower than the $h$ process: \n",
    "\n",
    "$$ I_{\\rm Na} = g_{\\rm Na} m^3 hj(V-E_{\\rm Na}). $$\n",
    "\n",
    "This model is also used in the more recent Grandi-Bers formulations we will work with later.\n",
    "\n",
    "Further, experimetnal characterisation suggested that there may be more than just 2 components of recovery from inactivation in cardiac $I_{Na}$. These were called various different names, but intermediate, and deep inactivation have stuck. In 2000, Clancy and Rudy introduced a comprehensive Markov model of cardiac $I_{Na}$ gating that included these additional states, and was used to models specific mutations in the voltage dependence of inactivation:\n",
    "\n",
    "<img src=\"fig/NaV1.5.png\" width=500>\n",
    "The Clancy-Rudy Markov model [Adapted from Rudy and Silva. Quart. Rev. Biophys. 2006.]\n",
    "\n",
    "A final major characteristic of cardiac $I_{\\rm Na}$ gating incorporated in most modern models, is some form of what is referred to as late $I_{\\rm Na}$ ($I_{\\rm Na,L}$. This is a component of the current that is non-inactivating when observed at the whole-cell level and thought to result from a \"burst-mode\" of channel gating where a small fraction of channels rapidly flicker between being closed and open, but fail to inactivate. Behaviour at each level is shown below along with the burst-mode states that give rise to the behaviour in a modification of the model above.\n",
    "\n",
    "<img src=\"fig/Late_INa.png\" width=1000>\n",
    "[Figure from Zaza et al. Pharmacol. Therap. 2008; Coppini et al. Circulation. 2012; Grandi et al. Biophys. J. 2007.]\n",
    "\n",
    "This general Markov formulation of cardiac $I_{\\rm Na}$ has also been extended to incorporate the complex interaction of drugs with this channel. It is now often the case that drug-binding is assumed not to only act at specific states of the channel, but binding to any accessible state is then capable of modifying all channel transitions (schematic shown below). We discuss this approach more in lectures 5 and 6.\n",
    "\n",
    "<img src=\"fig/Morotti.png\" width=400>\n",
    "[Figure from Morotti et al. J. Mol. Cell. Cardiol. 2016.]"
   ]
  },
  {
   "cell_type": "markdown",
   "metadata": {},
   "source": [
    "## $I_{CaL}$ \n",
    "\n",
    "The L-type calcium channel (CaV1.2 alpha subunit protein) is the major calcium channel in the sarcolemma of undiseased cardiac myocytes. This channel is one of the key links for driving intracellular calcium release in a process called calcium-induced-calcium-release (CICR). In cardiac cells the current passing through these channels strongly modulates action potential duration, but in neurons it is overwhelmed by the very large outward $K^+$ currents. This has important implications for how we model the channel because \"turning it off\" is much more complex than turning it on.\n",
    "\n",
    "The activation process is very similar for $I_{CaL}$ as for $I_{Na}$ and is aptly modelled by Hodgkin-Huxley formulations. Typically you will see the activation gating process modelled by a variable named $d$.\n",
    "\n",
    "Where: $$\\frac{{\\rm d} d}{{\\rm d} t} = \\alpha{}(1-d)-\\beta{}d$$\n",
    "\n",
    "As mentioned above, the peculiarities begin with inactivation of the channel. There are two major processes that determine this. First there is a clear mechanism of voltage dependent inactivation, but compared to $I_{Na}$ that process is both slow and incomplete. So as a mechanism for reducing $I_{CaL}$, it is relatively weak. Much stronger is calcium-dependent channel inactivation. This form of inactivation is more difficult to model because it depends greatly on the very local concentration of calcium in thevvicinity of the intracellular side of the channel. As you'll see in our discussion of CICR, this concentration can change rapidly and by several orders of magnitude, and is distributed around the clusters of channels that make up the intracellular calcium release units. This means that accurately representing calcium-dependent inactivation of the population of calcium channels in a cell is very difficult, and very tightly integrated with how the calcium cycling system is implemented. In the Hodgkin Huxley formulations, this calcium-sensitivity has been represented by:\n",
    "\n",
    "$$\\frac{{\\rm d}f_{CaB}}{{\\rm d}t} = \\alpha{}[Ca^{2+}]_{dyad}(1-f_{CaB})-\\beta{}f_{CaB}.$$\n",
    "\n",
    "Because $f_{CaB}$ grows as the amount of calcium bound increases we need to use the fraction of unbound channels as our coefficient in the overall gating equation:\n",
    "\n",
    "$$f_{Ca} = 1 - f_{CaB}.$$\n",
    "\n",
    "$$I_{CaL} = df_{V}f_{Ca}\\bar{I}_{x}.$$\n",
    "\n",
    "Here, $d$, $f_V$, and $f_{Ca}$ are the gating terms, and you will notice that the conductance and driving force are combined in the term $\\bar{I}_{x}$. This is the final peculiarity we will mention here. It arises because the peak voltage driven conductance for this channel is modelled by the Goldman-Hodgkin-Katz (GHK) current equation. This is chosen for two reasons: (1) This channel is permeant to $Ca^{2+}$, $K^{+}$, and $Na^{+}$, so the overall current is contributed by all three, although $Ca^{2+}$ permeation contributes the lion's share; (2) becuse intracellular calcium is normally so low (about 100 nM), the concentration gradient across the membrane is very steep, and the nonlinear formulation in the GHK current equation is often a better predictor with such a high gradient, and especially with such low intracellular calcium concentrations. Here is the common GHK formulation from Shannon and Bers. Biophys. J. 2004.\n",
    "\n",
    "$$ \\bar{I}_{x} = P_{x}z_{x}^2V\\frac{F^{2}}{RT}\\frac{\\gamma_{xi}[X_i]e^{\\frac{z_{x}VF}{RT}}-\\gamma_{xo}[X_{o}]}{e^{{\\frac{z_{x}VF}{RT}}}-1}$$\n",
    "\n",
    "Finally, Markov models have also been defined to account explicitly for calcium binding and its contribution to the inactivation processes. The model below from Mahajan et al. Biophys. J. 2008. \n",
    "\n",
    "<img src=\"fig/Mahajan.png\" width=600>\n",
    "[Figure from Mahajan et al. Biophysical Journal. 2008.]"
   ]
  },
  {
   "cell_type": "markdown",
   "metadata": {
    "collapsed": true,
    "jupyter": {
     "outputs_hidden": true
    }
   },
   "source": [
    "## Fast-activating $I_{K}$ currents\n",
    "\n",
    "The next important class of currents are the fast-activating potassium currents. As you will see in the exercises, these currents can dramatically alter the shape of early repolarization, and cause bifurcations in action potential duration by preventing full $I_{CaL}$ activation. In this way, differing levels of expression in the currents carried by the Kv4.x family are critical for determining differences in ventricular AP morphology across species. Higher expression of these channels, which carry the fast component of the transient outward current ($I_{to,f}$) in the heart, and are carried by identical channels as the A-type current in neurons, make for much of the difference in action potential duration across excitable cells. Another important current in the heart is the ultra-rapidly activating delayed rectifier current ($I_{Kur}$), which we will use as a basis for model construction in lecture 5. $I_{Kur}$ is carried mostly by an alpha subunit called Kv1.5 and it is important for us because it is one of the major currents distinguishing atrial and ventricular electrophysiology. \n",
    "\n",
    "### $I_{to}$\n",
    "\n",
    "The history of this current is long. In neurons it was observed as the A-type current and different from the other major voltage-dependent current (delayed rectifier) in that it inactivated in relatively short time (10's of ms). In the heart it was observed as a large outward (positive) current. The cardiac current was later found to have 3 components. The first is Ca$^{2+}$-sensitive and carried by chloride ($I_{CaCl}$, sometimes called $I_{to2}$). The $K^+$-carried current (originally called $I_{to1}$) can then be separated into two further components based on kinetics, and are called the fast ($I_{to,f}$ and slow ($I_{to,s}$ components. The difference in kinetics is obvious to see in the decay phase of the current (figure below), but the names are given because $I_{to,s}$ also recovers much more slowly from inactivation, which is important in the heart becuase it impacts frequency-dependence in certain regions. $I_{to,f}$ is carried by a family of proteins (Kv4.1-3), and $I_{to,s}$ by Kv1.4. Models for both $K^+$-carried currents are most often described as simple Hodgkin-Huxley formulations, because the dynamics of inactivation and recovery from inactivation are fairly straightforward to fit with simple single kinetic gating processes (although they are quite different between $I_{to,f}$ and $I_{to,s}$). Below is a version that is slightly unique because it incorporates a rectification term, $R$. While present, the rectification in this channel is relatively weak in comparison with other K$^+$ channels, particularly $I_{K1}$ (from Dong et al. AJP-Heart. 2006).\n",
    "\n",
    "$$I_{to,x} = g_{to}mhR(V-E_{k}).$$\n",
    "\n",
    "<img src=\"fig/Ito.png\" width=600>\n",
    "[Figure from Dong et al. AJP-Heart. 2006.]\n",
    "\n",
    "Other more exotic gating schemes have also been modelled (Zhou et al. PLoS One. 2012) to explore more elaborate gating schemes that have been suggested by forced mutation to these proteins, but generally these are unnecessary for capturing the essential function.\n",
    "\n",
    "### $I_{Kur}$ \n",
    "\n",
    "If you start working with ion currents you will find there are many kinds of delayed rectifier current. We usually talk about three types in the heart. The first is the ultrarapidly activating delayed rectifier current ($I_{Kur}$), and its name indicates how it differs from the other two by at least appearing to activate much more rapidly. As mentioned above, this current is largely thought to be carried by Kv1.5 channels, but may also have a significant contribution from the Kv2.x family. Kv2.x channels are very important in neurons, and were those measured in the original Hodgkin and Huxley experiments.\n",
    "\n",
    "The two most important characteristics of $I_{Kur}$, are that it activates very rapidly, and inactivates slowly and usually not completely. As for most channels, basic modelling of this current can be achieved with very compact HH type models, and simple Boltzmann-fit rate constants. However, because this current has quickly become an interesting pharmacologic target, there are now also more complex Markov gating schemes to allow for analysis of state-specific binding characteristics, which certainly impact the pharmacodynamics. We will work with one of these models in an optimisation exercise during lecture 5. Below we show the model with two opposing drug-binding schemes.\n",
    "\n",
    "<img src=\"fig/IKur_markov_drug.png\" width=900>\n",
    "[Figure from Ellinwood et al. Frontiers in Pharmacology. 2017.]\n"
   ]
  },
  {
   "cell_type": "markdown",
   "metadata": {},
   "source": [
    "## Slow-activating $I_{K}$ currents\n",
    "\n",
    "The second class of $K^+$ currents we will discuss are those that are active later in cardiac the action potential. There are two major voltage-activated components, the rapidly-activating ($I_{Kr}$), and slow-activating ($I_{Ks}$) delayed rectifiers. These currents are active in the plateau phase of the ventricular action potential and roughly in balance with $I_{CaL}$ in the range near 0 mV, which is what permits the plateau. However, it is important for final repolarization tnat they progressively activate while $I_{CaL}$ inactivates or deactivates. The kinetic properties of these two delayed rectifiers are very much built to achieve this stable but delayed repolarization. This allows enough time for $Ca^{2+}$ to enter via $I_{CaL}$ and drive contraction, but prevents runaway action potentials that never repolarize. Of course, the limits of this stability can be exceeded, and can be assessed with some classical nonlinear stability theory. We may get the chance to discuss this in lecture. Finally a key current in the very last ms of repolarization, and thereafter at resting potential, is the inward rectifier $K^+$ current ($I_{K1}$). This current is potently rectified such that it really only conducts at potentials negative to -40 mV. While this may seem like a minor characteristic, it is actually extraordinarily important for permitting the long plateau of the cardiac AP. That plateau both permits the Ca$2+$ influx that maintains cellular Ca$2+$ balance and cardiac contraction, and it limits the opportunity for reentrant conduction by enforcing a lengthy refractory period.\n",
    "\n",
    "## $I_{Kr}$\n",
    "\n",
    "The basic dynamics of $I_{Kr}$ are probably the most unusual of any channel we will discuss. This current exhibits voltage-dependent activation and inactivation that have steady-state characteristics which are roughly similar to other major potassium currents. However, it has very unusual activation and inactivation kinetics. They are the reverse of most channels. In most cases a current will have steady-state voltage dependencies where there is very little crossover between activation and inactivation i.e. channels inactivate at more negative potentials than they activate. This means that they must also have faster activation than inactivation, otherwise they would never open during the action potential. $I_{Kr}$ is different. At the beginning of the action potential it inactivates very rapidly, and most channels remain inactive through most of the ventricular plateau. Then, as the action potential repolarizes, $I_{Kr}$, carried by the HERG (Kv11.1) channel, increases as the channels recover from inactivation.\n",
    "\n",
    "<img src=\"fig/IKr.png\" width=900>\n",
    "[Figure from Zhou et al. J.Physiol. 2009.]\n",
    "\n",
    "These dynamics can be captured by HH models simply with reveresed kinetic chaacteristics, however, as for $I_{Kur}$, $I_{Kr}$ has become one of the most investigated drug targets. In this case it is because unintended block of HERG channels by drugs developed for many targets has resulted in arrhythmia. As a result Markov models have become common-place because they offer more detailed interrogation of the necessary bindinfg dynamics. Below is a range of models that have bene applied to understand different modes of block.\n",
    "\n",
    "<img src=\"fig/IKr_drug.png\" width=900>\n",
    "[Figure from Romero et al. JMCC. 2015.]\n",
    "\n",
    "## $I_{Ks}$\n",
    "\n",
    "$I_{Ks}$ offers the opposite kinetic case to $I_{Kr}$. It exhibits very little or no discernible inactivation, and activates very slowly, gradually building over the first 150 - 200 ms of the action potential. This allows it to progressively turn the trajectroy of the action potential negatively, which facilitates further recruitment of $I_{Kr}$ and eventually $I_{K1}$. While this seems like it should be a very simple kinetic model to handle, there is one unusual characteristic with important physiological relevance. It is that deactivation of $I_{Ks}$ also proceeds very slowly, and in the context of multiple pulses spaced at short intervals the change in current is more than might be anticipate by a single deactivation step that is identical to activation. Thus is important becuase this property is thought to contribute meaningfully to the frequency-dependence action potential duration, a key marker of arrhythmia susceptibility.\n",
    "\n",
    "In the Markov model shown below, the authors have been able to replicate that use- and frequency-dependence by incroporating a channel with two transitions for each voltage sensor. This separation of the activation kinetics allows accumulation in the final state before opening, and increases the overall current at higher beating frequency.\n",
    "\n",
    "<img src=\"fig/IKs.png\" width=400>\n",
    "[Figure from Silva and Rudy et al. Circ. Res. 2007.]\n",
    "\n",
    "## $I_{K1}$\n",
    "\n",
    "Now we arrive at the current that sets resting membrane potential in the heart, $I_{K1}$. This is often simply named the inward rectifier $K^+$ current for its strong rectification characteristics, which are very obvious in the whole-cell I-V relationship, and the single channel recordings below.\n",
    "\n",
    "<img src=\"fig/IK1.png\" width=1000>\n",
    "[Figure from Koumi et al. Circulation. 1995.]\n",
    "\n",
    "The rectification itself is thought to be dependent not on an intrinsic conformatoinal change in the channel due to voltage, but rather because intracellular polyamines are attracterd to the channel pore at depolarized voltages, and this induces a direct pore-block mechanism. This is also thought happen to a lesser extent with Magnesium ions. As a result of these mechanisms, a gating term is introduced to common $I_{K1}$ formulations but it is assumed to be at equilibrium rather than time-varying.\n"
   ]
  }
 ],
 "metadata": {
  "kernelspec": {
   "display_name": "Python 3 (ipykernel)",
   "language": "python",
   "name": "python3"
  },
  "language_info": {
   "codemirror_mode": {
    "name": "ipython",
    "version": 3
   },
   "file_extension": ".py",
   "mimetype": "text/x-python",
   "name": "python",
   "nbconvert_exporter": "python",
   "pygments_lexer": "ipython3",
   "version": "3.12.10"
  }
 },
 "nbformat": 4,
 "nbformat_minor": 4
}
