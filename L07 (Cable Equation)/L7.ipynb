{
 "cells": [
  {
   "cell_type": "markdown",
   "metadata": {
    "slideshow": {
     "slide_type": "slide"
    }
   },
   "source": [
    "<!-- dom:TITLE: Conduction in excitable cells - the cable equation -->\n",
    "# Conduction in excitable cells - the cable equation\n",
    "<!-- dom:AUTHOR: Joakim Sundnes/Molly Maleckar  -->\n",
    "<!-- Author: -->  \n",
    "**Molly Maleckar**\n",
    "\n",
    "Date: **June 18th, 2025**"
   ]
  },
  {
   "cell_type": "markdown",
   "metadata": {
    "slideshow": {
     "slide_type": "slide"
    }
   },
   "source": [
    "## Outline\n",
    "* Introduction\n",
    "\n",
    "  * History\n",
    "\n",
    "  * Brief overview of neurons\n",
    "\n",
    "* Derivation of the cable equation\n",
    "\n",
    "* Scaling/dimensionless form\n",
    "\n",
    "* Example models"
   ]
  },
  {
   "cell_type": "markdown",
   "metadata": {
    "slideshow": {
     "slide_type": "slide"
    }
   },
   "source": [
    "## We will use it to describe signal conduction in neurons, but there's a reason it is called the cable equation...\n",
    "<!-- dom:FIGURE: [./figs/atlantic_cable1.jpg, width=800 frac=1.0] -->\n",
    "<!-- begin figure -->\n",
    "\n",
    "<p></p>\n",
    "<img src=\"./figs/atlantic_cable1.jpg\" width=800>\n",
    "\n",
    "<!-- end figure -->\n",
    "\n",
    "<!-- FIGURE: [./figs/atlantic_cable2, width=500 frac=1.0] -->"
   ]
  },
  {
   "cell_type": "markdown",
   "metadata": {},
   "source": [
    "# Cable Equation and Cable Theory: Historical Development\n",
    "\n",
    "---\n",
    "\n",
    "**From Telegraph Lines to Modern Transmission Theory**\n",
    "\n",
    "Mathematical foundations that emerged from 19th-century telecommunications and shaped our understanding of signal propagation\n",
    "\n",
    "---\n",
    "\n",
    "### Key Historical Figures\n",
    "\n",
    "**Lord Kelvin (1850s)**  \n",
    "Early diffusion models for submarine telegraph cables\n",
    "\n",
    "**Oliver Heaviside (Late 1870s)**  \n",
    "Advanced transmission line theory and wave propagation\n",
    "\n",
    "---\n",
    "\n",
    "*This presentation covers the historical development from Lord Kelvin's early work through Heaviside's contributions to modern applications in computational biology.*"
   ]
  },
  {
   "cell_type": "markdown",
   "metadata": {},
   "source": [
    "# Early Diffusion Models (1850s)\n",
    "\n",
    "<img src=\"figs/lord_kelvin.jpg\" alt=\"Lord Kelvin\" width=\"300\" style=\"float: right; margin-left: 20px;\">\n",
    "\n",
    "## Lord Kelvin's Work\n",
    "\n",
    "**William Thomson (later Lord Kelvin)** developed the first mathematical model to understand signal behavior in submarine telegraph cables.\n",
    "\n",
    "### The Diffusion Approach\n",
    "- Modeled signal propagation as a diffusion process, similar to heat conduction\n",
    "- Applied mathematical techniques from heat transfer theory\n",
    "- Focused on understanding signal attenuation over distance\n",
    "\n",
    "### Observed Limitations\n",
    "- Could not fully explain observed delays and signal degradation in long cables\n",
    "- Model predictions didn't match experimental results for transatlantic cables\n",
    "- Missing key physical phenomena in signal transmission\n",
    "\n",
    "### Historical Context\n",
    "The first transatlantic telegraph cable attempts were driving the need for better understanding of signal transmission over long distances.\n",
    "\n",
    "---\n",
    "<img src=\"figs/telegraph_cable.jpg\" alt=\"Telegraph Cable Operations\" width=\"400\">\n",
    "\n",
    "*Early submarine telegraph cable laying operations*\n",
    "\n",
    "---\n",
    "\n",
    "**Lord Kelvin (William Thomson)**  \n",
    "*1824-1907*  \n",
    "Pioneered the mathematical analysis of submarine cable transmission\n"
   ]
  },
  {
   "cell_type": "markdown",
   "metadata": {},
   "source": [
    "# Heaviside's Contribution (Late 1870s)\n",
    "\n",
    "<img src=\"figs/oliver_heaviside.jpg\" alt=\"Oliver Heaviside\" width=\"300\" style=\"float: right; margin-left: 20px;\">\n",
    "\n",
    "## Advanced Transmission Line Theory\n",
    "\n",
    "**Oliver Heaviside** began his work on transmission line theory, advancing our understanding of signal propagation.\n",
    "\n",
    "### Wave Propagation Theory\n",
    "\n",
    "Introduced the concept that signals don't just diffuse but also travel as waves along transmission lines.\n",
    "\n",
    "**Key Insight:** Combined diffusion and wave propagation effects to create a more complete model of signal transmission.\n",
    "\n",
    "### Beyond Kelvin's Model\n",
    "\n",
    "Advanced understanding by recognizing the dual nature of signal propagation on transmission lines.\n",
    "\n",
    "| Kelvin's Approach | Heaviside's Approach |\n",
    "|-------------------|---------------------|\n",
    "| Diffusion Only    | Diffusion + Waves   |\n",
    "| Heat equation analogy | Electromagnetic wave theory |\n",
    "| Limited accuracy | Improved predictions |\n",
    "\n",
    "---\n",
    "\n",
    "**Oliver Heaviside**  \n",
    "*1850-1925*  \n",
    "Self-taught Physicist\n",
    "\n",
    "**Timeline: Late 1870s**  \n",
    "Heaviside began his work on transmission line theory, advancing our understanding of signal propagation.\n",
    "\n",
    "---\n",
    "\n",
    "### Theoretical Advancement\n",
    "\n",
    "Heaviside's work represented a significant step forward in understanding electromagnetic signal propagation, moving beyond the purely diffusive models to incorporate wave-like behavior."
   ]
  },
  {
   "cell_type": "markdown",
   "metadata": {},
   "source": [
    "# The Telegrapher's Equations\n",
    "\n",
    "## Heaviside's Mathematical Framework\n",
    "\n",
    "### Partial Differential Equations\n",
    "\n",
    "**Voltage Equation:**\n",
    "$$\\frac{\\partial V}{\\partial x} = -R \\cdot I - L \\frac{\\partial I}{\\partial t}$$\n",
    "\n",
    "**Current Equation:**\n",
    "$$\\frac{\\partial I}{\\partial x} = -G \\cdot V - C \\frac{\\partial V}{\\partial t}$$\n",
    "\n",
    "### Wave Equation Form\n",
    "\n",
    "Combining the equations yields:\n",
    "\n",
    "$$\\frac{\\partial^2 V}{\\partial x^2} = LC \\frac{\\partial^2 V}{\\partial t^2} + (RC + LG) \\frac{\\partial V}{\\partial t} + RG \\cdot V$$\n",
    "\n",
    "---\n",
    "\n",
    "## Line Parameters\n",
    "\n",
    "| Parameter | Description |\n",
    "|-----------|-------------|\n",
    "| **R** | Resistance per unit length |\n",
    "| **L** | Inductance per unit length |\n",
    "| **C** | Capacitance per unit length |\n",
    "| **G** | Conductance per unit length |\n",
    "\n",
    "## Variables\n",
    "\n",
    "| Variable | Description |\n",
    "|----------|-------------|\n",
    "| **V** | Voltage - Function of position (x) and time (t) |\n",
    "| **I** | Current - Function of position (x) and time (t) |\n",
    "\n",
    "---\n",
    "\n",
    "### Mathematical Description\n",
    "\n",
    "These equations describe both the spatial and temporal evolution of voltage and current, capturing the wave-like nature of signal propagation.\n",
    "\n",
    "The telegrapher's equations represent a fundamental advance in understanding electromagnetic wave propagation in guided media, forming the basis for modern transmission line theory."
   ]
  },
  {
   "cell_type": "markdown",
   "metadata": {},
   "source": [
    "# Historical Significance and Impact\n",
    "\n",
    "## Practical Applications and Theoretical Advances\n",
    "\n",
    "### Cable Design Improvements\n",
    "Heaviside's equations - outlined limitations of early transatlantic cables and guided design improvements.\n",
    "\n",
    "**Result:** Improved cable designs with better signal integrity over long distances.\n",
    "\n",
    "### Theoretical Foundation\n",
    "Provided mathematical foundation for understanding signal propagation in various transmission line applications...\n",
    "And beyond!\n",
    "\n",
    "**Impact:** Enabled systematic analysis of electromagnetic wave propagation in guided media.\n",
    "\n",
    "### Extended Applications\n",
    "Extended beyond telegraph cables to radio frequency conductors, power lines, and other transmission systems.\n",
    "\n",
    "**Application:** Universal principles applicable to electromagnetic transmission lines.\n",
    "\n",
    "---\n",
    "\n",
    "## Timeline of Development\n",
    "\n",
    "| Period | Development |\n",
    "|--------|-------------|\n",
    "| **1850s** | Kelvin's diffusion model - limited success |\n",
    "| **Late 1870s** | Heaviside's wave theory development |\n",
    "| **1880s onwards** | Practical cable improvements implemented |\n",
    "\n",
    "---\n",
    "\n",
    "<img src=\"figs/cable_map.jpg\" alt=\"Transatlantic Cable Network\" width=\"600\">\n",
    "\n",
    "*Historical map showing the submarine cable networks that benefited from theoretical advances in transmission line theory*\n",
    "\n",
    "---\n",
    "\n",
    "### Impact Summary\n",
    "\n",
    "Heaviside's work provided the theoretical framework that enabled:\n",
    "- Better understanding of signal attenuation and distortion\n",
    "- Improved cable design and construction\n",
    "- Foundation for modern electromagnetic theory\n",
    "- Applications beyond telegraphy to radio and power systems\n"
   ]
  },
  {
   "cell_type": "markdown",
   "metadata": {},
   "source": [
    "# Modern Applications and Legacy\n",
    "\n",
    "## Contemporary Relevance in Technology\n",
    "\n",
    "### High-Speed Data Transmission\n",
    "Modern fiber optic cables, coaxial cables, and high-frequency transmission lines still rely on Heaviside's fundamental principles.\n",
    "\n",
    "**Applications:**\n",
    "- Ethernet networks\n",
    "- RF communication systems\n",
    "- High-speed digital interconnects\n",
    "- Optical fiber systems\n",
    "\n",
    "### Power Distribution\n",
    "Electrical power transmission lines use the same mathematical framework for analyzing voltage and current distribution.\n",
    "\n",
    "**Applications:**\n",
    "- Electrical grid systems\n",
    "- Power distribution networks\n",
    "- High-voltage transmission lines\n",
    "- Smart grid technologies\n",
    "\n",
    "---\n",
    "\n",
    "## Contemporary Relevance\n",
    "\n",
    "### Computational Biology\n",
    "Similar frameworks apply to signal propagation in neural networks and bioelectrical systems.\n",
    "\n",
    "**Applications:** Neural signal transmission, bioelectric field analysis, action potential modeling\n",
    "\n",
    "### Modern Technologies\n",
    "- **5G Networks:** Signal propagation in high-frequency systems\n",
    "- **Data Centers:** High-speed interconnects and signal integrity\n",
    "- **Satellite Communications:** RF transmission line analysis\n",
    "\n",
    "### Continued Relevance\n",
    "From 19th-century telegraph cables to modern quantum communication, the mathematical principles remain applicable.\n",
    "\n",
    "---\n",
    "\n",
    "## Summary\n",
    "\n",
    "The mathematical principles established for understanding signal propagation continue to be fundamental to modern transmission line analysis and design.\n",
    "\n",
    "### Key Applications Today:\n",
    "1. **Telecommunications:** Fiber optics, wireless systems, satellite communications\n",
    "2. **Power Engineering:** Grid analysis, transmission line design\n",
    "3. **Computational Biology:** **Neural signal modeling, bioelectrical systems**\n",
    "4. **Electronics:** High-speed digital design, signal integrity analysis\n",
    "\n",
    "---\n",
    "\n",
    "### Legacy\n",
    "\n",
    "The telegrapher's equations: one of the foundational mathematical tools in electrical engineering, with applications spanning from biomedical engineering to quantum computing systems.\n",
    "\n",
    "### Now pivoting: applications in neurobiology and beyond!"
   ]
  },
  {
   "cell_type": "markdown",
   "metadata": {
    "slideshow": {
     "slide_type": "slide"
    }
   },
   "source": [
    "## Neurons consist of three distinct parts\n",
    "\n",
    "  * Dendrite-tree, the \"input stage\" of the neuron, converges on the soma.\n",
    "\n",
    "  * Soma, the cell body, contains the \"normal\" cellular functions\n",
    "\n",
    "  * Axon, the output of the neuron, may be branched. Synapses at the ends are connected to neighboring dendrites.\n",
    "\n",
    "\n",
    "**Active vs passive.**\n",
    "\n",
    "  * Axons are excitable => active conduction\n",
    "\n",
    "  * Dendrites are non-excitable => passive conduction"
   ]
  },
  {
   "cell_type": "markdown",
   "metadata": {
    "slideshow": {
     "slide_type": "slide"
    }
   },
   "source": [
    "<!-- dom:FIGURE: [./figs/250.png, width=1000 frac=2.0] -->\n",
    "<!-- begin figure -->\n",
    "\n",
    "<p></p>\n",
    "<img src=\"./figs/Blausen_0657_MultipolarNeuron.png\" width=1000>\n",
    "\n",
    "<!-- end figure -->\n",
    "Image from Wikipedia (https://en.wikipedia.org/wiki/Neuron)\n"
   ]
  },
  {
   "cell_type": "markdown",
   "metadata": {
    "slideshow": {
     "slide_type": "slide"
    }
   },
   "source": [
    "<!-- dom:FIGURE: [./figs/250.png, width=1000 frac=2.0] -->\n",
    "<!-- begin figure -->\n",
    "\n",
    "<p></p>\n",
    "<img src=\"./figs/600px-NeuronCapacitanceRev.jpeg\" width=500>\n",
    "\n",
    "<!-- end figure -->\n",
    "Image from Wikipedia (https://en.wikipedia.org/wiki/Cable_theory)"
   ]
  },
  {
   "cell_type": "markdown",
   "metadata": {
    "slideshow": {
     "slide_type": "slide"
    }
   },
   "source": [
    "## Why is the cable equation important?\n",
    "\n",
    "* Fundamental for modeling neurons\n",
    "\n",
    "* Signal propagation in Purkinje network\n",
    "\n",
    "* Extends to cardiac conduction in 3D (bidomain, monodomain)"
   ]
  },
  {
   "cell_type": "markdown",
   "metadata": {
    "slideshow": {
     "slide_type": "slide"
    }
   },
   "source": [
    "## Fundamental quantities and assumptions\n",
    "The cell typically has a potential gradient along its length. Radial components will be ignored.\n",
    "Notation:\n",
    "* $V_i$ and $V_e$ are intra- and extracellular potentials\n",
    "\n",
    "* $I_i$ and $I_e$ are intra- and extracellular (axial) current\n",
    "\n",
    "* $r_i$ and $r_e$; intra- and extracellular resistance per unit length\n",
    "\n",
    "\n",
    "\n",
    "We have\n",
    "\n",
    "$$\n",
    "r_i = \\frac{R_c}{A_i},\n",
    "$$\n",
    "\n",
    "where $R_c$ is the cytoplasmic resistivity and $A_i$ is the cross sectional area of the cable."
   ]
  },
  {
   "cell_type": "markdown",
   "metadata": {
    "slideshow": {
     "slide_type": "slide"
    }
   },
   "source": [
    "## Sketch of a discrete cable\n",
    "<!-- dom:FIGURE: [./figs/251.png, width=800 frac=0.9] -->\n",
    "<!-- begin figure -->\n",
    "\n",
    "<p></p>\n",
    "<img src=\"./figs/600px-Cable_theory_Neuron_RC_circuit_v3.svg.png\" width=600>\n",
    "<!-- end figure -->"
   ]
  },
  {
   "cell_type": "markdown",
   "metadata": {
    "slideshow": {
     "slide_type": "slide"
    }
   },
   "source": [
    "## Currents are assumed to be Ohmic\n",
    "\n",
    "The current along the axon is proportional to the potential difference:\n",
    "$$\n",
    "\\begin{align*}\n",
    "V_i(x+\\Delta x) - V_i(x) &= - I_i(x) r_i \\Delta x \\\\\n",
    "V_e(x+\\Delta x) - V_e(x) &= - I_e(x) r_e \\Delta x\n",
    "\\end{align*}\n",
    "$$\n",
    "\n",
    "In the limit:\n",
    "\n",
    "$$\n",
    "\\begin{align*}\n",
    "I_i = - \\frac{1}{r_i}  \\frac{\\partial V_i}{\\partial x} \\\\\n",
    "I_e = - \\frac{1}{r_e}  \\frac{\\partial V_e}{\\partial x}\n",
    "\\end{align*}\n",
    "$$"
   ]
  },
  {
   "cell_type": "markdown",
   "metadata": {
    "slideshow": {
     "slide_type": "slide"
    }
   },
   "source": [
    "## Conservation of current (1)\n",
    "Any current leaving the intracellular domain has to enter the\n",
    "extracellular domain, and vice-versa. Total current is conserved\n",
    "between $x$ and $x+\\Delta x$:\n",
    "\n",
    "$$\n",
    "I_i(x) - I_i(x+\\Delta x) = -(I_e(x) -  I_e(x+\\Delta x)) = I_t \\Delta x\n",
    "$$\n",
    "\n",
    "where $I_t$ is transmembrane current, per unit length.\n",
    "\n",
    "Taking the limit $\\Delta x\\rightarrow 0$ yields\n",
    "\n",
    "$$\n",
    "I_t = - \\frac{\\partial I_i}{\\partial x} = \\frac{\\partial I_e}{\\partial x}\n",
    "$$\n",
    "\n",
    "Inserting the expression for the currents ($I_{i,e} = (-1/r_{i,e}) \\partial V_{i,e}/\\partial x$) gives\n",
    "\n",
    "$$\n",
    "I_t = \\frac{1}{r_i}  \\frac{\\partial^2 V_i}{\\partial x^2}  = -\\frac{1}{r_e} \\frac{\\partial^2 V_e}{\\partial x^2}\n",
    "$$"
   ]
  },
  {
   "cell_type": "markdown",
   "metadata": {
    "slideshow": {
     "slide_type": "slide"
    }
   },
   "source": [
    "## Conservation of current (2)\n",
    "We now have the membrane current $I_t$ expressed in terms of\n",
    "$I_i,I_e$ (and $V_i,V_e$). \n",
    "\n",
    "We want a relation between the $I_t$ and the membrane\n",
    "potential $V$:\n",
    "\n",
    "$$\n",
    "\\frac{1}{r_e}  \\frac{\\partial^2 V_e}{\\partial x^2} =  - \\frac{1}{r_i}\n",
    "\\frac{\\partial^2 V_i}{\\partial x^2} =  - \\frac{1}{r_i} (  \\frac{\\partial^2 V}{\\partial x^2}+ \\frac{\\partial^2 V_e}{\\partial x^2})\n",
    "$$\n",
    "\n",
    "$$\n",
    "(\\frac{1}{r_e}+ \\frac{1}{r_i}) \\frac{\\partial^2 V_e}{\\partial x^2} =  - \\frac{1}{r_i}  \\frac{\\partial^2 V}{\\partial x^2}\n",
    "$$"
   ]
  },
  {
   "cell_type": "markdown",
   "metadata": {
    "slideshow": {
     "slide_type": "slide"
    }
   },
   "source": [
    "## Conservation of current (3)\n",
    "cont.\n",
    "\n",
    "$$\n",
    "(\\frac{1}{r_e}+ \\frac{1}{r_i}) \\frac{\\partial^2 V_e}{\\partial x^2} =  - \\frac{1}{r_i}  \\frac{\\partial^2 V}{\\partial x^2}\n",
    "$$\n",
    "\n",
    "$$\n",
    "\\frac{\\partial^2 V_e}{\\partial x^2} = - \\frac{ \\frac{1}{r_i} }{\\frac{1}{r_e}+ \\frac{1}{r_i}} \\frac{\\partial^2 V}{\\partial x^2} =-\\frac{r_e}{r_e+r_i}\\frac{\\partial^2 V}{\\partial x^2}\n",
    "$$\n",
    "\n",
    "so\n",
    "\n",
    "$$\n",
    "I_t = \\frac{\\partial I_e}{\\partial x} =  -  \\frac{1}{r_e}  \\frac{\\partial^2 V_e}{\\partial x^2}=   \\frac{1}{r_e+r_i}\\frac{\\partial^2 V}{\\partial x^2}\n",
    "$$"
   ]
  },
  {
   "cell_type": "markdown",
   "metadata": {
    "slideshow": {
     "slide_type": "slide"
    }
   },
   "source": [
    "## Incorporating cell membrane physiology\n",
    "From the membrane model previously derived we have\n",
    "\n",
    "$$\n",
    "I_t = p(C_m\\frac{\\partial V}{\\partial t}+I_{ion})\n",
    "$$\n",
    "\n",
    "where $p$ is the circumference of the cable.\n",
    "The total 1D cable model is then:\n",
    "\n",
    "$$\n",
    "p(C_m\\frac{\\partial V}{\\partial t} +I_{ion}(V))= (\\frac{1}{r_e+r_i} \\frac{\\partial^2 V}{\\partial x^2})\n",
    "$$"
   ]
  },
  {
   "cell_type": "markdown",
   "metadata": {
    "slideshow": {
     "slide_type": "slide"
    }
   },
   "source": [
    "## Physical units\n",
    "So far we have not considered the physical units of the terms. Typical\n",
    "units are\n",
    "\n",
    "<table border=\"1\">\n",
    "<thead>\n",
    "<tr><th align=\"left\">  Quantity </th> <th align=\"left\"> Dimension  </th> <th align=\"left\">  Typical unit  </th> </tr>\n",
    "</thead>\n",
    "<tbody>\n",
    "<tr><td align=\"right\">   $p$            </td> <td align=\"right\">   length          </td> <td align=\"right\">   $cm$                </td> </tr>\n",
    "<tr><td align=\"right\">   $C_m$          </td> <td align=\"right\">   capac./area     </td> <td align=\"right\">   $\\mu F/cm ^2$       </td> </tr>\n",
    "<tr><td align=\"right\">   V              </td> <td align=\"right\">   voltage         </td> <td align=\"right\">   $mV$                </td> </tr>\n",
    "<tr><td align=\"right\">   $I_{ion}$      </td> <td align=\"right\">   current/area    </td> <td align=\"right\">   $\\mu A/cm^2$        </td> </tr>\n",
    "<tr><td align=\"right\">   $r_i , r_e$    </td> <td align=\"right\">   res./length     </td> <td align=\"right\">   $10^3\\Omega /cm$    </td> </tr>\n",
    "<tr><td align=\"right\">   $x$            </td> <td align=\"right\">   length          </td> <td align=\"right\">   $cm$                </td> </tr>\n",
    "<tr><td align=\"right\">   $t$            </td> <td align=\"right\">   time            </td> <td align=\"right\">   $ms$                </td> </tr>\n",
    "</tbody>\n",
    "</table>"
   ]
  },
  {
   "cell_type": "markdown",
   "metadata": {
    "slideshow": {
     "slide_type": "slide"
    }
   },
   "source": [
    "## Exercise\n",
    "Verify that all the terms in the cable equation have the same physical\n",
    "units:\n",
    "\n",
    "$$\n",
    "p(C_m\\frac{\\partial V}{\\partial t} +I_{ion}(V))= (\\frac{1}{r_e+r_i} \\frac{\\partial^2 V}{\\partial x^2})\n",
    "$$\n",
    "\n",
    "<table border=\"1\">\n",
    "<thead>\n",
    "<tr><th align=\"left\">  Quantity </th> <th align=\"left\"> Dimension  </th> <th align=\"left\">  Typical unit  </th> </tr>\n",
    "</thead>\n",
    "<tbody>\n",
    "<tr><td align=\"right\">   $p$            </td> <td align=\"right\">   length          </td> <td align=\"right\">   $cm$                </td> </tr>\n",
    "<tr><td align=\"right\">   $C_m$          </td> <td align=\"right\">   capac./area     </td> <td align=\"right\">   $\\mu F/cm ^2$       </td> </tr>\n",
    "<tr><td align=\"right\">   V              </td> <td align=\"right\">   voltage         </td> <td align=\"right\">   $mV$                </td> </tr>\n",
    "<tr><td align=\"right\">   $I_{ion}$      </td> <td align=\"right\">   current/area    </td> <td align=\"right\">   $\\mu A/cm^2$        </td> </tr>\n",
    "<tr><td align=\"right\">   $r_i , r_e$    </td> <td align=\"right\">   res./length     </td> <td align=\"right\">   $10^3\\Omega /cm$    </td> </tr>\n",
    "<tr><td align=\"right\">   $x$            </td> <td align=\"right\">   length          </td> <td align=\"right\">   $cm$                </td> </tr>\n",
    "<tr><td align=\"right\">   $t$            </td> <td align=\"right\">   time            </td> <td align=\"right\">   $ms$                </td> </tr>\n",
    "</tbody>\n",
    "</table>\n",
    "What is the unit of the terms in the equation?"
   ]
  },
  {
   "cell_type": "markdown",
   "metadata": {
    "slideshow": {
     "slide_type": "slide"
    }
   },
   "source": [
    "## Scaling the cable equation (1)\n",
    "We can scale the variables to reduce the number of parameters.\n",
    "Define a membrane resistance:\n",
    "\n",
    "$$\n",
    "\\frac{1}{R_m} = \\frac{\\Delta I_{ion}}{\\Delta V}(V_0)\n",
    "$$\n",
    "\n",
    "where $V_0$ is the resting potential. Multiply with $R_m$ to get\n",
    "\n",
    "$$\n",
    "C_m R_m \\frac{\\partial V}{\\partial t} + R_m I_{ion}=\n",
    "\\frac{R_m}{p(r_i+r_e)}\\frac{\\partial^2 V}{\\partial x^2}\n",
    "$$\n",
    "\n",
    "Here we have assumed $r_i$ and $r_e$ constant."
   ]
  },
  {
   "cell_type": "markdown",
   "metadata": {
    "slideshow": {
     "slide_type": "slide"
    }
   },
   "source": [
    "## Scaling the cable equation (2)\n",
    "\n",
    "Defining  $f=-R_m I_{ion}$, $\\tau_m=C_m R_m$ (time constant)\n",
    "and $\\lambda_m^2 = R_m/(p(r_i+r_e))$ (space constant squared)\n",
    "we can write\n",
    "\n",
    "$$\n",
    "\\tau_m \\frac{\\partial V}{\\partial t} - f=\\lambda_m^2 \\frac{\\partial^2\n",
    "V}{\\partial x^2}\n",
    "$$"
   ]
  },
  {
   "cell_type": "markdown",
   "metadata": {
    "slideshow": {
     "slide_type": "slide"
    }
   },
   "source": [
    "## Scaling the cable equation (3)\n",
    "We introduce the dimensionless variables:\n",
    "\n",
    "$$\n",
    "T = t/\\tau_m, X = x/\\lambda_m\n",
    "$$\n",
    "\n",
    "We can then write:\n",
    "\n",
    "<!-- Equation labels as ordinary links -->\n",
    "<div id=\"scaled\"></div>\n",
    "\n",
    "$$\n",
    "\\frac{\\partial V}{\\partial T} = f + \\frac{\\partial^2 V}{\\partial X^2} \\label{scaled} \\tag{1}\n",
    "$$\n",
    "\n",
    "A solution $\\hat{V}(T,X)$ of ([1](#scaled)) implies that\n",
    "$V(t,x) = \\hat{V}(t/\\tau_m,x/\\lambda_m)$ will satisfy the unscaled\n",
    "equation.\n",
    "\n",
    "The scaled equation has units of voltage, but can easily be\n",
    "non-dimensionalized by introducing $V=V_0+\\bar{V}\\tilde{V}$, where\n",
    "$V_0$ is the resting membrane voltage, $\\bar{V}$ is a characteristic voltage, and $\\tilde{V}$ is a\n",
    "dimensionless variable."
   ]
  },
  {
   "cell_type": "markdown",
   "metadata": {
    "slideshow": {
     "slide_type": "slide"
    }
   },
   "source": [
    "## The reaction term\n",
    "\n",
    "* The form of $f$ depends on the cell type, or which part of the cell, we want to study.\n",
    "\n",
    "* For the axon $I_{ion}(m,n,h,V)$ of the HH-model is a good candidate.\n",
    "\n",
    "* For the dendrite, which is non-excitable, a linear resistance model is good:\n",
    "\n",
    "$$\n",
    "I_{ion} = \\frac{1}{R_m}(V-V_0)\n",
    "$$\n",
    "\n",
    "or in scaled form $f = -V$:\n",
    "\n",
    "$$\n",
    "\\frac{\\partial V}{\\partial T} = \\frac{\\partial^2 V}{\\partial X^2} - V\n",
    "$$"
   ]
  },
  {
   "cell_type": "markdown",
   "metadata": {
    "slideshow": {
     "slide_type": "slide"
    }
   },
   "source": [
    "## Boundary- and initial conditions (1)\n",
    "\n",
    "Initial condition examples: \n",
    "\n",
    "* Entire cable at rest: $V(X,0) = 0$\n",
    "\n",
    "* Partly activated (piecewise constant):\n",
    "$$\n",
    "V(X,0) = 0, x < x_0 \\\\\n",
    "V(X,0) = V_0, x > x_0 \n",
    "$$\n"
   ]
  },
  {
   "cell_type": "markdown",
   "metadata": {
    "slideshow": {
     "slide_type": "slide"
    }
   },
   "source": [
    "## Boundary- and initial conditions (2)\n",
    "\n",
    "Types of boundary conditions:\n",
    "\n",
    "  * Dirichlet: $V(x_b,T) = V_b$, voltage clamp.\n",
    "\n",
    "  * Neumann: $\\frac{\\partial V}{\\partial X} = -r_i \\lambda_m I$,  current injection.\n",
    "\n",
    "Justification:\n",
    "\n",
    "$$\n",
    "\\frac{\\partial V_i}{\\partial x}= -r_i I_i \\Rightarrow\n",
    "\\frac{\\partial V }{\\partial x} - \\frac{\\partial V_e}{\\partial x} = -r_i I_i\n",
    "\\stackrel{r_e=0}{\\Longrightarrow} \\frac{\\partial V }{\\partial x}= -r_i I_i\n",
    "$$"
   ]
  },
  {
   "cell_type": "markdown",
   "metadata": {
    "slideshow": {
     "slide_type": "slide"
    }
   },
   "source": [
    "## Passive conduction\n",
    "The linear cable in dimensionless form\n",
    "\n",
    "$$\n",
    "\\frac{\\partial V}{\\partial T} = \\frac{\\partial^2 V}{\\partial X^2} - V\n",
    "$$\n",
    "\n",
    "We consider a semi-infinite (i.e., long) cable with voltage clamped\n",
    "to a constant $V_c$ at $X = 0$. At steady state, we have\n",
    "\n",
    "$$\n",
    "\\frac{\\partial^2 V}{\\partial X^2} = V\n",
    "$$\n",
    "\n",
    "with solution\n",
    "\n",
    "$$\n",
    "V = V_c e^{-X} = V_c e^{-x/\\lambda_m}\n",
    "$$\n",
    "\n",
    "What does this tell you about how a signal decays along the cable? How\n",
    "strong is the signal one space constant from the source? How about ten\n",
    "space constants?"
   ]
  },
  {
   "cell_type": "markdown",
   "metadata": {
    "slideshow": {
     "slide_type": "slide"
    }
   },
   "source": [
    "## Exercise\n",
    "Remember the expression for the space constant:\n",
    "\n",
    "$$\n",
    "\\lambda_m = \\sqrt{R_m/(p(r_i +r_e))}\\approx\\sqrt{R_m/(p r_i)} = \\sqrt{R_m/(pR_c/A)},\n",
    "$$\n",
    "\n",
    "Assume a circular cross section with diameter $d$. Typical values for\n",
    "a mammalian neuron are $R_m = 7000\\Omega\n",
    "\\textrm{cm}^2, R_c = 150\\Omega \\textrm{cm}, d = 10.0\\mu m$\n",
    "\n",
    "Calculate the space constant $\\lambda_m$. How does it compare to the length of a\n",
    "human axon?"
   ]
  },
  {
   "cell_type": "markdown",
   "metadata": {
    "slideshow": {
     "slide_type": "slide"
    }
   },
   "source": [
    "## The bistable equation (1)\n",
    "The simplest model of active conduction in neuron is obtained by choosing the reaction term\n",
    "\n",
    "$$\n",
    "f(V)=AV(1-V)(V-\\alpha),\n",
    "$$\n",
    "\n",
    "where $\\alpha$ is a parameter between 0 and 1, and $A$ is a scaling parameter\n",
    "for the reaction term."
   ]
  },
  {
   "cell_type": "markdown",
   "metadata": {
    "slideshow": {
     "slide_type": "slide"
    }
   },
   "source": [
    "## The bistable equation (2)\n",
    "We have\n",
    "\n",
    "$$\n",
    "\\frac{\\partial V}{\\partial t} = \\frac{\\partial^2 V}{\\partial x^2} +AV(1-V)(V-\\alpha),\n",
    "$$\n",
    "\n",
    "and if we neglect the diffusion term we get\n",
    "$$\n",
    "\\frac{\\partial V}{\\partial t} = AV(1-V)(V -\\alpha).\n",
    "$$\n",
    "The right hand side has three zeros; $V = 0,V = 1,V = \\alpha$. These are\n",
    "equilibrium points for the equation ($\\partial V/\\partial t = 0$)."
   ]
  },
  {
   "cell_type": "markdown",
   "metadata": {
    "slideshow": {
     "slide_type": "slide"
    }
   },
   "source": [
    "## The bistable equation (3)\n",
    "\n",
    "<!-- dom:FIGURE: [./figs/cubic.png, width=300 frac=0.7] -->\n",
    "<!-- begin figure -->\n",
    "\n",
    "<p></p>\n",
    "<img src=\"./figs/cubic.png\" width=300>\n",
    "\n",
    "<!-- end figure -->\n",
    "\n",
    "\n",
    "Here $\\alpha = 0.5$. What happens if the solution is perturbed away from the\n",
    "three equilibrium points $V = 0, V = 1, V = \\alpha$? (Recall that $dV/dt = f(V)$)"
   ]
  },
  {
   "cell_type": "markdown",
   "metadata": {
    "slideshow": {
     "slide_type": "slide"
    }
   },
   "source": [
    "## The bistable equation (4)\n",
    "* The equation has one unstable and two stable equilibrium points\n",
    "\n",
    "* Any initial condition $V < \\alpha$ will approach $V = 0$\n",
    "\n",
    "* Any initial condition $V > \\alpha$ will approach $V = 1$\n",
    "\n",
    "\n",
    "\n",
    "In 1D (with diffusion), the solution is a traveling front."
   ]
  },
  {
   "cell_type": "markdown",
   "metadata": {
    "slideshow": {
     "slide_type": "slide"
    }
   },
   "source": [
    "## The FitzHugh-Nagumo model (1)\n",
    "* The bistable equation describes a traveling front, but never returns to the resting potential\n",
    "\n",
    "* To describe a propagating action potential we need to add a *recovery variable*\n",
    "\n",
    "* The result is the FitzHugh-Nagumo (FHN) model, the simplest model for qualitatively realistic propagation in excitable cells\n",
    "\n",
    "$$\n",
    "\\begin{align*}\n",
    "\\frac{\\partial V}{\\partial t} &= \\frac{\\partial^2 V}{\\partial x^2}\n",
    "+ AV(1-V)(V-\\alpha) - w, \\\\\n",
    "\\frac{\\partial w}{\\partial t} &= \\epsilon (V-\\gamma w),\n",
    "\\end{align*}\n",
    "$$\n",
    "\n",
    "with $\\epsilon,\\gamma >0$ and $w(0,x) = 0$."
   ]
  },
  {
   "cell_type": "markdown",
   "metadata": {
    "slideshow": {
     "slide_type": "slide"
    }
   },
   "source": [
    "## The FitzHugh-Nagumo model (2)\n",
    "Again, we can examine the behavior of the model by neglecting\n",
    "diffusion:\n",
    "\n",
    "$$\n",
    "\\begin{align*}\n",
    "\\frac{\\partial V}{\\partial t} &= AV(1-V)(V-\\alpha) - w, \\\\\n",
    "\\frac{\\partial w}{\\partial t} &= \\epsilon (V-\\gamma w),\n",
    "\\end{align*}\n",
    "$$\n",
    "\n",
    "* Initially, the model behaves as the bistable equation\n",
    "\n",
    "* As $V$ increases, $\\frac{\\partial w}{\\partial t} >0$\n",
    "\n",
    "* $w > 0 $ will \"pull\" $V$ back towards $V= 0$\n",
    "\n",
    "* In 1D, the solution is a traveling wave resembling an action potential"
   ]
  },
  {
   "cell_type": "markdown",
   "metadata": {
    "slideshow": {
     "slide_type": "slide"
    }
   },
   "source": [
    "## Summary\n",
    " * The cable equation describes signal propagation in *leaky* cables\n",
    "\n",
    " * 1D reaction-diffusion equation, **the form of the reaction term depends on the application** (properties of the membrane):\n",
    "\n",
    "   * Linear; passive membrane\n",
    "\n",
    "   * Cubic; bistable equation (propagating front)\n",
    "\n",
    "   * FHN; coupled to ODE (propagating AP)\n",
    "\n",
    "   * Hodgkin-Huxley, cardiac cell models, etc..."
   ]
  },
  {
   "cell_type": "code",
   "execution_count": null,
   "metadata": {},
   "outputs": [],
   "source": []
  }
 ],
 "metadata": {
  "celltoolbar": "Edit Metadata",
  "kernelspec": {
   "display_name": "Python 3",
   "language": "python",
   "name": "python3"
  },
  "language_info": {
   "codemirror_mode": {
    "name": "ipython",
    "version": 3
   },
   "file_extension": ".py",
   "mimetype": "text/x-python",
   "name": "python",
   "nbconvert_exporter": "python",
   "pygments_lexer": "ipython3",
   "version": "3.8.8"
  }
 },
 "nbformat": 4,
 "nbformat_minor": 4
}
