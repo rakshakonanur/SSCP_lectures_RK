{
 "cells": [
  {
   "cell_type": "markdown",
   "metadata": {
    "slideshow": {
     "slide_type": "slide"
    }
   },
   "source": [
    "<!-- dom:TITLE: Solution to exercises, cable equation -->\n",
    "# Solving the cable equation\n",
    "<!-- dom:AUTHOR: Joakim Sundnes/Molly Maleckar -->\n",
    "<!-- Author: -->  \n",
    "**Molly Maleckar**\n",
    "\n",
    "Date: **June 18th, 2025**"
   ]
  },
  {
   "cell_type": "markdown",
   "metadata": {
    "slideshow": {
     "slide_type": "slide"
    }
   },
   "source": [
    "## The bistable equation (1)\n",
    "The simplest model of active conduction in neuron is obtained by choosing the reaction term\n",
    "\n",
    "$$\n",
    "f(V)=AV(1-V)(V-\\alpha),\n",
    "$$\n",
    "\n",
    "where $\\alpha$ is a parameter between 0 and 1, and $A$ is a scaling parameter\n",
    "for the reaction term."
   ]
  },
  {
   "cell_type": "markdown",
   "metadata": {
    "slideshow": {
     "slide_type": "slide"
    }
   },
   "source": [
    "## The bistable equation (2)\n",
    "We have\n",
    "\n",
    "$$\n",
    "\\frac{\\partial V}{\\partial t} = \\frac{\\partial^2 V}{\\partial x^2} +AV(1-V)(V-\\alpha),\n",
    "$$\n",
    "\n",
    "and if we neglect the diffusion term we get\n",
    "$$\n",
    "\\frac{\\partial V}{\\partial t} = AV(1-V)(V -\\alpha).\n",
    "$$\n",
    "The right hand side has three zeros; $V = 0,V = 1,V = \\alpha$. These are\n",
    "equilibrium points for the equation ($\\partial V/\\partial t = 0$).m"
   ]
  },
  {
   "cell_type": "markdown",
   "metadata": {
    "slideshow": {
     "slide_type": "slide"
    }
   },
   "source": [
    "## The bistable equation (3)\n",
    "\n",
    "<!-- dom:FIGURE: [./figs/cubic.png, width=300 frac=0.7] -->\n",
    "<!-- begin figure -->\n",
    "\n",
    "<p></p>\n",
    "<img src=\"./figs/cubic.png\" width=300>\n",
    "\n",
    "<!-- end figure -->\n",
    "\n",
    "\n",
    "Here $\\alpha = 0.5$. What happens if the solution is perturbed away from the\n",
    "three equilibrium points $V = 0, V = 1, V = \\alpha$? (Recall that $dV/dt = f(V)$)"
   ]
  },
  {
   "cell_type": "markdown",
   "metadata": {
    "slideshow": {
     "slide_type": "slide"
    }
   },
   "source": [
    "## The bistable equation (4)\n",
    "* The equation has one unstable and two stable equilibrium points\n",
    "\n",
    "* Any initial condition $V < \\alpha$ will approach $V = 0$\n",
    "\n",
    "* Any initial condition $V > \\alpha$ will approach $V = 1$\n",
    "\n",
    "\n",
    "\n",
    "In 1D (with diffusion), the solution is a traveling front."
   ]
  },
  {
   "cell_type": "markdown",
   "metadata": {
    "slideshow": {
     "slide_type": "slide"
    },
    "tags": []
   },
   "source": [
    "## Part 1: The bistable equation\n",
    "\n",
    "We want to solve the bistable equation on an interval $\\Omega =[0,L]$:\n",
    "\n",
    "$$\n",
    "\\begin{alignat*}{2}\n",
    "v_t &= kv_{xx} + f(v) & \\mbox{ for } & t> 0, 0 < x < L, \\\\\n",
    "v_x &= 0 & \\mbox{ for } &x = 0, x = L, \\\\\n",
    "v & = v_0 &\\mbox{ for } &t = 0, 0 < x = < L/10, \\\\\n",
    "v & = 0 &\\mbox{ for } &t = 0, L/10< x = < L,\n",
    "\\end{alignat*}\n",
    "$$\n",
    "\n",
    "with\n",
    "\n",
    "$$\n",
    "f(v) = Av(1-v)(v-\\alpha) \n",
    "$$\n",
    "and parameter values\n",
    "$$\n",
    "\\begin{alignat*}{2}\n",
    "k &= 1.0, A &= 1.0, \\alpha &= 0.1 \\\\\n",
    "L &= 100, v_0&= 0.3. &\n",
    "\\end{alignat*}\n",
    "$$\n",
    "\n",
    "(Note that we have used the compact notation $v_t = \\partial\n",
    "v/\\partial t, v_{xx} = \\partial^2v/\\partial x^2$.)"
   ]
  },
  {
   "cell_type": "markdown",
   "metadata": {
    "slideshow": {
     "slide_type": "slide"
    }
   },
   "source": [
    "# (Very brief) Introduction to Finite Difference Methods\n",
    "\n",
    "## What are Finite Difference Methods?\n",
    "\n",
    "Finite difference methods are numerical techniques used to approximate solutions to differential equations by replacing continuous derivatives with discrete approximations. These methods form the foundation of computational mathematics and are essential tools for solving partial differential equations (PDEs) that arise in physics, engineering, and many other scientific disciplines.\n",
    "\n",
    "The core principle behind finite difference methods lies in the discretization of both the spatial domain and temporal domain. Instead of working with continuous functions, we approximate the solution at discrete grid points, transforming the differential equation into a system of algebraic equations that can be solved computationally.\n"
   ]
  },
  {
   "cell_type": "markdown",
   "metadata": {
    "slideshow": {
     "slide_type": "slide"
    }
   },
   "source": [
    "# Discretization Process\n",
    "\n",
    "The discretization process involves two key steps:\n",
    "\n",
    "1. **Spatial Discretization**: The continuous spatial domain is divided into a finite number of grid points separated by spacing $\\Delta x$\n",
    "2. **Temporal Discretization**: Time is advanced in discrete steps of size $\\Delta t$\n"
   ]
  },
  {
   "cell_type": "markdown",
   "metadata": {
    "slideshow": {
     "slide_type": "slide"
    }
   },
   "source": [
    "# Discretization Process\n",
    "\n",
    "\n",
    "![Grid Discretization](./figs/grid_discretization.png)\n",
    "\n",
    "At each grid point $(x_i, t_n)$, we approximate the solution $u(x_i, t_n) \\approx u_i^n$, where:\n",
    "- $i$ represents the spatial index\n",
    "- $n$ represents the temporal index\n",
    "- $x_i = i \\cdot \\Delta x$ for $i = 0, 1, 2, ..., N_x$\n",
    "- $t_n = n \\cdot \\Delta t$ for $n = 0, 1, 2, ..., N_t$\n"
   ]
  },
  {
   "cell_type": "markdown",
   "metadata": {
    "slideshow": {
     "slide_type": "slide"
    }
   },
   "source": [
    "## Derivative Approximations\n",
    "\n",
    "The fundamental concept in finite difference methods is the approximation of derivatives using Taylor series expansions. For a function $f(x)$, we can approximate its derivatives using neighboring grid points:\n",
    "\n",
    "### First Derivative Approximations\n",
    "\n",
    "**Forward Difference:**\n",
    "$$\\frac{df}{dx} \\bigg|_{x_i} \\approx \\frac{f_{i+1} - f_i}{\\Delta x} + O(\\Delta x)$$\n",
    "\n",
    "**Backward Difference:**\n",
    "$$\\frac{df}{dx} \\bigg|_{x_i} \\approx \\frac{f_i - f_{i-1}}{\\Delta x} + O(\\Delta x)$$\n",
    "\n",
    "**Central Difference:**\n",
    "$$\\frac{df}{dx} \\bigg|_{x_i} \\approx \\frac{f_{i+1} - f_{i-1}}{2\\Delta x} + O((\\Delta x)^2)$$"
   ]
  },
  {
   "cell_type": "markdown",
   "metadata": {
    "slideshow": {
     "slide_type": "slide"
    }
   },
   "source": [
    "### Second Derivative Approximation\n",
    "\n",
    "**Central Difference for Second Derivative:**\n",
    "$$\\frac{d^2f}{dx^2} \\bigg|_{x_i} \\approx \\frac{f_{i+1} - 2f_i + f_{i-1}}{(\\Delta x)^2} + O((\\Delta x)^2)$$\n",
    "\n",
    "![Finite Difference Stencils](./figs/finite_difference_stencils.png)\n"
   ]
  },
  {
   "cell_type": "markdown",
   "metadata": {
    "slideshow": {
     "slide_type": "slide"
    }
   },
   "source": [
    "## Truncation Error and Accuracy\n",
    "\n",
    "The accuracy of finite difference approximations is characterized by their truncation error, which represents the difference between the exact derivative and its finite difference approximation. The order of accuracy is determined by the leading term in the Taylor series expansion that is truncated.\n",
    "\n",
    "Central difference schemes generally provide higher accuracy (second-order) compared to forward or backward differences (first-order) for the same grid spacing, making them preferred for spatial derivatives in most applications."
   ]
  },
  {
   "cell_type": "markdown",
   "metadata": {
    "slideshow": {
     "slide_type": "slide"
    }
   },
   "source": [
    "## Applications and Significance\n",
    "\n",
    "Finite difference methods are widely used in:\n",
    "- Heat transfer and diffusion problems\n",
    "- Fluid dynamics and computational fluid dynamics (CFD)\n",
    "- Structural mechanics and elasticity\n",
    "- Financial modeling (Black-Scholes equation)\n",
    "- Image processing and computer graphics\n",
    "- Weather prediction and climate modeling\n",
    "\n",
    "The choice of finite difference scheme significantly impacts the stability, accuracy, and computational efficiency of the numerical solution, making it crucial to understand the underlying mathematical principles and their practical implications.\n"
   ]
  },
  {
   "cell_type": "markdown",
   "metadata": {
    "slideshow": {
     "slide_type": "slide"
    }
   },
   "source": [
    "# Explicit Update Schemes\n",
    "\n",
    "## Definition and Characteristics\n",
    "\n",
    "An explicit update scheme is a time-stepping method where the solution at the next time level $(n+1)$ is calculated directly from known values at the current time level $(n)$ and previous time levels. In explicit schemes, each unknown value can be computed independently without solving a system of coupled equations.\n",
    "\n",
    "The general form of an explicit scheme for a time-dependent PDE can be written as:\n",
    "\n",
    "$$u_i^{n+1} = F(u_{i-p}^n, u_{i-p+1}^n, ..., u_{i+q}^n)$$\n",
    "\n",
    "where $F$ is an explicit function of known values, and the stencil extends from $i-p$ to $i+q$ in space."
   ]
  },
  {
   "cell_type": "markdown",
   "metadata": {
    "slideshow": {
     "slide_type": "slide"
    }
   },
   "source": [
    "## Mathematical Framework\n",
    "\n",
    "Consider a general time-dependent PDE of the form:\n",
    "\n",
    "$$\\frac{\\partial u}{\\partial t} = L[u]$$\n",
    "\n",
    "where $L[u]$ is a spatial differential operator. The explicit finite difference discretization becomes:\n",
    "\n",
    "$$\\frac{u_i^{n+1} - u_i^n}{\\Delta t} = L_h[u_i^n]$$\n",
    "\n",
    "Rearranging to solve for the unknown $u_i^{n+1}$:\n",
    "\n",
    "$$u_i^{n+1} = u_i^n + \\Delta t \\cdot L_h[u_i^n]$$\n",
    "\n",
    "This formulation clearly shows that $u_i^{n+1}$ depends only on known values at time level $n$."
   ]
  },
  {
   "cell_type": "markdown",
   "metadata": {
    "slideshow": {
     "slide_type": "slide"
    }
   },
   "source": [
    "## Explicit vs Implicit Schemes\n",
    "\n",
    "The fundamental difference between explicit and implicit schemes lies in how they handle the temporal discretization:\n",
    "\n",
    "Implicit systems are more costly, but are more effective in handling sharp gradients, multi-scale applications, and are more stable.\n",
    "\n",
    "![Explicit vs Implicit Comparison](./figs/explicit_implicit_comparison.png)\n",
    "\n",
    "### Explicit Scheme Characteristics:\n",
    "- **Computational Simplicity**: Each grid point can be updated independently\n",
    "- **Memory Efficiency**: Only requires storage of current time level\n",
    "- **Parallelization**: Naturally parallel across spatial grid points\n"
   ]
  },
  {
   "cell_type": "markdown",
   "metadata": {
    "slideshow": {
     "slide_type": "slide"
    }
   },
   "source": [
    "## Now back to...Part 1: The bistable equation\n",
    "\n",
    "We want to solve the bistable equation on an interval $\\Omega =[0,L]$:\n",
    "\n",
    "$$\n",
    "\\begin{alignat*}{2}\n",
    "v_t &= kv_{xx} + f(v) & \\mbox{ for } & t> 0, 0 < x < L, \\\\\n",
    "v_x &= 0 & \\mbox{ for } &x = 0, x = L, \\\\\n",
    "v & = v_0 &\\mbox{ for } &t = 0, 0 < x = < L/10, \\\\\n",
    "v & = 0 &\\mbox{ for } &t = 0, L/10< x = < L,\n",
    "\\end{alignat*}\n",
    "$$\n",
    "\n",
    "with\n",
    "\n",
    "$$\n",
    "f(v) = Av(1-v)(v-\\alpha) \n",
    "$$\n",
    "and parameter values\n",
    "$$\n",
    "\\begin{alignat*}{2}\n",
    "k &= 1.0, A &= 1.0, \\alpha &= 0.1 \\\\\n",
    "L &= 100, v_0&= 0.3. &\n",
    "\\end{alignat*}\n",
    "$$\n",
    "\n",
    "(Note that we have used the compact notation $v_t = \\partial\n",
    "v/\\partial t, v_{xx} = \\partial^2v/\\partial x^2$.)"
   ]
  },
  {
   "cell_type": "markdown",
   "metadata": {
    "slideshow": {
     "slide_type": "slide"
    },
    "tags": []
   },
   "source": [
    "### Explicit update scheme for the bistable equation\n",
    "A standard finite difference approximation in space and time gives an explicit update formula for $v$:\n",
    "$$\n",
    "\\begin{align*}\n",
    "v_0^{j+1} &= v_0^j +\\frac{k \\Delta t}{\\Delta x^2} 2 (v_1^j-v_0^j)\n",
    "+\\Delta t f(v_0^j) \\\\\n",
    "v_i^{j+1}  &= v_i^j +\\frac{k \\Delta t}{\\Delta x^2} (v_{i-1}^j-2v_i^j+v_{i+1}^j)\n",
    "+\\Delta t f(v_i^j), i = 1, \\cdots, N-1 \\\\\n",
    "v_N^{j+1} &= v_N^j +\\frac{k \\Delta t}{\\Delta x^2} 2 (v_{N-1}^j-v_N^j)\n",
    "+\\Delta t f(v_N^j)\n",
    "\\end{align*}\n",
    "$$\n",
    "\n",
    "We will now implement this scheme in Python. First, we need to set some parameters and define arrays to store the solution:"
   ]
  },
  {
   "cell_type": "code",
   "execution_count": 26,
   "metadata": {
    "slideshow": {
     "slide_type": "-"
    },
    "tags": []
   },
   "outputs": [
    {
     "name": "stdout",
     "output_type": "stream",
     "text": [
      "10\n",
      "[0.3 0.3 0.3 0.3 0.3 0.3 0.3 0.3 0.3 0.3]\n",
      "0.0\n",
      "[0.3 0.3 0.3 0.3 0.3 0.3 0.3 0.3 0.3 0.3 0.  0.  0.  0.  0.  0.  0.  0.\n",
      " 0.  0.  0.  0.  0.  0.  0.  0.  0.  0.  0.  0.  0.  0.  0.  0.  0.  0.\n",
      " 0.  0.  0.  0.  0.  0.  0.  0.  0.  0.  0.  0.  0.  0.  0.  0.  0.  0.\n",
      " 0.  0.  0.  0.  0.  0.  0.  0.  0.  0.  0.  0.  0.  0.  0.  0.  0.  0.\n",
      " 0.  0.  0.  0.  0.  0.  0.  0.  0.  0.  0.  0.  0.  0.  0.  0.  0.  0.\n",
      " 0.  0.  0.  0.  0.  0.  0.  0.  0.  0.  0. ]\n"
     ]
    }
   ],
   "source": [
    "%matplotlib inline\n",
    "import matplotlib.pyplot as plt\n",
    "from IPython import display\n",
    "import numpy as np\n",
    "\n",
    "k = 2.0\n",
    "A = 1.0\n",
    "alpha = 0.1\n",
    "L =100\n",
    "\n",
    "dx = 1;\n",
    "dt = 0.1;\n",
    "\n",
    "N = int(L/dx)\n",
    "\n",
    "v = np.zeros(N+1)\n",
    "v_prev = v\n",
    "left =  int(N/10)\n",
    "v_prev[:left] = 0.3\n",
    "print(left)\n",
    "print(v[:left])\n",
    "print(v[left])\n",
    "print(v)"
   ]
  },
  {
   "cell_type": "markdown",
   "metadata": {
    "slideshow": {
     "slide_type": "slide"
    }
   },
   "source": [
    "### *Exercise 1: Bistable equation in Python*\n",
    "Update the code below to implement the explicit update scheme above, and solve the bistable equation. "
   ]
  },
  {
   "cell_type": "code",
   "execution_count": 22,
   "metadata": {
    "slideshow": {
     "slide_type": "-"
    },
    "tags": []
   },
   "outputs": [
    {
     "data": {
      "image/png": "[encoded data removed]",
      "text/plain": [
       "<Figure size 640x480 with 1 Axes>"
      ]
     },
     "metadata": {},
     "output_type": "display_data"
    },
    {
     "data": {
      "image/png": "[encoded data removed]",
      "text/plain": [
       "<Figure size 640x480 with 1 Axes>"
      ]
     },
     "metadata": {},
     "output_type": "display_data"
    }
   ],
   "source": [
    "def f(v):\n",
    "    return A*v*(1-v)*(v-alpha)\n",
    "\n",
    "\n",
    "for i in range (1400):\n",
    "    for j in range(1,N):\n",
    "        v[j] = v_prev[j] + ((k*dt)/(dx**2))*(v_prev[j-1] - 2*v_prev[j] + v_prev[j+1]) + dt*f(v_prev[j])\n",
    "     \n",
    "    #add formulas for end points:\n",
    "    v[0] = v_prev[0] + ((k*dt)/(dx**2))*2*(v_prev[1] - v_prev[0]) + dt*f(v_prev[0])\n",
    "    v[N] = v_prev[N] + ((k*dt)/(dx**2))*2*(v_prev[N-1] - v_prev[N]) + dt*f(v_prev[N])\n",
    "    v_prev = v\n",
    "    if i%20==0:  #to avoid displaying every time step\n",
    "        plt.clf()\n",
    "        plt.axis([0, L, 0, 1.1])\n",
    "        plt.plot(v)\n",
    "        plt.title('i=%d' % i)\n",
    "        display.clear_output(wait=True)\n",
    "        display.display(plt.gcf())"
   ]
  },
  {
   "cell_type": "markdown",
   "metadata": {},
   "source": [
    "### *Solution:*\n",
    "\n",
    "Click below to expand the cell and see the solution. "
   ]
  },
  {
   "cell_type": "code",
   "execution_count": 24,
   "metadata": {
    "slideshow": {
     "slide_type": "-"
    },
    "tags": [
     "hide-input",
     "hide-output"
    ]
   },
   "outputs": [
    {
     "data": {
      "image/png": "[encoded data removed]",
      "text/plain": [
       "<Figure size 640x480 with 1 Axes>"
      ]
     },
     "metadata": {},
     "output_type": "display_data"
    },
    {
     "data": {
      "image/png": "[encoded data removed]",
      "text/plain": [
       "<Figure size 640x480 with 1 Axes>"
      ]
     },
     "metadata": {},
     "output_type": "display_data"
    }
   ],
   "source": [
    "for i in range (1400):\n",
    "    for j in range(1,N):\n",
    "        I_ion = f(v_prev[j])  #reaction term\n",
    "        diff = (k / dx**2) * (v_prev[j + 1]-2 * v_prev[j] + v_prev[j - 1]) #diffusion term\n",
    "        v[j]  = v_prev[j] + dt * diff + dt * I_ion\n",
    "    \n",
    "    v[0] = v_prev[0] + dt * (k / dx ** 2) * 2 * (v_prev[1] - v_prev[0]) + dt * f(v_prev[0]) \n",
    "    v[N] = v_prev[N] + dt * (k / dx ** 2) * 2 * (v_prev[N-1] - v_prev[N]) + dt * f(v_prev[N]) \n",
    "    v_prev = v\n",
    "    \n",
    "    if i%20==0:  #to avoid displaying every time step\n",
    "        plt.clf()\n",
    "        plt.axis([0, L, 0, 1.1])\n",
    "        plt.plot(v)\n",
    "        plt.title('i=%d' % i)\n",
    "        display.clear_output(wait=True)\n",
    "        display.display(plt.gcf())"
   ]
  },
  {
   "cell_type": "markdown",
   "metadata": {
    "slideshow": {
     "slide_type": "slide"
    }
   },
   "source": [
    "### Comments on the code\n",
    "* Note that the solution is not saved, but overwritten for every step.\n",
    "\n",
    "* Loops in Python are slow. It is possible to speed up the code by using vectorized NumPy operations to\n",
    "  avoid the loop over the spatial domain. "
   ]
  },
  {
   "cell_type": "markdown",
   "metadata": {},
   "source": [
    "### *Exercise 2: vectorization (optional)*\n",
    "Complete the code below to use a vectorized operation to update $v$, i.e., no loop over the spatial domain. "
   ]
  },
  {
   "cell_type": "code",
   "execution_count": 28,
   "metadata": {},
   "outputs": [
    {
     "data": {
      "image/png": "[encoded data removed]",
      "text/plain": [
       "<Figure size 640x480 with 1 Axes>"
      ]
     },
     "metadata": {},
     "output_type": "display_data"
    },
    {
     "data": {
      "image/png": "[encoded data removed]",
      "text/plain": [
       "<Figure size 640x480 with 1 Axes>"
      ]
     },
     "metadata": {},
     "output_type": "display_data"
    }
   ],
   "source": [
    "\n",
    "#reset v to initial condition:\n",
    "v[:left] = 0.3\n",
    "v[left:] = 0\n",
    "\n",
    "#introduce the appropriate arrays for slicing:\n",
    "I = np.arange(1,N)\n",
    "Ip = I+1\n",
    "Im = I-1\n",
    "\n",
    "for i in range (1400):\n",
    "    I_ion = f(v) \n",
    "    #first add diffusion terms:\n",
    "    v[I] = v[I] + dt * (k / dx ** 2) * (v[Ip] - 2 * v[I] + v[Im])\n",
    "    v[0] = v[0] + dt * (k / dx ** 2) * 2 * (v[1] - v[0]) \n",
    "    v[N] = v[N] + dt * (k / dx ** 2) * 2 * (v[N-1] - v[N])  \n",
    "    \n",
    "    #then the reaction:\n",
    "    v = v + dt * I_ion\n",
    "    \n",
    "    if i%20==0:  #to avoid displaying every time step\n",
    "        plt.clf()\n",
    "        plt.axis([0, L, 0, 1.1])\n",
    "        plt.plot(v)\n",
    "        plt.title('i=%d' % i)\n",
    "        display.clear_output(wait=True)\n",
    "        display.display(plt.gcf())\n",
    "    "
   ]
  },
  {
   "cell_type": "markdown",
   "metadata": {},
   "source": [
    "### *Solution:*\n",
    "\n",
    "Click below to expand the cell and see the solution. "
   ]
  },
  {
   "cell_type": "code",
   "execution_count": 25,
   "metadata": {
    "collapsed": true,
    "jupyter": {
     "outputs_hidden": true
    },
    "slideshow": {
     "slide_type": "-"
    },
    "tags": [
     "hide-output",
     "hide-input"
    ]
   },
   "outputs": [
    {
     "data": {
      "image/png": "[encoded data removed]",
      "text/plain": [
       "<Figure size 432x288 with 1 Axes>"
      ]
     },
     "metadata": {},
     "output_type": "display_data"
    },
    {
     "data": {
      "image/png": "[encoded data removed]",
      "text/plain": [
       "<Figure size 432x288 with 1 Axes>"
      ]
     },
     "metadata": {
      "needs_background": "light"
     },
     "output_type": "display_data"
    }
   ],
   "source": [
    "k = 2.0\n",
    "A = 1.0\n",
    "alpha = 0.1\n",
    "L = 100\n",
    "\n",
    "dx = 1;\n",
    "dt = 0.1;\n",
    "\n",
    "N = int(L/dx)\n",
    "\n",
    "v = np.zeros(N+1)\n",
    "left =  int(N/10)\n",
    "v[:left] = 0.3\n",
    "\n",
    "#introduce the appropriate arrays for slicing:\n",
    "I = np.arange(1,N)\n",
    "Ip = I+1\n",
    "Im = I-1\n",
    "\n",
    "for i in range (1400):\n",
    "    I_ion = f(v) \n",
    "    #first add diffusion terms:\n",
    "    v[I] = v[I] + dt * (k / dx ** 2) * (v[Ip] - 2 * v[I] + v[Im])\n",
    "    v[0] = v[0] + dt * (k / dx ** 2) * 2 * (v[1] - v[0]) \n",
    "    v[N] = v[N] + dt * (k / dx ** 2) * 2 * (v[N-1] - v[N])  \n",
    "    \n",
    "    #then the reaction:\n",
    "    v = v + dt * I_ion\n",
    "    \n",
    "\n",
    "    if i%20==0:  #to avoid displaying every time step\n",
    "        plt.clf()\n",
    "        plt.axis([0, L, 0, 1.1])\n",
    "        plt.plot(v)\n",
    "        plt.title('i=%d' % i)\n",
    "        display.clear_output(wait=True)\n",
    "        display.display(plt.gcf())"
   ]
  },
  {
   "cell_type": "markdown",
   "metadata": {
    "slideshow": {
     "slide_type": "slide"
    }
   },
   "source": [
    "## Part 2: The FitzHugh-Nagumo (FHN) model\n",
    "A small modification of the bistable equation gives the\n",
    "FHN model:\n",
    "\n",
    "$$\n",
    "\\begin{alignat*}{2}\n",
    "v_t &= kv_{xx} + Av(1-v)(v-\\alpha) -w & \\mbox{ for } & t> 0, 0 < x < L, \\\\\n",
    "w_t &= \\epsilon (v-\\gamma w) & \\mbox{ for } & t> 0, 0 < x < L, \\\\\n",
    "v_x &= 0 & \\mbox{ for } &x = 0, x = L, \\\\\n",
    "v & = v_0 &\\mbox{ for } &t = 0, 0 < x = < L/10, \\\\\n",
    "v & = 0 &\\mbox{ for } &t = 0, L/10< x = < L,\n",
    "\\end{alignat*}\n",
    "$$\n",
    "\n",
    "The additional parameters are set to\n",
    "\n",
    "$$\n",
    "\\epsilon = 0.005, \\gamma = 2.0 .\n",
    "$$\n",
    "\n",
    "We will now extend the solver from above to solve the FHN model."
   ]
  },
  {
   "cell_type": "markdown",
   "metadata": {
    "slideshow": {
     "slide_type": "slide"
    }
   },
   "source": [
    "### *Exercise 3: Solving the FHN model*\n",
    "Update the solver from above to solve the FHN model. You can either copy the relevant code lines into the empty cell below, or copy the entire cell from above and then modify it. "
   ]
  },
  {
   "cell_type": "code",
   "execution_count": 31,
   "metadata": {},
   "outputs": [
    {
     "data": {
      "image/png": "[encoded data removed]",
      "text/plain": [
       "<Figure size 640x480 with 1 Axes>"
      ]
     },
     "metadata": {},
     "output_type": "display_data"
    },
    {
     "data": {
      "image/png": "[encoded data removed]",
      "text/plain": [
       "<Figure size 640x480 with 1 Axes>"
      ]
     },
     "metadata": {},
     "output_type": "display_data"
    }
   ],
   "source": [
    "k = 2.0\n",
    "A = 1.0\n",
    "alpha = 0.1\n",
    "L = 100\n",
    "eps = 0.005\n",
    "gamma = 2.0\n",
    "\n",
    "dx = 1;\n",
    "dt = 0.1;\n",
    "\n",
    "N = int(L/dx)\n",
    "\n",
    "v = np.zeros(N+1)\n",
    "w = np.zeros(N+1)\n",
    "left =  int(N/10)\n",
    "v[:left] = 0.3\n",
    "\n",
    "#introduce the appropriate arrays for slicing:\n",
    "I = np.arange(1,N)\n",
    "Ip = I+1\n",
    "Im = I-1\n",
    "\n",
    "def g(v):\n",
    "    return A*v*(1-v)*(v-alpha) - w\n",
    "\n",
    "for i in range (1400):\n",
    "    I_ion = g(v) \n",
    "    #first add diffusion terms:\n",
    "    v[I] = v[I] + dt * (k / dx ** 2) * (v[Ip] - 2 * v[I] + v[Im])\n",
    "    v[0] = v[0] + dt * (k / dx ** 2) * 2 * (v[1] - v[0]) \n",
    "    v[N] = v[N] + dt * (k / dx ** 2) * 2 * (v[N-1] - v[N])  \n",
    "    \n",
    "    #then the reaction:\n",
    "    v = v + dt * I_ion\n",
    "    w = w + dt * eps * (v - gamma * w)\n",
    "\n",
    "    if i%20==0:  #to avoid displaying every time step\n",
    "        plt.clf()\n",
    "        plt.axis([0, L, 0, 1.1])\n",
    "        plt.plot(v)\n",
    "        plt.title('i=%d' % i)\n",
    "        display.clear_output(wait=True)\n",
    "        display.display(plt.gcf())"
   ]
  },
  {
   "cell_type": "markdown",
   "metadata": {},
   "source": [
    "### *Solution:*\n",
    "\n",
    "Click below to see the solution."
   ]
  },
  {
   "cell_type": "code",
   "execution_count": 8,
   "metadata": {
    "collapsed": true,
    "jupyter": {
     "outputs_hidden": true,
     "source_hidden": true
    },
    "slideshow": {
     "slide_type": "-"
    },
    "tags": [
     "hide-input",
     "hide-output"
    ]
   },
   "outputs": [
    {
     "data": {
      "image/png": "[encoded data removed]",
      "text/plain": [
       "<Figure size 432x288 with 1 Axes>"
      ]
     },
     "metadata": {},
     "output_type": "display_data"
    },
    {
     "data": {
      "image/png": "[encoded data removed]",
      "text/plain": [
       "<Figure size 432x288 with 1 Axes>"
      ]
     },
     "metadata": {
      "needs_background": "light"
     },
     "output_type": "display_data"
    }
   ],
   "source": [
    "k = 2.0\n",
    "A = 1.0\n",
    "alpha = 0.1\n",
    "L =100\n",
    "eps = 0.005\n",
    "gamma = 2.0\n",
    "\n",
    "v = np.zeros(N+1)\n",
    "w = np.zeros(N+1)\n",
    "left = int(N/10)\n",
    "v[:left] = 0.3\n",
    "I = np.arange(1,N)\n",
    "Ip = I+1\n",
    "Im = I-1\n",
    "\n",
    "for i in range(1400):\n",
    "    I_ion = f(v) - w\n",
    "    \n",
    "    #first add the diffusion to v:\n",
    "    v[I] = v[I] + dt*(k/dx**2)*(v[Ip]-2*v[I] +v[Im])\n",
    "    v[0] = v[0] + dt * (k / dx ** 2) * 2 * (v[1] - v[0]) \n",
    "    v[N] = v[N] + dt * (k / dx ** 2) * 2 * (v[N-1] - v[N])  \n",
    "    \n",
    "    #then the reaction terms:\n",
    "    v = v + dt * I_ion;\n",
    "    w = w + dt * eps * (v - gamma * w)\n",
    "\n",
    "    if i%20==0:  #to avoid displaying every time step\n",
    "        plt.clf()\n",
    "        plt.axis([0, L, 0, 1.1])\n",
    "        plt.plot(v)\n",
    "        plt.title('i=%d' % i)\n",
    "        display.clear_output(wait=True)\n",
    "        display.display(plt.gcf())\n"
   ]
  },
  {
   "cell_type": "markdown",
   "metadata": {
    "slideshow": {
     "slide_type": "slide"
    }
   },
   "source": [
    "### *Exercise 4: Periodic boundary conditions*\n",
    "\n",
    "We can model a simple reentrant circuit with periodic boundary\n",
    "conditions:\n",
    "\n",
    "$$\n",
    "v(0) = v(L)\n",
    "$$\n",
    "\n",
    "This condition effectively creates a ring, by connecting the two ends of our cable to eachother. \n",
    "\n",
    "* Implement this condition in the FHN solver. You can either modify the code above directly or copy the cell here   and then modify.\n",
    "\n",
    "* What happens? Why?"
   ]
  },
  {
   "cell_type": "markdown",
   "metadata": {},
   "source": [
    "### *Solution:*\n",
    "Click below to see the solution."
   ]
  },
  {
   "cell_type": "code",
   "execution_count": 14,
   "metadata": {
    "collapsed": true,
    "jupyter": {
     "outputs_hidden": true,
     "source_hidden": true
    },
    "slideshow": {
     "slide_type": "-"
    },
    "tags": [
     "hide-input",
     "hide-output"
    ]
   },
   "outputs": [
    {
     "data": {
      "image/png": "[encoded data removed]",
      "text/plain": [
       "<Figure size 432x288 with 1 Axes>"
      ]
     },
     "metadata": {},
     "output_type": "display_data"
    },
    {
     "data": {
      "image/png": "[encoded data removed]",
      "text/plain": [
       "<Figure size 432x288 with 1 Axes>"
      ]
     },
     "metadata": {
      "needs_background": "light"
     },
     "output_type": "display_data"
    }
   ],
   "source": [
    "k = 2.0\n",
    "A = 1.0\n",
    "alpha = 0.1\n",
    "L =100\n",
    "eps = 0.005\n",
    "gamma = 2.0\n",
    "\n",
    "v = np.zeros(N+1)\n",
    "w = np.zeros(N+1)\n",
    "\n",
    "#mid = int(N/2)\n",
    "#v[mid-10:mid+10] = 0.3\n",
    "#w[:int(0.9*mid)] = 0.1\n",
    "\n",
    "#left = int(N/10)\n",
    "#v[:left] = 0.3\n",
    "mid =  int(N/2);\n",
    "v[mid-10:mid+10] = 0.3;\n",
    "#w[:int(0.9*mid)] = 0.1\n",
    "\n",
    "I = np.arange(N+1)\n",
    "Ip = I+1\n",
    "Ip[N] = 0\n",
    "Im = I-1;\n",
    "Im[0] = N\n",
    "\n",
    "for i in range (1400):\n",
    "    I_ion = A*v*(1-v)*(v-alpha) - w\n",
    "    v[I] = v[I] + dt*(k/dx**2)*(v[Ip]-2*v[I] +v[Im])\n",
    "    v = v + dt*I_ion;\n",
    "    w = w + dt*eps*(v-gamma*w)\n",
    "\n",
    "    if i%20==0:  #to avoid displaying every time step\n",
    "        plt.clf()\n",
    "        plt.axis([0, L, 0, 1.1])\n",
    "        plt.plot(v)\n",
    "        plt.title('i=%d' % i)\n",
    "        display.clear_output(wait=True)\n",
    "        display.display(plt.gcf())"
   ]
  },
  {
   "cell_type": "markdown",
   "metadata": {
    "slideshow": {
     "slide_type": "slide"
    }
   },
   "source": [
    "### *Exercise 5: Simulating reentry*\n",
    "\n",
    "Now, modify the initial condition in the code above to:"
   ]
  },
  {
   "cell_type": "code",
   "execution_count": 10,
   "metadata": {
    "slideshow": {
     "slide_type": "-"
    }
   },
   "outputs": [],
   "source": [
    "mid = int(N/2)\n",
    "v[mid-2:mid+2] = 0.3"
   ]
  },
  {
   "cell_type": "markdown",
   "metadata": {
    "slideshow": {
     "slide_type": "-"
    }
   },
   "source": [
    "What happens?\n",
    "\n",
    "Finally, add the line"
   ]
  },
  {
   "cell_type": "code",
   "execution_count": 11,
   "metadata": {
    "slideshow": {
     "slide_type": "-"
    }
   },
   "outputs": [],
   "source": [
    "w[:int(0.9*mid)] = 1"
   ]
  },
  {
   "cell_type": "markdown",
   "metadata": {
    "slideshow": {
     "slide_type": "-"
    }
   },
   "source": [
    "What happens? Why?"
   ]
  },
  {
   "cell_type": "markdown",
   "metadata": {},
   "source": [
    "### *Solution:*\n",
    "\n",
    "Click below to see the solution."
   ]
  },
  {
   "cell_type": "code",
   "execution_count": 17,
   "metadata": {
    "collapsed": true,
    "jupyter": {
     "outputs_hidden": true,
     "source_hidden": true
    },
    "tags": [
     "hide-input",
     "hide-output"
    ]
   },
   "outputs": [
    {
     "data": {
      "image/png": "[encoded data removed]",
      "text/plain": [
       "<Figure size 432x288 with 1 Axes>"
      ]
     },
     "metadata": {},
     "output_type": "display_data"
    },
    {
     "data": {
      "image/png": "[encoded data removed]",
      "text/plain": [
       "<Figure size 432x288 with 1 Axes>"
      ]
     },
     "metadata": {
      "needs_background": "light"
     },
     "output_type": "display_data"
    }
   ],
   "source": [
    "k = 2.0\n",
    "A = 1.0\n",
    "alpha = 0.1\n",
    "L =100\n",
    "eps = 0.005\n",
    "gamma = 2.0\n",
    "\n",
    "v = np.zeros(N+1)\n",
    "w = np.zeros(N+1)\n",
    "\n",
    "mid =  int(N/2);\n",
    "v[mid-10:mid+10] = 0.3;\n",
    "w[:int(0.9*mid)] = 0.1\n",
    "\n",
    "I = np.arange(N+1)\n",
    "Ip = I+1\n",
    "Ip[N] = 0\n",
    "Im = I-1;\n",
    "Im[0] = N\n",
    "\n",
    "for i in range (14000):\n",
    "    I_ion = A*v*(1-v)*(v-alpha) -w\n",
    "    v[I] = v[I] + dt*(k/dx**2)*(v[Ip]-2*v[I] +v[Im])\n",
    "    v = v + dt*I_ion;\n",
    "    w = w + dt*eps*(v-gamma*w)\n",
    "\n",
    "    #v[0] = v[1]\n",
    "    #v[N-1] = v[N-2]\n",
    "\n",
    "    if i%20==0:  #to avoid displaying every time step\n",
    "        plt.clf()\n",
    "        plt.axis([0, L, 0, 1.1])\n",
    "        plt.plot(v)\n",
    "        plt.title('i=%d' % i)\n",
    "        display.clear_output(wait=True)\n",
    "        display.display(plt.gcf())"
   ]
  },
  {
   "cell_type": "code",
   "execution_count": null,
   "metadata": {},
   "outputs": [],
   "source": []
  }
 ],
 "metadata": {
  "celltoolbar": "Slideshow",
  "kernelspec": {
   "display_name": "Python 3 (ipykernel)",
   "language": "python",
   "name": "python3"
  },
  "language_info": {
   "codemirror_mode": {
    "name": "ipython",
    "version": 3
   },
   "file_extension": ".py",
   "mimetype": "text/x-python",
   "name": "python",
   "nbconvert_exporter": "python",
   "pygments_lexer": "ipython3",
   "version": "3.12.10"
  }
 },
 "nbformat": 4,
 "nbformat_minor": 4
}
