{
 "cells": [
  {
   "cell_type": "markdown",
   "id": "d6a0f06e",
   "metadata": {},
   "source": [
    "# E10 — Exercises on Calcium Handling\n",
    "\n",
    "In this notebook we look at some exercises to explore intracellular calcium handling a bit more hands on. Compared to previous sessions, there is a stronger focus on discussion and work with pen and paper, and a bit less on actual modeling.\n",
    "\n",
    "This notebook contains the following exercises:\n",
    "\n",
    "* [Exercise 1: A Simple Calcium Cycling Model](#1)\n",
    "* [Exercise 2: Thermodynamic Limits of SERCA](#2)\n",
    "* [Exercise 3: Thermodynamics of the NCX](#3)\n",
    "* [Exercise 4: A More realistic Cardiac Calcium Dynamics model](#4)"
   ]
  },
  {
   "cell_type": "markdown",
   "id": "214d6ff3",
   "metadata": {},
   "source": [
    "<a id=\"1\"></a>\n",
    "## Exercise 1: Thermodynamic Limits of SERCA\n",
    "\n",
    "The sarco/endoplasmic reticulum calcium ATPase (SERCA) pump is responsible for pumping calcium into the SR from the cytosol in cardiomyocytes. This has to majorly important functions:\n",
    "* Maintain a high SR load, which can give a rapid and strong calcium transient through the CICR mechanism\n",
    "* Maintain very low levels of resting cytosolic calcium, important for allowing the myocyte to relax in between contractions\n",
    "\n",
    "Ideally the SERCA pump would pump all available calcium from the cytosol into the SR. However, due to the diffusive pressure of calcium, there has to be some theoretical maximum for how large concentration gradients the SERCA pump can achieve. In this exercise you will analyze the thermodynamics of the problem to find this theoretical limit."
   ]
  },
  {
   "cell_type": "markdown",
   "id": "356683c2",
   "metadata": {},
   "source": [
    "**Exercise 1a) Change in Gibbs Energy**\n",
    "\n",
    "In the lecture on physical chemistry, L2, we introduced a quantity dubbed *Gibbs energy*. Recall now that for any spontaneous process, we must have that $\\Delta G < 0$. Explain briefly why this is the case.\n",
    "\n",
    "For every cycle of the SERCA pump, it pumps two calcium ions from the cytosol into the SR. This will incur a change in Gibbs energy of\n",
    "\n",
    "$$\\Delta G_{\\rm pump} = 2RT \\ln\\left(\\frac{\\rm [Ca^{2+}]_{SR}}{\\rm [Ca^{2+}]_i}\\right),$$\n",
    "\n",
    "It is generally the case that $ {\\rm [Ca^{2+}]_{SR}} > {\\rm [Ca^{2+}]_i}$. What does this mean for the value of $\\Delta G_{\\rm pump}$. Explain why this tells us that SERCA must expend energy to move calcium ions into the SR."
   ]
  },
  {
   "cell_type": "markdown",
   "id": "dccf563b",
   "metadata": {},
   "source": [
    "If we have ${\\rm [Ca^{2+}]_{SR}} > {\\rm [Ca^{2+}]_i}$, then the fraction becomes above unity, and the logarithm becomes a positive number, so we have \n",
    "\n",
    "$$\\Delta G_{\\rm pump} = 2RT \\ln\\left(\\frac{\\rm [Ca^{2+}]_{SR}}{\\rm [Ca^{2+}]_i}\\right)  >  0,$$\n",
    "\n",
    "Thus this process cannot possibly happen on its own. This should not be surprising. If the SR concentration is higher, moving calcium from the cytosol into the SR means we are moving ions against the concentration gradient, which would never happen on its own. Thus SERCA must be a case of *active* transport, not passive."
   ]
  },
  {
   "cell_type": "markdown",
   "id": "0b57a4d3",
   "metadata": {},
   "source": [
    "**Exercise 1b) Coupling processes**\n",
    "\n",
    "SERCA is an ATPase, meaning it is an enzyme that can break down ATP molecules into ADP, a process that releases a bit of energy which SERCA can use. Explain why it must be the case that\n",
    "\n",
    "$$\\Delta G_{\\rm pump} + \\Delta G_{\\rm ATP} < 0.$$\n",
    "\n",
    "Where $G_{\\rm ATP}$ is the change in Gibbs Energy we get from \"spending\" a single ATP molecule.\n"
   ]
  },
  {
   "cell_type": "markdown",
   "id": "68082f7a",
   "metadata": {},
   "source": [
    "Because SERCA is an example of active transport, it must gain energy to perform its pumping. This is done by coupling pumping action to ATP. It uses a single ATP per cycle, pumping two calcium ions. Each individual cycle of the pump must fulfill the laws of thermodynamics, and so for each cycle we must have\n",
    "\n",
    "$$\\Delta G_{\\rm pump} + \\Delta G_{\\rm ATP} < 0.$$\n",
    "\n",
    "Put into simpler english. The equation says that SERCA cannot spend more energy pumping calcium than it harvests from ATP, which is hopefully intuitive.\n",
    "\n",
    "Where $G_{\\rm ATP}$ is the change in Gibbs Energy we get from \"spending\" a single ATP molecule."
   ]
  },
  {
   "cell_type": "markdown",
   "id": "b18468fb",
   "metadata": {},
   "source": [
    "**Exercise 1c) Maximum concentration ratio**\n",
    "\n",
    "Insert the expression from 2a into 2b and solve for ${\\rm [Ca^{2+}]_{SR}}$. Show that this yields\n",
    "\n",
    "$${\\rm [Ca^{2+}]_{SR}} < {\\rm [Ca^{2+}]_{i}} \\times {\\rm exp}\\ \\bigg[\\frac{\\Delta G_{\\rm ATP}}{2RT}\\bigg].$$\n",
    "\n",
    "To find a specific value we will need to know the value of $\\Delta G_{\\rm ATP}$. Looking up the value in the literature reveals that this value changes with several factors. For the conditions inside a mammalian myocyte it will typically be in the range 50–70 kJ/mol. As no molecular machine, like SERCA, will ever be perfectly efficient, it makes sense to pick a number on the lower end of the scale or slightly below this.\n",
    "\n",
    "Insert $\\Delta G_{\\rm ATP}$ to find a final estimate. It can be useful to know that for body temperature, $2RT \\approx 5.2$ kJ/mol. What is the maximal concentration gradient SERCA can theoretically maintain across the SR membrane?"
   ]
  },
  {
   "cell_type": "markdown",
   "id": "207191a8",
   "metadata": {},
   "source": [
    "$$2RT \\ln\\left(\\frac{\\rm [Ca^{2+}]_{SR}}{\\rm [Ca^{2+}]_i}\\right) + \\Delta G_{\\rm ATP} < 0$$\n",
    "\n",
    "$$\\ln\\left(\\frac{\\rm [Ca^{2+}]_{SR}}{\\rm [Ca^{2+}]_i}\\right) < \\frac{-\\Delta G_{\\rm ATP}}{2RT} $$\n",
    "\n",
    "$$\\frac{\\rm [Ca^{2+}]_{SR}}{\\rm [Ca^{2+}]_i}\\ < \\exp\\left(\\frac{-\\Delta G_{\\rm ATP}}{2RT}\\right) $$\n",
    "\n",
    "$$\\rm [Ca^{2+}]_{SR} < {\\rm [Ca^{2+}]_i}\\cdot\\exp\\left(\\frac{-\\Delta G_{\\rm ATP}}{2RT}\\right) $$\n",
    "\n",
    "$$\\exp\\left(\\frac{-\\Delta G_{\\rm ATP}}{2RT}\\right) = \\exp\\left(\\frac{50}{5.2}\\right) = 14994$$\n",
    "\n",
    "Do note however that this answer is highly susceptible to what exact value you pick for $\\Delta G_{\\rm ATP}$, because it enters into the exponential. If you for instance pick 45 kJ/mol we get almost the third at roughly 5700. It is however clear that the thermodynamical limit is in the ballpark of thousandfolds higher concentration in the SR."
   ]
  },
  {
   "cell_type": "markdown",
   "id": "41041355",
   "metadata": {},
   "source": [
    "**Exercise 1d) The difference between theory and practice**\n",
    "\n",
    "A commonly cited statement is that SERCA can maintain a calcium gradient of about 1:7000, i.e., the SR load can be at most 7000-fold higher than the cytosolic calcium. Compare this statement with the theoretical limit you found. If there are differences, discuss why this might be. Does it seem like SERCA is operating at its thermodynamic limit?\n",
    "\n",
    "We found an estimated theoretical limit of 15000 times higher concentration. While 7000 sounds a lot smaller, as we mentioned the answer is quite sensitive to the ATP energy. But the order of magnitude seems quite correct. And as our lower estimate actually was *below* the experimentally measured gradients, it is clear that SERCA is both quite efficient at using energy from ATP and is indeed operating close to the thermodynamic limit.\n",
    "\n",
    "This exercise was mainly meant to: (1) give you some experience using Gibbs energy to make estimates, and (2) see that SERCA is capable of maintaing massive concentration gradients across the SR membrane. The exact ratio is not that important."
   ]
  },
  {
   "cell_type": "markdown",
   "id": "464cae79",
   "metadata": {},
   "source": [
    "<a id=\"2\"></a>\n",
    "## Exercise 2: Thermodynamics of the NCX\n",
    "\n",
    "The sodium-calcium exchanger (NCX) works by transporting 3 sodium ions (Na$^+$) in one direction, and simultaneously transporting 1 calcium ion in the opposite direction (Ca$^{2+}$). Crucially, NCX does not use any other source of energy, like ATP. Let us analyze the thermodynamics of this situation.\n"
   ]
  },
  {
   "cell_type": "markdown",
   "id": "543b880d",
   "metadata": {},
   "source": [
    "**Exercise 2a) Passive or active transport? (Discussion)**\n",
    "\n",
    "Previously we have introduced the terms *passive* and *active* ion transport. From what you recall of these terms, would you classify the NCX activity as passive or active?\n",
    "\n",
    "Passive ion transport is transport that occurs spontaneously, without being driven by an external driving force, like ion channel transport. Active transport is transport that does not occur spontaneously, but that must be driven by an external force.\n",
    "\n",
    "The NCX as a whole is an example of an active transport, as it manages to drive calcium *against* its concentration gradient. But it does this by coupling the active transport to the *passive* transport of sodium. So in a sense, it makes sense to say that NCX is a combination of passive and active transport. In its forward it couples passive sodium transport to active calcium transport. And in the reverse mode it will be flipped, passive transport of calcium and active transport of sodium.\n",
    "\n",
    "\n",
    "**Exercise 2b) Gibbs energy**\n",
    "\n",
    "Explain why the change in Gibbs energy of one cycle of the NCX can be described as\n",
    "\n",
    "$$\\Delta G_{\\rm NCX} = \\Delta G_{\\rm Ca} - 3\\Delta G_{\\rm Na}.$$\n",
    "\n",
    "For one transported calcium ion, three sodium ions are moved in the opposite direction, which explains both the sign and the factor of 3. "
   ]
  },
  {
   "cell_type": "markdown",
   "id": "8f80cf0f",
   "metadata": {},
   "source": [
    "**Exercise 2c) Enter the Nernst potentials**\n",
    "\n",
    "The change in Gibbs energy from moving a particle from inside to outside the cell depends both on the concentration gradient of the ion, but also the membrane potential. We have actually analyzed this exact scenario when we derived the Nernst potential. From that derivation we found that (We did not you expect to remember this expression, which is why we list it here):\n",
    "\n",
    "$$\\Delta G_{\\rm X} = z_X F \\big( E_{\\rm X} - V \\big).$$\n",
    "\n",
    "Here $z_{\\rm X}$ is the valency of ionic species X, $E_{\\rm X}$ is the Nernst potential of species X, $F$ the Faraday constant and $V$ the membrane potential.\n",
    "\n",
    "Insert $\\Delta G_{\\rm Na}$ and $\\Delta G_{\\rm Ca}$ to find a clean expression for $\\Delta G_{\\rm NCX}$."
   ]
  },
  {
   "cell_type": "markdown",
   "id": "352688a9",
   "metadata": {},
   "source": [
    "By inserting $\\Delta G_{\\rm Na}$ and $\\Delta G_{\\rm Ca}$ in $\\Delta G_{\\rm NCX}$ we obtain the following expression:\n",
    "\n",
    "$$\\Delta G_{\\rm NCX} = \\Delta G_{\\rm Ca} - 3\\Delta G_{\\rm Na} = z_{\\rm Ca} F \\big( E_{\\rm Ca} - V \\big) - 3 z_{\\rm Na} F \\big( E_{\\rm Na} - V \\big)$$ \n",
    "\n",
    "The valence of sodium and calcium are $z_{\\rm Ca} = 2$ and $z_{\\rm Na} = 1$. Thus the expression results in \n",
    "\n",
    "$$\\Delta G_{\\rm NCX} = 2 F \\big( E_{\\rm Ca} - V \\big) - 3 F \\big( E_{\\rm Na} - V \\big)$$ \n"
   ]
  },
  {
   "cell_type": "markdown",
   "id": "abd71b44",
   "metadata": {},
   "source": [
    "**Exercise 2d) Reversial potential**\n",
    "\n",
    "We know the system is at thermodynamic equilibrium when $\\Delta G = 0$. This in turn means you can find the *reversial* potential of the NCX by solving the equation\n",
    "\n",
    "$$\\Delta G_{\\rm NCX} = 0,$$\n",
    "\n",
    "for the membrane potential $V$. Show that this results in\n",
    "\n",
    "$$E_{\\rm NCX} = 3E_{\\rm Na} - 2E_{\\rm Ca}.$$\n",
    "\n",
    "Explain how this potential relates to the forward and reverse modes of the exchanger."
   ]
  },
  {
   "cell_type": "markdown",
   "id": "396aaa12",
   "metadata": {},
   "source": [
    "Taking the expression from 2c we can set this equation to 0 to derive the $E_{\\rm NCX}$ expression during equilibrium:\n",
    "\n",
    "$$2 F \\big( E_{\\rm Ca} - V \\big) = 3 F \\big( E_{\\rm Na} - V \\big)$$\n",
    "\n",
    "$$2 FE_{\\rm Ca} - 2 FV = 3 FE_{\\rm Na} - 3 FV $$\n",
    "\n",
    "We can now solve for V to calculate the equilibrium potential for NCX:\n",
    "\n",
    "$$ V = 3E_{\\rm Na} - 2E_{\\rm Ca} $$\n",
    "\n",
    "The equilibrium potential for NCX is often also referred to as the Nernst potential for NCX $E_{\\rm NCX}$: \n",
    "\n",
    "$$ E_{\\rm NCX} = 3E_{\\rm Na} - 2E_{\\rm Ca} $$\n"
   ]
  },
  {
   "cell_type": "markdown",
   "id": "b2755009",
   "metadata": {},
   "source": [
    "**Exercise 2e) Reversial potential in mV**\n",
    "\n",
    "In L3 you computed the Nernst potentials under normal conditions and found that $E_{\\rm Na} \\approx 80$  mV and $E_{\\rm Ca} \\approx 120$ mV. (Though we expect the calcium Nernst potential to shift considerably during an AP). Insert these values to find $E_{\\rm NCX}$ in terms of mV."
   ]
  },
  {
   "cell_type": "markdown",
   "id": "216e3525",
   "metadata": {},
   "source": [
    "If we insert these values in the $E_{\\rm NCX}$ equation we obtain a value $E_{\\rm NCX} = 0$ under normal condition. Since the values change during an AP the Nernst potential will quickly become positive or negative, meaning the NCX will work in on direction or in its opposite direction. Effectively the NCX is an exchanger that it is active both in the forward and the reverse mode but in different parts of the action potential."
   ]
  },
  {
   "cell_type": "markdown",
   "id": "55186b1e",
   "metadata": {},
   "source": [
    "**Exercise 2f) The NCX during the action potential**\n",
    "\n",
    "From your answer. Do we expect to see any reverse mode of NCX during a normal action potential? If so, where in the action potential would we expect to see calcium entering the cell through the NCX? When would we expect calcium to leave the cell?"
   ]
  },
  {
   "cell_type": "markdown",
   "id": "c8484925",
   "metadata": {},
   "source": [
    "Since the intracellular calcium concentration changes so much during an action potential, so does its Nernst potential. If we would look up the calcium Nernst potential during an action potential we would see that NCX lets some influx of calcium into the cell during the action potential, but its main goal is to allow the efflux of calcium during the repolarization phase."
   ]
  },
  {
   "cell_type": "markdown",
   "id": "cad5e086",
   "metadata": {},
   "source": [
    "<a id=\"3\"></a>\n",
    "## Exercise 3: A Simple Calcium Cycling Model\n",
    "\n",
    "We start by implementing a simple calcium cycling model to explore intracellular calcium handling a bit more hands on. The model you implement is based on a work by Friel et al. (1995). The original model was made to explain experimental findings of caffine-induced calcium oscillations in sympatheic neurons. We use the model as propsed by Friel, but change a few of the variable names to be more consistent with how we present the material in L10/E10."
   ]
  },
  {
   "cell_type": "markdown",
   "id": "1fb6efc0",
   "metadata": {},
   "source": [
    "### Introducing the Model\n",
    "\n",
    "The model proposed by Friel consists of three domains:\n",
    "* The cytosol, inside the cell\n",
    "* The sarcoplasmic reticulum (SR), a subdomain inside the cell\n",
    "* The extracellular space, outside the cell.\n",
    "\n",
    "We denote the concentration of calcium in each of these domains as $\\rm [Ca^{2+}]_{\\rm i}$, $\\rm [Ca^{2+}]_{\\rm SR}$ and $\\rm [Ca^{2+}]_{\\rm o}$ respectively. The first two of these are model states which change over time, while we assume the extracellular concentration to be constant.\n",
    "\n",
    "There are four fluxes between these domains:\n",
    "* There is an external calcium entry through the sarcolemma: $J_{\\rm entry}$\n",
    "* There is an extrusion of calcium through the sarcolemma: $J_{\\rm extrusion}$\n",
    "* There is a release of calcium from the SR: $J_{\\rm rel}$\n",
    "* There is an uptake of calcium back into the SR: $J_{\\rm uptake}$.\n",
    "\n",
    "We can summarize the model with the following figure.\n",
    "\n",
    "<img src=\"fig/friel.svg\" width=500>"
   ]
  },
  {
   "cell_type": "markdown",
   "id": "7b4217f0",
   "metadata": {},
   "source": [
    "**Exercise 3a) Linear currents**\n",
    "\n",
    "In the very simplest case, we can assume the four currents to be completely linear, and only dependent on the concentration gradient across a given membrane. For instance, we can then model the influx current as\n",
    "\n",
    "$$J_{\\rm entry} = k_{\\rm entry} \\left( \\rm [Ca^{2+}]_{\\rm o} - \\rm [Ca^{2+}]_{\\rm i} \\right).$$\n",
    "\n",
    "Where $k_{\\rm entry}$ would be the *flux rate*, a model parameter of units 1/s. \n",
    "\n",
    "* If we assume $\\rm [Ca^{2+}]_{\\rm o} > \\rm [Ca^{2+}]_{\\rm i}$, does $J_{\\rm entry}$ become positive or negative? \n",
    "\n",
    "We also assume the release current to be proportional to the calcium difference between the SR and the cytosol. \n",
    "\n",
    "* Write out this current so that it is also positive when entering the cytosol, $J_{\\rm rel} = k_{\\rm rel} \\left( \\rm [Ca^{2+}]_{\\rm SR} - \\rm [Ca^{2+}]_{\\rm i} \\right)$.\n",
    "\n",
    "Because the uptake and extrusion currents are *active* transport and not passive, let us assume these are proportional to the cytosolic concentration alone, i.e.\n",
    "\n",
    "$$J_{\\rm extrusion} = k_{\\rm extrusion} \\times [{\\rm Ca}^{2+}]_{\\rm i}.$$\n",
    "\n",
    "* Write out the same current for the uptake term, $J_{\\rm uptake} = k_{\\rm uptake} \\times [{\\rm Ca}^{2+}]_{\\rm i}$.\n",
    "\n",
    "**Exercise 3b) Concentration changes**\n",
    "\n",
    "With the fluxes defined, write out the derivatives of the cytosolic and SR calcium in terms of the four fluxes. Be especially careful that you are consistent in terms of the sign of concentration differences, fluxes and concentration changes.\n",
    "\n",
    "\\begin{equation}\n",
    "\\frac{\\rm d [Ca^{2+}]_i}{{\\rm d}t} = J_{\\rm entry} + J_{\\rm rel} - J_{\\rm extrusion} - J_{\\rm uptake},\n",
    "\\end{equation}\n",
    "\n",
    "\\begin{equation}\n",
    "\\frac{\\rm d [Ca^{2+}]_{SR}}{{\\rm d}t} = \\frac{1}{\\gamma} \\left( J_{\\rm uptake} - J_{\\rm rel} \\right).\n",
    "\\end{equation}\n",
    "\n",
    "Here $\\gamma$ is a unitless model parameter needed to account for the fact that the SR has a different volume to the cytosolic space. It has a value of $\\gamma = 0.24$, meaning a movement of calcium from the SR to the cytosol will impact the SR concentration roughly four times more than the cytosolic calcium.\n",
    "\n",
    "**Exercise 3c) Variable release rate**\n",
    "\n",
    "If you read the original publication, it is not possible to find spontaneous calcium oscillations with purely linear fluxes, as one needs *calcium-induced calcium release* (CICR) to produce proper oscillations. Friel et al., therefore proposes to let the rate constant of the release current $k_{\\rm rel}$ be a function of cytosolic calcium, so that it is low when cytosolic calcium is low, but it increases fast if cytosolic calcium grows. \n",
    "\n",
    "More specifically, they let\n",
    "\n",
    "\\begin{equation}\n",
    "k_{\\rm rel} = \\kappa_0 + \\kappa_1 \\times \\frac{\\rm [Ca^{2+}]^n_{\\rm i}}{K_{\\rm d}^n + [{\\rm Ca}^{2+}]_{\\rm i}^n}\n",
    "\\end{equation}\n",
    "\n",
    "What kind of equation is this?\n",
    "\n",
    "This equation consists of two terms, the $\\kappa_0$ term is simply a constant, and thus represents the \"constant\" linear release flux. It can be considered a leak term. Then we have the term multiplied by $\\kappa_1$, which is the Hill equation. This term will be low for low cytosolic calcium, and then grow in a sinusoidal manner and become saturated."
   ]
  },
  {
   "cell_type": "markdown",
   "id": "060301a9",
   "metadata": {},
   "source": [
    "**Exercise 3d) Implementing the RHS**\n",
    "\n",
    "Fill in the code below to define the RHS of the system"
   ]
  },
  {
   "cell_type": "code",
   "execution_count": 7,
   "id": "9997fe29",
   "metadata": {},
   "outputs": [],
   "source": [
    "import numpy as np\n",
    "import matplotlib.pyplot as plt\n",
    "from scipy.integrate import solve_ivp\n",
    "\n",
    "def rhs(t, y, Cao, k_entry, k_extrusion, k_uptake, kappa0, kappa1, Kd, n, gamma):\n",
    "    # Split up the state vector\n",
    "    Cai, CaSR = y\n",
    "    \n",
    "    # Define the linear fluxes\n",
    "    J_entry = k_entry*(Cao - Cai)\n",
    "    J_extrusion = k_extrusion*Cai\n",
    "    J_uptake = k_uptake*Cai\n",
    "    \n",
    "    # Compute the release rate (CICR)\n",
    "    k_rel = kappa0 + kappa1 * Cai**n/(Kd**n + Cai**n)\n",
    "    J_rel = k_rel*(CaSR - Cai)\n",
    "    \n",
    "    # Define the derivatives\n",
    "    dCai_dt = J_entry + J_rel - J_extrusion - J_uptake\n",
    "    dCaSR_dt = (J_uptake - J_rel)/gamma\n",
    "    \n",
    "    # Return the derivatives\n",
    "    return dCai_dt, dCaSR_dt"
   ]
  },
  {
   "cell_type": "markdown",
   "id": "ee834342",
   "metadata": {},
   "source": [
    "**Exercise 3e) Solving the model and plotting the solution**\n",
    "\n",
    "Below we have defined all the parameters of the model. Use these parameters and solve the model for $t\\in[0, 1000]$ seconds. As initial conditions use $\\rm [Ca]_{\\rm i} = 80$ nM and $\\rm [Ca]_{\\rm SR} = 4.0$ µM. Plot the solutions, $\\rm [Ca]_{\\rm i}$ and $\\rm [Ca]_{\\rm SR}$ in two different plots."
   ]
  },
  {
   "cell_type": "code",
   "execution_count": 8,
   "id": "0bf93fa9",
   "metadata": {},
   "outputs": [],
   "source": [
    "# Parameters\n",
    "Cao = 1000 # µM\n",
    "\n",
    "k_entry = 2e-5 # 1/s\n",
    "k_extrusion = 0.132 # 1/s\n",
    "k_uptake = 0.9 # 1/s\n",
    "kappa0 = 0.013 # 1/s\n",
    "kappa1 = 0.58 # 1/s\n",
    "Kd = 0.5 # µM\n",
    "n = 3.\n",
    "gamma = 0.24\n",
    "\n",
    "params = (Cao, k_entry, k_extrusion, k_uptake, kappa0, kappa1, Kd, n, gamma)"
   ]
  },
  {
   "cell_type": "code",
   "execution_count": 9,
   "id": "000077a4",
   "metadata": {},
   "outputs": [],
   "source": [
    "# Solve model with solve_ivp\n",
    "T = (0, 1000)\n",
    "y0 = (0.1, 4)\n",
    "\n",
    "solution = solve_ivp(rhs, T, y0, args=params, max_step=0.1)"
   ]
  },
  {
   "cell_type": "code",
   "execution_count": 10,
   "id": "6d521aed",
   "metadata": {},
   "outputs": [
    {
     "data": {
      "image/png": "[encoded data removed]",
      "text/plain": [
       "<Figure size 640x480 with 2 Axes>"
      ]
     },
     "metadata": {},
     "output_type": "display_data"
    }
   ],
   "source": [
    "# Plot solutions\n",
    "Cai, CaSR = solution.y\n",
    "time = solution.t\n",
    "\n",
    "plt.subplot(2,1,1)\n",
    "plt.plot(time, Cai)\n",
    "plt.ylabel('Cyt. calcium (µM)')\n",
    "plt.xlim(0, 1000)\n",
    "plt.ylim(0,1)\n",
    "\n",
    "plt.subplot(2,1,2)\n",
    "plt.plot(time, CaSR)\n",
    "plt.ylabel('SR calcium (µM)')\n",
    "plt.xlim(0, 1000)\n",
    "plt.ylim(0,10)\n",
    "plt.show()"
   ]
  },
  {
   "cell_type": "markdown",
   "id": "fb74aac8",
   "metadata": {},
   "source": [
    "**Exercise 3f) Describing the solution**\n",
    "\n",
    "Explain how the solutions look. You don't have to describe the exact mechanisms of what is going on, but you should explain in broad strokes where calcium is moving in the model. Does it seem reasonable that this is a model to explain a phenomenon called *calcium oscillations*?"
   ]
  },
  {
   "cell_type": "markdown",
   "id": "f254c554",
   "metadata": {},
   "source": [
    "**Exercise 3g) Changes in initial conditions (Widget)**\n",
    "\n",
    "Use the widget below and play around with the initial conditions. Does the initial conditions matter? Why/Why not?"
   ]
  },
  {
   "cell_type": "code",
   "execution_count": 12,
   "id": "d843e466",
   "metadata": {},
   "outputs": [
    {
     "data": {
      "application/vnd.jupyter.widget-view+json": {
       "model_id": "5d33fd8c00594a38a351928ff02307f6",
       "version_major": 2,
       "version_minor": 0
      },
      "text/plain": [
       "interactive(children=(FloatSlider(value=0.1, continuous_update=False, description='Cai_0', max=1.0), FloatSlid…"
      ]
     },
     "metadata": {},
     "output_type": "display_data"
    }
   ],
   "source": [
    "from L10_widget import CICRWidget\n",
    "\n",
    "CICRWidget().initial_conditions_widget()"
   ]
  },
  {
   "cell_type": "markdown",
   "id": "015708e0",
   "metadata": {},
   "source": [
    "**Exercise 3h) Plotting the CICR rate**\n",
    "\n",
    "The paper this model is based on is looking at *caffine induced* calcium oscillations. What caffine does is upregulate the release flux's dependency on cytosolic calcium, meaning CICR is stronger. Let us analyze this a bit closer. The release rate was modelled as\n",
    "\n",
    "\\begin{equation}\n",
    "k_{\\rm rel} = \\kappa_0 + \\kappa_1 \\times \\frac{\\rm [Ca^{2+}]^n_{\\rm i}}{K_{\\rm d}^n + [{\\rm Ca}^{2+}]_{\\rm i}^n}\n",
    "\\end{equation}\n",
    "\n",
    "Plot this curve for $\\rm [Ca^{2+}]_{\\rm i} \\in [0, 2]$ µM.\n",
    "\n",
    "If caffine makes this function *steeper*, what model parameters could reflect this?\n",
    "\n",
    "\n",
    "\n"
   ]
  },
  {
   "cell_type": "code",
   "execution_count": 13,
   "id": "38349915",
   "metadata": {},
   "outputs": [
    {
     "data": {
      "text/plain": [
       "(0.0, 2.0)"
      ]
     },
     "execution_count": 13,
     "metadata": {},
     "output_type": "execute_result"
    },
    {
     "data": {
      "image/png": "[encoded data removed]",
      "text/plain": [
       "<Figure size 640x480 with 1 Axes>"
      ]
     },
     "metadata": {},
     "output_type": "display_data"
    }
   ],
   "source": [
    "Cai = np.linspace(0, 2, 10000)\n",
    "k_rel = kappa0 + kappa1*Cai**n/(Kd**n + Cai**n)\n",
    "\n",
    "plt.plot(Cai, k_rel)\n",
    "plt.xlabel('cyt. Calcium (µM)')\n",
    "plt.ylabel('k_rel')\n",
    "plt.xlim(0, 2)\n",
    "\n",
    "\n"
   ]
  },
  {
   "cell_type": "markdown",
   "id": "2410e729",
   "metadata": {},
   "source": [
    "**Exercise 3i) Exploring the CICR model (Widget)**\n",
    "\n",
    "Below we have made a widget that plots the release rate with adjustable parameters: $\\kappa_0$, $\\kappa_1$, $K_{\\rm d}$, $n$. Play around with this widget and get a feel for what all four parameters do to the rate function. \n",
    "\n",
    "If we want a low release current at low calcium, and then a high release rate at high calcium, with a steep and swift shift. What parameters should be low, and which should be high?"
   ]
  },
  {
   "cell_type": "code",
   "execution_count": 14,
   "id": "9b62aab7",
   "metadata": {},
   "outputs": [
    {
     "data": {
      "application/vnd.jupyter.widget-view+json": {
       "model_id": "e57c41cf4bf545dcac9af582b4416a3b",
       "version_major": 2,
       "version_minor": 0
      },
      "text/plain": [
       "interactive(children=(FloatSlider(value=0.1, description='kappa0', max=1.0), FloatSlider(value=0.6, descriptio…"
      ]
     },
     "metadata": {},
     "output_type": "display_data"
    }
   ],
   "source": [
    "from L10_widget import CICRWidget\n",
    "\n",
    "CICRWidget().krel_widget()"
   ]
  },
  {
   "cell_type": "markdown",
   "id": "73375429",
   "metadata": {},
   "source": [
    "**Exercise 3j) CICR sweet-spot (Widget)**\n",
    "\n",
    "In the paper, they state that calcium oscillations are only found at certain levels of caffine. If there is no caffine, then the steepness of the CICR-function ($k_{\\rm rel}$ in the model) is too low, and we get no oscillations. If there is too much caffine, then the system releases calcium too readily, and we also get no oscillations.\n",
    "\n",
    "Attempt to shift either the $K_{\\rm d}$ (point of half-saturation) or $n$ (the Hill coefficient) to be very high or low in the widget below. Do the oscillations disappear at either extreme? Hint: The model is a bit heavy, so I suggest you pull the sliders *slowly* to give the plot a chance to update."
   ]
  },
  {
   "cell_type": "code",
   "execution_count": 1,
   "id": "86037e60",
   "metadata": {},
   "outputs": [
    {
     "data": {
      "application/vnd.jupyter.widget-view+json": {
       "model_id": "153a7d40aad74dc78dce39caf7efc7e1",
       "version_major": 2,
       "version_minor": 0
      },
      "text/plain": [
       "interactive(children=(FloatSlider(value=0.5, description='Kd', max=1.0), FloatSlider(value=3.0, description='n…"
      ]
     },
     "metadata": {},
     "output_type": "display_data"
    }
   ],
   "source": [
    "from L10_widget import CICRWidget\n",
    "\n",
    "CICRWidget().cicr_widget()"
   ]
  },
  {
   "cell_type": "markdown",
   "id": "0d2eb50c",
   "metadata": {},
   "source": [
    "<a id=\"4\"></a>\n",
    "## Exercise 4: A More realistic Cardiac Calcium Dynamics model\n",
    "\n",
    "This exercise is meant to be an extension to exercise 1. In Exercise 1, we implemented a simple calcium cycling model to study a simplified intracellular calcium subsystem. In this section we will include more accurate and detailed receptor formulations, and combine the calcium subsystem formulations with a calculation of the action potential. For this purpose we will work on a well established model, the Jafri et al. 1998 model. The following figure (from Jafri et al. 1998) shows a schematic diagram of some of the mechanisms included in the model. \n",
    "\n",
    "<img src=\"fig/Jafri_scheme.png\" width=500>"
   ]
  },
  {
   "cell_type": "markdown",
   "id": "e7ae02af",
   "metadata": {},
   "source": [
    "This diagram simplifies the transmembrane currents included in the model, but shows the relevant currents included for calcium. \n",
    "During membrane depolarization the L-type calcium channels open and allow calcium to flux into the dyadic space (subspace). This model differenciates between 4 different compartmental calcium concentrations. $Ca^{2+}_{ss}$ and $Ca^{2+}_{i}$ represent the intracellular calcium restricted to the subspace and the intracellular bulk calcium concentrations respectively. $Ca^{2+}_{JSR}$ and $Ca^{2+}_{NSR}$ represent the calcium concentration in the JSR and NSR which are two subregions within the sarcoplasmic reticulum. We don't need to specify the differences between these two compartments, but all you need to know for npw is that the RyRs are placed in the JSR. \n",
    "\n",
    "A very interesting aspect of this model is that it includes a formulation for calcium binding to troponin, which you will learn more about in tomorrows lecture on cardiac mechanics. \n",
    "\n",
    "Implementing whole cell models can result in models including a high number of equations. In this case for example, the model consists of 31 state variables with their corresponding ordinary differential equations (ODEs) and around 60 algebraic equations. Thus, the probability of having a typo when implementing the equations is quite high. Therefore, we have pre formulated some of the equations in the class \"Jafri_model_parts\" included in the file \"Jafri_model.py\" in case you are interested in looking into the precomputed equations of the model. \n"
   ]
  },
  {
   "cell_type": "code",
   "execution_count": 1,
   "id": "96a9a123",
   "metadata": {},
   "outputs": [],
   "source": [
    "import math \n",
    "import numpy as np\n",
    "import matplotlib.pyplot as plt\n",
    "from scipy.integrate import solve_ivp\n",
    "from Jafri_model import Jafri_model_parts\n",
    "\n",
    "\n",
    "def rhs(t, y):\n",
    "    # Split up the state vector\n",
    "    V, Nai, m, h, j, O, O_Ca, C0, C1, C2, C3, C4, C_Ca0, C_Ca1, C_Ca2, C_Ca3, C_Ca4, Ca_SS, Ko, Ki, y, X, Cai, P_O1, P_O2, P_C1, P_C2, Ca_JSR, Ca_NSR, HTRPNCa, LTRPNCa = y\n",
    "    \n",
    "    # Define the parameters\n",
    "    R = 8.3145e3\n",
    "    T = 310\n",
    "    F = 9.6845e4\n",
    "    Cm = 0.01\n",
    "    \n",
    "    # Stimulus\n",
    "    stim_start = 100\n",
    "    stim_end = 10100\n",
    "    stim_period = 500\n",
    "    stim_duration = 1\n",
    "    stim_amplitude = 0.516289\n",
    "    \n",
    "    # Ionic currents\n",
    "    Nao = 140\n",
    "    Cao = 1.8\n",
    "    Am = 546.69\n",
    "    V_myo = 0.92\n",
    "    \n",
    "    # Na Ca exchanger parameters\n",
    "    k_NaCa = 50\n",
    "    K_mNa = 87.5\n",
    "    K_mCa = 1.38\n",
    "    k_sat = 0.1\n",
    "    eta = 0.35\n",
    "    \n",
    "    # RyR parameters\n",
    "    v1 = 1.8\n",
    "    k_a_plus = 1.215e10\n",
    "    k_a_minus = 0.1425\n",
    "    k_b_plus = 4.05e7\n",
    "    k_b_minus = 1.93\n",
    "    k_c_plus = 0.018\n",
    "    k_c_minus = 0.0008\n",
    "\n",
    "    ## Calcium subsystem currents and concentrations\n",
    "    v2 = 0.58e-4\n",
    "    v3 = 1.8e-3\n",
    "    nCa = 4\n",
    "    mCa = 3\n",
    "    tau_tr = 34.48\n",
    "    K_mup = 0.5e-3\n",
    "    K_mCMDN = 2.38e-3\n",
    "    K_mCSQN = 0.8\n",
    "    tau_xfer = 3.125\n",
    "    CSQN_tot = 15\n",
    "    CMDN_tot = 0.05\n",
    "    V_SS =  5.828e-05*V_myo\n",
    "    V_NSR =  0.081*V_myo\n",
    "    V_JSR =  0.00464*V_myo\n",
    "    \n",
    "    ## Unit conversion factors \n",
    "    conv_Amp_SS = Am/(2.0*V_SS*F)\n",
    "    conv_Amp_myo = Am/(2.0*V_myo*F)\n",
    "\n",
    "    \n",
    "    \n",
    "    dm_dt, dh_dt, dj_dt, i_Na, dX_dt, i_K, i_K1, i_Kp, i_NaK, i_ns_Ca, i_ns_Na,\\\n",
    "    i_ns_K, i_p_Ca, i_Ca_b, i_Na_b, dy_dt, dC0_dt, dC1_dt, dC2_dt, dC3_dt, dC4_dt,\\\n",
    "    dC_Ca0_dt, dC_Ca1_dt, dC_Ca2_dt, dC_Ca3_dt, dC_Ca4_dt, dO_dt, dO_Ca_dt,\\\n",
    "    dHTRPNCa_dt,dLTRPNCa_dt, i_Ca_L_Ca, i_Ca_L_K, J_trpn = Jafri_model_parts().currents_concentrations(V, m, h, j,\\\n",
    "                                                                   Nai, X, Ko, Ki, Cai, y, C0, C1, C2, C3, C4, C_Ca0,\\\n",
    "                                                                   C_Ca1, C_Ca2, C_Ca3, C_Ca4, O, O_Ca, Ca_SS, Ca_JSR,\\\n",
    "                                                                   Ca_NSR, HTRPNCa, LTRPNCa)\n",
    "    \n",
    "    \n",
    "    ## Na Ca exchanger current I_NaCa\n",
    "    i_NaCa = ((((((k_NaCa*1.0)/((K_mNa**3.0) + (Nao**3.0)))*1.0)/(K_mCa + Cao))*1.0)/(1.0 + k_sat*math.exp(((eta - 1.0)*V*F)/(R*T))))*(math.exp((eta*V*F)/(R*T))*(Nai**3.0)*Cao - math.exp(((eta - 1.0)*V*F)/( R*T))*(Nao**3.0)*Cai)\n",
    "    \n",
    "\n",
    "    ## RyR channel states (Keizer and Levine)\n",
    "    RyR_open = P_O1 + P_O2\n",
    "    J_rel =  v1*RyR_open*(Ca_JSR - Ca_SS)\n",
    "\n",
    "    dP_C1_dt =  -k_a_plus*(Ca_SS**nCa)*P_C1 + k_a_minus*P_O1\n",
    "    dP_O1_dt = (k_a_plus*(Ca_SS**nCa)*P_C1 - (k_a_minus*P_O1 + k_b_plus*(Ca_SS**mCa)*P_O1+ k_c_plus*P_O1))+ k_b_minus*P_O2+ k_c_minus*P_C2\n",
    "    dP_O2_dt = k_b_plus*(Ca_SS**mCa)*P_O1 - k_b_minus*P_O2\n",
    "    dP_C2_dt = k_c_plus*P_O1 -  k_c_minus*P_C2\n",
    "\n",
    "\n",
    "    ## Calcium subsystem currents\n",
    "    J_leak = v2*(Ca_NSR - Cai)\n",
    "    J_up = (v3*(Cai**2.0))/((K_mup**2.0) + (Cai**2.0))\n",
    "    J_tr = (Ca_NSR - Ca_JSR)/tau_tr\n",
    "    J_xfer = (Ca_SS - Cai)/tau_xfer\n",
    "    \n",
    "    \n",
    "    ## Calcium subsystem concentrations\n",
    "    Bi = 1.0/(1.0 + (CMDN_tot*K_mCMDN)/((K_mCMDN+Cai)**2.0))\n",
    "    B_JSR = 1.0/(1.0 + (CSQN_tot*K_mCSQN)/((K_mCSQN+Ca_JSR)**2.0))\n",
    "    B_SS = 1.0/(1.0 + (CMDN_tot*K_mCMDN)/((K_mCMDN+Ca_SS)**2.0))\n",
    "\n",
    "    dCa_SS_dt = B_SS*(((J_rel*V_JSR)/V_SS - (J_xfer*V_myo)/V_SS) - i_Ca_L_Ca*conv_Amp_SS)\n",
    "    dCa_JSR_dt = B_JSR*(J_tr - _rel)\n",
    "    dCa_NSR_dt = ((J_up - J_leak)*V_myo)/V_NSR - (J_tr*V_JSR)/V_NSR\n",
    "    dCai_dt = Bi*((J_leak + J_xfer) - ( J_up + J_trpn + (i_Ca_b - i_NaCa+i_p_Ca)*conv_Amp_myo))\n",
    "\n",
    "\n",
    "    ## Ionic curents\n",
    "    if t>=stim_start and t<=stim_end and (t - stim_start) -  math.floor((t - stim_start)/stim_period)*stim_period <= stim_duration:\n",
    "        I_stim = stim_amplitude\n",
    "    else:\n",
    "        I_stim = 0\n",
    "    \n",
    "    dV_dt = (I_stim - (i_Na + i_Ca_L_Ca + i_Ca_L_K + i_K + i_NaCa + i_K1 + i_Kp + i_p_Ca + i_Na_b + i_Ca_b + i_NaK + i_ns_Na + i_ns_K))/Cm\n",
    "    #dV_dt = (I_stim - (...'''insert membrane potential here'''...))/Cm\n",
    "\n",
    "    dNai_dt = -(i_Na + i_Na_b + i_ns_Na + i_NaCa*3.0 + i_NaK*3.0)*2*conv_Amp_myo\n",
    "    dKi_dt = -(i_Ca_L_K + i_K + i_K1 + i_Kp + i_ns_K + - i_NaK*2.0)*2*conv_Amp_myo\n",
    "    dKo_dt = (i_Ca_L_K + i_K + i_K1 + i_Kp + i_ns_K + - i_NaK*2.0)*2*conv_Amp_myo\n",
    "\n",
    "\n",
    "    # Return the derivatives\n",
    "    return dV_dt, dNai_dt, dm_dt, dh_dt, dj_dt, dO_dt, dO_Ca_dt, dC0_dt, dC1_dt, dC2_dt, dC3_dt, dC4_dt, dC_Ca0_dt, dC_Ca1_dt, dC_Ca2_dt, dC_Ca3_dt, dC_Ca4_dt, dCa_SS_dt, dKo_dt, dKi_dt, dy_dt, dX_dt, dCai_dt, dP_O1_dt, dP_O2_dt, dP_C1_dt, dP_C2_dt, dCa_JSR_dt, dCa_NSR_dt, dHTRPNCa_dt, dLTRPNCa_dt"
   ]
  },
  {
   "cell_type": "code",
   "execution_count": 2,
   "id": "6f6108a1",
   "metadata": {},
   "outputs": [],
   "source": [
    "# Solve model with solve_ivp\n",
    "T = (0, 600)\n",
    "y0 = (-84.1638, 10.2042, 0.0328302, 0.988354, 0.99254, 9.84546e-21, 0, 0.997208, 6.38897e-5, 1.535e-9, 1.63909e-14, 6.56337e-20, 2.72826e-3, 6.99215e-7, 6.71989e-11, 2.87031e-15, 4.59752e-20, 1.36058e-4, 5.4, 143.727, 0.998983, 0.000928836, 9.94893e-11, 1.19168e-3, 6.30613e-9, 0.762527, 0.236283, 1.17504, 1.243891, 0.13598, 0.00635)\n",
    "\n",
    "solution = solve_ivp(rhs, T, y0)"
   ]
  },
  {
   "cell_type": "code",
   "execution_count": 3,
   "id": "ae580495",
   "metadata": {},
   "outputs": [
    {
     "data": {
      "image/png": "[encoded data removed]",
      "text/plain": [
       "<Figure size 640x480 with 3 Axes>"
      ]
     },
     "metadata": {},
     "output_type": "display_data"
    }
   ],
   "source": [
    "# Plot solutions\n",
    "V, Nai, m, h, j, O, O_Ca, C0, C1, C2, C3, C4, C_Ca0, C_Ca1, C_Ca2, C_Ca3, C_Ca4, Ca_SS, Ko, Ki, y, X, Cai, P_O1, P_O2, P_C1, P_C2, Ca_JSR, Ca_NSR, HTRPNCa, LTRPNCa = solution.y\n",
    "time = solution.t\n",
    "\n",
    "plt.subplot(3,1,1)\n",
    "plt.plot(time, V)\n",
    "plt.ylabel('Transmembrane Voltage')\n",
    "plt.xlabel('Time (ms)')\n",
    "plt.xlim(0, 600)\n",
    "plt.subplot(3,1,2)\n",
    "plt.plot(time, Ca_SS)\n",
    "plt.ylabel('[Ca]_ss')\n",
    "plt.xlabel('Time (ms)')\n",
    "plt.xlim(0, 600)\n",
    "plt.subplot(3,1,3)\n",
    "plt.plot(time, Cai)\n",
    "plt.ylabel('[Ca]_i')\n",
    "plt.xlabel('Time (ms)')\n",
    "plt.xlim(0, 600)\n",
    "plt.show()"
   ]
  },
  {
   "cell_type": "markdown",
   "id": "84843956",
   "metadata": {},
   "source": [
    "**Exercise 4a) The ryanodine receptors**\n",
    "\n",
    "The model used by Jafri et al. is based on the Keizer and Levine model. This model consists of 4 states (2 open and 2 closed states). The transitions between $P_{C1}$ and $P_{O1}$ and from $P_{O1}$ to $P_{O2}$ are calcium dependent. Since the RyRs are placed on the subspace the calcium dependency is based on the subspace calcium concentration $Ca^{2+}_{ss}$. In order to go from closed to the first opened calcium state an increase in subspace calcium is needed. In the first open state $P_{O1}$ the receptor can close adapting to its transition $P_{C2}$. However, if the $Ca^{2+}_{ss}$ further increases the channel reopens to state $P_{O2}$. This mechanism allows the modelling of calcium induced calcium release. \n",
    "\n",
    "<img src=\"fig/RyR_Jafri.png\" width=500>\n",
    "\n",
    "Write out the ODEs for the four state variable model and decide based on the model diagram which calcium concentration should be used to determine the opening of the ryanodine receptors. Implement the RyR model in the corresponding place in the code."
   ]
  },
  {
   "cell_type": "markdown",
   "id": "4dc56242",
   "metadata": {},
   "source": [
    "**Exercise 4b) The NCX formulation**\n",
    "\n",
    "Today we have learned a quite complex but very realistic formulation of the NCX by Luo & Rudy (1994):\n",
    "\n",
    "$$I_{\\rm NaCa} = k_{\\rm NaCa}\n",
    "\\frac{\n",
    "{\\rm[Na^+]^3_i [Ca^{2+}]_e} \\cdot {\\rm exp}\\left[\\eta\\cdot V\\cdot\\frac{F}{RT}\\right]\n",
    "- {\\rm[Na^+]^3_e [Ca^{2+}]_i} \\cdot {\\rm exp}\\left[(\\eta-1)\\cdot V\\cdot\\frac{F}{RT}\\right]\n",
    "}{\n",
    "\\left(K_{\\rm m, Na}^3 + [{\\rm Na}^+]_{\\rm e}^3\\right)\n",
    "\\left(K_{\\rm m, Ca} + [{\\rm Ca}^{2+}]_{\\rm e}\\right)\n",
    "\\left(1 + k_{\\rm sat}\\cdot {\\rm exp}\\left[(\\eta-1)\\cdot V\\cdot\\frac{F}{RT}\\right]\\right)}\n",
    "$$\n",
    "\n",
    "This expression is also used in the Jafri et al. model. Implement this formulation in the code."
   ]
  },
  {
   "cell_type": "markdown",
   "id": "810eafbf",
   "metadata": {},
   "source": [
    "**Exercise 4c) The Calcium subsystem**\n",
    "\n",
    "As mentioned above this model differenciates between 4 different compartmental calcium concentrations. $Ca^{2+}_{ss}$ and $Ca^{2+}_{i}$ represent the intracellular calcium restricted to the subspace and the intracellular bulk calcium concentrations respectively. $Ca^{2+}_{JSR}$ and $Ca^{2+}_{NSR}$ represent the calcium concentration in the JSR and NSR which are two subregions within the sarcoplasmic reticulum.\n",
    "Based on the following diagram write the equations for the 4 different calcium concentraction changes as we did in exercise 3b.\n",
    "\n",
    "<img src=\"fig/Jafri_extended.png\" width=800>"
   ]
  },
  {
   "cell_type": "markdown",
   "id": "5a118615",
   "metadata": {},
   "source": [
    "Note that the transmembrane currents are given in Amperes, which measures the electron flow per second. However, we eant to calculate here a concentration, which for chemical species is often given in molar (mol/L). For this reason if the calcium concentrations are affected by Ampere currents consider using the unit conversion factors \"conv_Amp_SS\" and \"conv_Amp_myo\" (which depend on the subspace (SS) and the myoplasm (myo) volume respectively).\n",
    "\n",
    "Please keep in mind to also consider the different compartmental volumes.\n",
    "\n",
    "A further aspect to consider is the buffering effects that affect the calcium concentration. In this model calmodulin and calsequestrin act as buffer. The factors $B_i$, $B_{ss}$ and $B_{JSR}$ can be calculated based on the buffer and calcium concentration in the corresponding compartment. To keep it simple, we have prefilled the buffering factors into the calcium concentration equations and you can fill out which currents and fluxes affect the corresponding concentrations."
   ]
  },
  {
   "cell_type": "markdown",
   "id": "fd8ecc41",
   "metadata": {},
   "source": [
    "**Exercise 4d) Calculating the transmembrane potential**\n",
    "\n",
    "We learned in L3 that the transmembrane potential can be calculated with the total membrane current and the membrane capacitance:\n",
    "\n",
    "$$ \\frac{dV}{dt} = \\frac{I_m}{Cm} $$\n",
    "\n",
    "Based on this equation and the upper diagram fill in the transmembrane currents into the code to calculate the transmembrane potential, and thus the action potential. "
   ]
  }
 ],
 "metadata": {
  "kernelspec": {
   "display_name": "Python 3 (ipykernel)",
   "language": "python",
   "name": "python3"
  },
  "language_info": {
   "codemirror_mode": {
    "name": "ipython",
    "version": 3
   },
   "file_extension": ".py",
   "mimetype": "text/x-python",
   "name": "python",
   "nbconvert_exporter": "python",
   "pygments_lexer": "ipython3",
   "version": "3.12.10"
  }
 },
 "nbformat": 4,
 "nbformat_minor": 5
}
