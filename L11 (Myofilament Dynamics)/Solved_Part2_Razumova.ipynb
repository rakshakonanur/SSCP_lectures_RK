{
 "cells": [
  {
   "cell_type": "markdown",
   "metadata": {},
   "source": [
    "# Razumova Model of Stiffness/ Distortion with varying cooperative mechanisms\n",
    "## Notebook prepared by: K.J. McCabe"
   ]
  },
  {
   "cell_type": "markdown",
   "metadata": {},
   "source": [
    "Here we will work through the stiffness distortion crossbridge model proposed in 2000 by Maria V. Razumova, Anna E. Bukatina, and Kenneth B. Campbell.\n",
    "\n",
    "The model represents a half sarcomere, and relies on the assumption that the force generated in a given sarcomere unit is equal to the sum of forces of each individual crossbridge (XB) in the region. The model also represents force as the product of the stiffness of all parallel cross bridges and their average distortion.\n",
    "\n",
    "So, we can represent the force of a half sarcomere as: \n",
    "$$\\begin{align}\n",
    "F(t) = e\\sum_{i=1}^{n}A_i(t)x_i(t)\n",
    "\\end{align}\n",
    "$$\n",
    "Where e is the stiffness of a XB, $A_i(t)$ is the number of XBs in the $i$th state, and $x_i(t)$ average distortion of XBs in the $i$th state.\n",
    "\n",
    "Both $A_i$ and $x_i$ vary in time, and should depend on a number of important mechanisms such as Calcium availability, filament overlap, regulatory protein dynamics, and XB kinetics. For this model, the authors focused on the latter 2 mechanisms and held filament overlap and $[Ca^{2+}]$ constant."
   ]
  },
  {
   "cell_type": "markdown",
   "metadata": {},
   "source": [
    "<img src=\"fig/Razumova_Schematic.png\" width=400></img>\n",
    "**Figure** The model has 4 main states, outlined in this schematic. $R_{off}$ represents a regulatory unit where the thin filament is inactive. D is the detached state, with active thin filament. $A_{1}$ is attached XB pre-powerstroke, and $A_{1}$ is attached XB post-powerstroke.\n",
    "\n",
    "Using inspection and our knowledge of mass-action kinetics, we can write ODEs for the system:\n",
    "$$\\begin{align}\n",
    "\\\\\n",
    "\\dot{D}(t) = k_{on}R_{off}(t)+f'A_1(t)+gA_2(t)-(k_off+f)D(t)\\\\\n",
    "\\dot{A_1}(t) = fD(t)+ h'A_2(t)-[f'+h]A_1(t)\\\\\n",
    "\\dot{A_2}(t) = hA_1(t)-[h'+g]A_2(t)\\\\\n",
    "\\\\\n",
    "\\end{align}\n",
    "$$\n",
    "Mass conservation tells us that $R_{off}(t) = R_T-{D}(t)- A_1(t)-A_2(t)$ where $R_T$ represents the total number of crossbridges for a particular filament overlap fraction. Though the model does not consider filament overlap, one could introduce length-dependence into the model by adjusting $R_T$."
   ]
  },
  {
   "cell_type": "markdown",
   "metadata": {},
   "source": [
    "Rate constants between the on and off RU states depend on Calcium, and are given by:\n",
    "\n",
    "$$\\begin{align}\n",
    "\\\\\n",
    "k^u_{on} = k_{on}^0 + [k_{on}^{Ca}-k_{on}^0] \\frac{Ca}{Ca_{50}+Ca}\\\\\n",
    "k^u_{off} = k_{off}^0 + [k_{off}^{Ca}-k_{off}^0] \\frac{Ca}{Ca_{50}+Ca}\\\\\n",
    "\\\\\n",
    "\\end{align}\n",
    "$$\n",
    "\n",
    "Where $Ca_{50}=(k^-/k^+)$ is the Calcium concentration of half $Ca^{2+}$ saturation of thin filament binding sites.\n"
   ]
  },
  {
   "cell_type": "markdown",
   "metadata": {},
   "source": [
    "### State Subpopulations\n",
    "We may group states into subpopulations of interest. For example:\n",
    "$$\\begin{align}\n",
    "\\lambda^{off} = \\frac{R_{off}}{R_T} \\text{represents the fraction of sites that are off.}\\\\\n",
    "\\lambda^{on} = \\frac{D+A_1+A_2}{R_T} \\text{represents the fraction of sites that are on, or active.}\\\\\n",
    "\\lambda^{cyc} = \\lambda^{on} \\text{represents the fraction of sites participating in XB cycling.}\\\\\n",
    "\\lambda^{D} = \\frac{D}{R_T} \\text{represents the fraction of sites that are in the D state.}\\\\\n",
    "\\lambda^{A_1} = \\frac{A_1}{R_T} \\text{represents the fraction of sites that are in the $A_1$ state.}\\\\\n",
    "\\lambda^{A_2} = \\frac{A_2}{R_T} \\text{represents the fraction of sites that are in the $A_2$ state.}\\\\\n",
    "\\lambda^{A_2}_{cyc} = \\frac{A_2}{D+A_1+A_2} \\text{represents the fraction of cycling XBs that are generating force.}\\\\\n",
    "\\end{align}\n",
    "$$\n"
   ]
  },
  {
   "cell_type": "markdown",
   "metadata": {},
   "source": [
    "## Cooperative effects and rate coefficients: RU-RU Cooperativity\n",
    "\n",
    "\n",
    "**Figure** Here the authors represent all possible nearest-neighbor configurations: both neighbors in off position (11), one neighbor in on and one in off (12 and 21), and both neighbors in on position (22).\n",
    "<img src=\"fig/Razumova_Fig2.png\" width=400></img>\n",
    "\n",
    "\n",
    "Transitions between the thin filament being on and off are represented by $k_{on}$ and $k_{off}$, which obey Boltzmann statistics:\n",
    "\n",
    "$$\\begin{align}\n",
    "k_{on}^*= k_a e^{-\\frac{B_{12}^\\#}{\\kappa T}}\\\\\n",
    "k_{off}^*= k_b e^{-\\frac{B_{21}^\\#}{\\kappa T}}\n",
    "\\end{align}\\\\\n",
    "$$\n",
    "where $k_a$ and $k_b$ are attempt frequencies; $B_{12}$ and $B_{21}$ are\n",
    "activation energies that need to be overcome to make the transition from state 1 (off) to 2 (on) and from state 2 to 1, respectively; # stands for any nearest-neighbor configura- tion; $\\kappa$ is the Boltzmann constant; and T is the absolute temperature. The exponential term, $e^{(B_{ij}/ T)}$, expresses the probability that an attempt to make a transition will be successful. The higher the activation energy, i.e., $B_{ij}$, the smaller the probability of success. Therefore, for a RU in the off state, the highest activation energy would exist for the case where both neighbors are in the off position, and the lowest activation energy for the case where both neighbors are in the on position.\n",
    "\n",
    "We can consider for the whole population of RUs, \n",
    "<img src=\"fig/Neighbor_Rates_Razumova.png\" width=400></img>\n",
    "\n",
    "Where $k_a$ is an attempt frequency, and inside the brackets we evaluate the average probability of a successful attempt over the whole population. Assuming a random distribution of events, the likelihood that a neighbor will be off is $\\lambda_{off}$ and the likelihood that a neighbor will be on is $\\lambda_{on}$. So, we can write an overall equation:\n",
    "$$\\begin{align}\n",
    "k_{on} = k_a (\\lambda^{off}\\lambda^{off}e^{-\\frac{B_{12}^{11}}{\\kappa T}} +\\lambda^{off}\\lambda^{on}e^{-\\frac{B_{12}^{12}}{\\kappa T}} +\\lambda^{on}\\lambda^{off}e^{-\\frac{B_{12}^{21}}{\\kappa T}} +\\lambda^{on}\\lambda^{on}e^{-\\frac{B_{12}^{22}}{\\kappa T}})\\\\ \n",
    "k_{on} = k_a e^{-\\frac{B_{12}^{11}}{\\kappa T}}((\\lambda^{off})^2+2\\lambda^{on}\\lambda^{off} e^{-\\frac{B_{12}^{21-}-B_{12}^{11}}{\\kappa T}}+ (\\lambda^{on})^2 e^{-\\frac{B_{12}^{22-}-B_{12}^{11}}{\\kappa T}})\n",
    "\\end{align}\\\\\n",
    "$$\n",
    "\n",
    "If we consider that an interaction between adjacent RUs leads to activation energies as described by:\n",
    "$$\\begin{align}\n",
    "B_{12}^{12}-B_{12}^{11}=-U\n",
    "B_{12}^{12}-B_{12}^{22}=U\n",
    "\\end{align}\\\\\n",
    "$$\n",
    "\n",
    "Then the $k_{on}$ equation becomes:\n",
    "$$\\begin{align}\n",
    "k_{on} = k_a e^{-\\frac{B_{12}^{11}}{\\kappa T}}((\\lambda^{off})^2+2\\lambda^{on}\\lambda^{off} e^{\\frac{U}{\\kappa T}}+ (\\lambda^{on})^2 e^{\\frac{2U}{\\kappa T}})\\\\\n",
    "k_{on} = k_{on}^u (\\lambda^{off}+\\lambda^{on} e^{\\frac{U}{\\kappa T}})^2\n",
    "\\end{align}\\\\\n",
    "$$\n",
    "Where $k_{on}^u = k_a e^{-\\frac{B_{12}^{11}}{\\kappa T}}$ is a reference $k_{on}$ coefficient for when both neighbors are off. \n",
    "\n",
    "We can call $u = e^{\\frac{U}{\\kappa T}}$, so that when $u$ = 1, there is no effect from nearest neighbor interactions (no RU-RU cooperativity).\n",
    "\n",
    "**A note here:** we will call this $k_{on}$ $k_{on}^w$, because we still have some alterations to make to $k_{on}$ and $k_{off}$ when we consider XB-RU cooperativity. \n",
    "\n",
    "$$\\begin{align}\n",
    "k_{on}^w = k_{on}^u [1+\\lambda^{on}(u-1)]^2\n",
    "\\end{align}\\\\\n",
    "$$\n",
    "\n",
    "We can find a similar relationship for the off direction,\n",
    "$$\\begin{align}\n",
    "k_{off}^w = k_{off}^u [u-\\lambda^{on}(u-1)]^2\n",
    "\\end{align}\\\\\n",
    "$$"
   ]
  },
  {
   "cell_type": "markdown",
   "metadata": {},
   "source": [
    "### XB-XB Cooperativity\n",
    "\n",
    "We can similarly derive an equation for f and f' which take into account the nearest neighbor status of XB binding.\n",
    "<img src=\"fig/xbxb_Rates.png\" width=400></img>\n",
    "$$\\begin{align}\n",
    "f = f_{0} [1+\\lambda^{A_2}(e^{(v-1)}-1)]^2\\\\\n",
    "f' = f_{0}' [1+\\lambda^{A_2}(e^{-(v-1)}-1)]^2\\\\\n",
    "\\end{align}\\\\\n",
    "$$\n",
    "\n",
    "This introduces a parameter $v$ which increases f and decreases f' as $v$ increases, so a larger value of $v$ means tighter coupling for XB-XB cooperativity."
   ]
  },
  {
   "cell_type": "markdown",
   "metadata": {},
   "source": [
    "### XB-RU Cooperativity\n",
    "\n",
    "We can similarly derive an equation for f and f' which take into account the nearest neighbor status of XB binding.\n",
    "<img src=\"fig/xbru_Rates.png\" width=400></img>\n",
    "$$\\begin{align}\n",
    "k_{on} = k_{on}^w [1+\\lambda^{A_2}(e^{(w-1)}-1)]^2\\\\\n",
    "k_{off} = k_{off}^w [1+\\lambda^{A_2}(e^{-(w-1)}-1)]^2\\\\\n",
    "\\end{align}\\\\\n",
    "$$\n",
    "\n",
    "This introduces a parameter $w$ which increases $k_{on}$ and decreases $k_{off}$ as $w$ increases, so a larger value of $w$ means tighter coupling for XB-RU cooperativity."
   ]
  },
  {
   "cell_type": "code",
   "execution_count": null,
   "metadata": {},
   "outputs": [],
   "source": [
    "# Size of variable arrays:\n",
    "sizeAlgebraic = 13\n",
    "sizeStates = 3\n",
    "sizeConstants = 19\n",
    "\n",
    "#import necessary libraries\n",
    "from math import *\n",
    "from numpy import *\n",
    "import pylab\n",
    "from scipy.integrate import ode\n",
    "import matplotlib.pyplot as plt"
   ]
  },
  {
   "cell_type": "code",
   "execution_count": null,
   "metadata": {},
   "outputs": [],
   "source": [
    "#This function allows us to compute the rates dD/dt, dA1/dt, and dA2_dt at each time step. (\"RHS\")\n",
    "#IMPORTANT NOTE: Here we should write D = states[0],A1 = states[1], and A2 = states[2]\n",
    "\n",
    "def computeRates(voi, states, constants):\n",
    "    rates = [0.0] * sizeStates; algebraic = [0.0] * sizeAlgebraic\n",
    "    #Here we are considering D = states[0],A1 = states[1], and A2 = states[2]\n",
    "    rates[2] = h*states[1]-(h_prime+g)*states[2]\n",
    "    lambda_A_2 = states[2]/R_T\n",
    "    f = f_0*(power(1.00000+lambda_A_2*(exp(v-1.00000)-1.00000), 2.00000))\n",
    "    f_prime = f_prime_0*(power(1.00000+lambda_A_2*(exp(-(v-1.00000))-1.00000), 2.00000))\n",
    "    rates[1] = (f*states[0]+h_prime*states[2])-(f_prime+h)*states[1]\n",
    "    R_off = R_T-(states[0]+states[1]+states[2])\n",
    "    lambda_on = (states[0]+states[1]+states[2])/R_T\n",
    "    k_w_on = k_u_on*(power(1.00000+lambda_on*(u-1.00000), 2.00000))\n",
    "    k_on = k_w_on*(power(1.00000+lambda_A_2*(exp(w-1.00000)-1.00000), 2.00000))\n",
    "    k_w_off = k_u_off*(power(u-lambda_on*(u-1.00000), 2.00000))\n",
    "    k_off = k_w_off*(power(1.00000+lambda_A_2*(exp(-(w-1.00000))-1.00000), 2.00000))\n",
    "    rates[0] = (k_on*R_off+f_prime*states[1]+g*states[2])-(k_off+f)*states[0]\n",
    "    return(rates)"
   ]
  },
  {
   "cell_type": "code",
   "execution_count": null,
   "metadata": {},
   "outputs": [],
   "source": [
    "# Initialise constants and state variables\n",
    "constants = [0.0] * sizeConstants; init_states = [0.0] * sizeStates;\n",
    "R_T = 1\n",
    "D_0 = 0.01\n",
    "A1_0 = 0.01\n",
    "A2_0 = 0.01\n",
    "k_0_on = 0\n",
    "k_0_off = 100.\n",
    "k_Ca_on = 120.\n",
    "k_Ca_off = 50\n",
    "f_0 = 50\n",
    "f_prime_0 = 400\n",
    "h = 8\n",
    "h_prime = 6\n",
    "g = 4\n",
    "n_H = 1\n",
    "u = 1\n",
    "F = 1\n",
    "w = 1\n",
    "v = 1\n",
    "Ca_50 = k_Ca_off/k_Ca_on\n",
    "Ca = Ca_50*100\n",
    "k_u_on = round(k_0_on+((k_Ca_on-k_0_on)*Ca)/(Ca_50+Ca),2)\n",
    "k_u_off = k_0_off+((k_Ca_off-k_0_off)*Ca)/(Ca_50+Ca)\n",
    "constants = [R_T, k_0_on, k_0_off, k_Ca_on, k_Ca_off, f_0, f_prime_0,  h, h_prime, g, n_H, u, w, v, Ca_50, Ca, F, k_u_on, k_u_off]\n",
    "init_states = [D_0,A1_0,A2_0]"
   ]
  },
  {
   "cell_type": "code",
   "execution_count": null,
   "metadata": {},
   "outputs": [],
   "source": [
    "# Set timespan to solve over\n",
    "time = linspace(0, 10, 500)\n",
    "    \n",
    "\n",
    "# Construct ODE object to solve\n",
    "r = ode(computeRates)\n",
    "r.set_integrator('vode', method='bdf', atol=1e-06, rtol=1e-06, max_step=1)\n",
    "r.set_initial_value(init_states, time[0])\n",
    "r.set_f_params(constants)\n",
    "\n",
    "    # Solve model\n",
    "states = array([[0.0] * len(time)] * sizeStates)\n",
    "states[:,0] = init_states\n",
    "for (i,t) in enumerate(time[1:]):\n",
    "    if r.successful():\n",
    "        r.integrate(t)\n",
    "        states[:,i+1] = r.y\n",
    "    else:\n",
    "        break\n",
    "\n",
    "D, A_1, A_2 = hsplit(transpose(states), 3)\n"
   ]
  },
  {
   "cell_type": "code",
   "execution_count": null,
   "metadata": {},
   "outputs": [],
   "source": [
    "# Plot data with labels\n",
    "plt.plot(time, D, label=r'D')\n",
    "plt.plot(time, A_1, label=r'A$_1$')\n",
    "plt.plot(time, A_2, label=r'A$_2$')\n",
    "\n",
    "# plot\n",
    "plt.xlabel('Time')\n",
    "plt.ylabel('State Probability')\n",
    "plt.legend()\n",
    "plt.ylim(0,1)\n",
    "\n",
    "plt.show()"
   ]
  },
  {
   "cell_type": "code",
   "execution_count": null,
   "metadata": {},
   "outputs": [],
   "source": [
    "#Timecourse of force development at constant [Ca2+]\n",
    "\n",
    "plt.plot(time, A_2, label=r'Relative Force')\n",
    "\n",
    "# plot\n",
    "plt.xlabel('Time')\n",
    "plt.ylabel('Relative Force')\n",
    "plt.legend()\n",
    "plt.xlim(0,1)\n",
    "\n",
    "plt.show()\n",
    "\n",
    "#calculate k_dev\n",
    "f_max = A_2[len(A_2)-1]\n",
    "f_half = (1-(1/e))*f_max\n",
    "index = 0\n",
    "while A_2[index] < f_half:\n",
    "    index+=1\n",
    "t_half = time[index]\n",
    "ktr = 1 / t_half\n",
    "print(\"k_dev = \",ktr, \" 1/sec\")"
   ]
  },
  {
   "cell_type": "markdown",
   "metadata": {},
   "source": [
    "Now that we have built the model, let's see how adjusting the 3 cooperativity coefficients (u = RU-RU, v = XB-XB, w = XB-RU) can affect the steady-state (SS) force-pCa curve and the SS force development of the system. "
   ]
  },
  {
   "cell_type": "code",
   "execution_count": null,
   "metadata": {},
   "outputs": [],
   "source": [
    "from L12_widgets import ReactionWidget\n",
    "ReactionWidget().display()"
   ]
  },
  {
   "cell_type": "code",
   "execution_count": null,
   "metadata": {},
   "outputs": [],
   "source": []
  },
  {
   "cell_type": "markdown",
   "metadata": {},
   "source": [
    "If the widget is lagging, take a look at the figures below. What do you notice about the differences in the effects of u (RU-RU), v (XB-XB), and w (XB-RU) cooperativity coefficients? The left images are the absolute force curves, and the right images are normalized force. \n",
    "\n",
    "<img src=\"fig/u_effects.png\" width=600></img>\n",
    "<img src=\"fig/v_effects.png\" width=600></img>\n",
    "<img src=\"fig/w_effects.png\" width=600></img>"
   ]
  },
  {
   "cell_type": "code",
   "execution_count": null,
   "metadata": {},
   "outputs": [],
   "source": []
  }
 ],
 "metadata": {
  "kernelspec": {
   "display_name": "Python 3 (ipykernel)",
   "language": "python",
   "name": "python3"
  },
  "language_info": {
   "codemirror_mode": {
    "name": "ipython",
    "version": 3
   },
   "file_extension": ".py",
   "mimetype": "text/x-python",
   "name": "python",
   "nbconvert_exporter": "python",
   "pygments_lexer": "ipython3",
   "version": "3.12.10"
  }
 },
 "nbformat": 4,
 "nbformat_minor": 4
}
