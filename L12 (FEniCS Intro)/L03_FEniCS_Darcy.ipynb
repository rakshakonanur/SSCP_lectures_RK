{
 "cells": [
  {
   "cell_type": "markdown",
   "metadata": {},
   "source": [
    "# Introduction to FEniCS - Darcy\n",
    "\n",
    "\n",
    "<img style=\"float: left;\" src=\"fig/fenics_logo.png\" width=200>\n"
   ]
  },
  {
   "cell_type": "markdown",
   "metadata": {},
   "source": [
    "In this notebook we will introduce the concept of pressure driven flow in porous media, as described by Darcy's equation. You will learn how to: \n",
    " - Solve for a Darcian pressure field \n",
    " - Post-process a velocity field for application to fluid flow in porous media\n",
    " "
   ]
  },
  {
   "cell_type": "markdown",
   "metadata": {},
   "source": [
    "# Porous flow and Darcy's equation in steady state\n",
    "<img style=\"float: left;\" src=\"fig/Darcy.png\" width=400> \n"
   ]
  },
  {
   "cell_type": "markdown",
   "metadata": {
    "nbpresent": {
     "id": "4b2c5c7c-5177-47bc-bd42-cffb1f5e1ce9"
    }
   },
   "source": [
    "## Mathematical formulation:\n",
    "\n",
    "Darcy's law is an equation that describes the flow of a fluid through a porous medium. \n",
    "In the absence of gravitational forces, it provides a simple relationship between the flow rate through a porous medium and the pressure drop over a given distance.\n",
    "For homogeneous permeable medium with permeability ${\\kappa}$ and fluid dynamic viscosity ${\\mu}$, one we can derive: \n",
    "\n",
    "$$ q =  - \\: \\frac {\\kappa} {\\mu} \\:  \\nabla p \\:\\:\\:\\:\\:\\:\\:\\:\\:\\:\\:\\:  (1) $$ \n",
    "\n",
    "where $q$ is the fluid discharge per unit area (m/s) and $\\nabla p$ is the fluid pressure gradient vector (Pa/m).\n",
    "The discharge flux is often referred to as the Darcy flux or Darcy velocity, and is an average quantity of the fluid front through the porous media, it is different from the local fluid velocity traveling through the pore network.\n",
    "The fluid velocity $v_f$ can be recovered by rescaling the Darcy flux $q$ by the porosity of the media $\\phi$.\n",
    "\n",
    "$$ v_f =  \\frac {q} {\\phi}  $$ \n",
    "\n",
    "As now, we have one equation for two unknowns (the Darcy flux and the pressure gradient).\n",
    "By using the mass balance equation of the fluid, one can derive an expression for the fluid pressure:\n",
    "\n",
    "$$ \\frac {\\partial \\: \\phi\\rho_f} {\\partial t} = \\nabla \\cdot \\rho_f v_f  $$ \n",
    "\n",
    "Which simplifies for constant fluid density $\\rho_f$ and constant porosity field $\\phi$ to: \n",
    "\n",
    "$$ \\nabla \\cdot v_f =  0 \\:\\:\\:\\:\\:\\: or \\:\\:\\:\\:\\:\\: \\nabla \\cdot q =  0 \\:\\:\\:\\:\\:\\:\\:\\:\\:\\:\\:\\:  (2) $$ \n",
    "\n",
    "Using equation (1) in (2) gives:\n",
    "\n",
    "$$ \\nabla \\cdot   ( - \\: \\frac {\\kappa} {\\mu} \\:  \\nabla p ) =  0 $$ \n",
    "\n",
    "We have derived a Poisson equation as an expression for the fluid pressure field.\n",
    "One can solve this equation given some boundary conditions."
   ]
  },
  {
   "cell_type": "markdown",
   "metadata": {},
   "source": [
    "## Implementation\n",
    "We want to implement this variational problem"
   ]
  },
  {
   "cell_type": "code",
   "execution_count": 1,
   "metadata": {},
   "outputs": [],
   "source": [
    "%matplotlib inline\n",
    "\n",
    "# Import all the functions from DOLFIN (computational backend of the FEniCS project)\n",
    "from dolfin import * "
   ]
  },
  {
   "cell_type": "markdown",
   "metadata": {
    "nbpresent": {
     "id": "eac7738a-a3ab-469f-8197-f967b40d5565"
    }
   },
   "source": [
    "### Discretizing the domain and space of functions\n",
    "We can now use FEniCS to solve our problem. First, we discretize our domain by creating a mesh of $\\Omega$. "
   ]
  },
  {
   "cell_type": "code",
   "execution_count": 2,
   "metadata": {
    "nbpresent": {
     "id": "08a002cf-05da-4000-a448-a4a083765734"
    },
    "scrolled": true
   },
   "outputs": [
    {
     "data": {
      "image/png": "[encoded data removed]",
      "text/plain": [
       "<Figure size 640x480 with 1 Axes>"
      ]
     },
     "metadata": {},
     "output_type": "display_data"
    }
   ],
   "source": [
    "# 20 is number of intervals Omega is divided intoc\n",
    "mesh = UnitSquareMesh(20, 20)\n",
    "plot(mesh)\n",
    "\n",
    "elem = FiniteElement(\"Lagrange\", mesh.ufl_cell(), 1)\n",
    "W = FunctionSpace(mesh, elem)"
   ]
  },
  {
   "cell_type": "markdown",
   "metadata": {
    "nbpresent": {
     "id": "0b23da00-852c-4e47-a728-bd38f4f6d621"
    }
   },
   "source": [
    "### Specifying the weak formulation\n",
    "Next, all we need to do is tell FEniCS the weak formulation of our problem."
   ]
  },
  {
   "cell_type": "code",
   "execution_count": 3,
   "metadata": {
    "nbpresent": {
     "id": "5e623875-16fe-44bd-af26-ff224b2abeb2"
    }
   },
   "outputs": [],
   "source": [
    "kappa_over_mu = Constant(1.0)  # physical material property\n",
    "phi = Constant(0.1)  # porosity, ranging from 0 to 1\n",
    "S = Constant(0.0)  # source term\n",
    "v = TestFunction(W)\n",
    "p = TrialFunction(W)"
   ]
  },
  {
   "cell_type": "markdown",
   "metadata": {},
   "source": [
    "### Set the boundary conditions\n",
    "Next, all we need to do is tell FEniCS the weak formulation of our problem."
   ]
  },
  {
   "cell_type": "code",
   "execution_count": 4,
   "metadata": {},
   "outputs": [],
   "source": [
    "value_left = Constant(1.0)\n",
    "value_right = Constant(0.0)\n",
    "\n",
    "# test with differente boundary conditions...\n",
    "# Imposing Dirichlet BC to the left boundary node\n",
    "bc_l = DirichletBC(W, value_left, \"on_boundary && near(x[0], 0)\")\n",
    "# Imposing Dirichlet BC to the right boundary node\n",
    "bc_r = DirichletBC(W, value_right, \"on_boundary && near(x[0], 1)\")\n",
    "bcs = [bc_l, bc_r]   # list of boundary conditions to apply to the problem"
   ]
  },
  {
   "cell_type": "markdown",
   "metadata": {},
   "source": [
    "### Exercise 1: Create and solve the Darcy equation"
   ]
  },
  {
   "cell_type": "code",
   "execution_count": null,
   "metadata": {},
   "outputs": [],
   "source": [
    "# Add solution here"
   ]
  },
  {
   "cell_type": "markdown",
   "metadata": {},
   "source": [
    "### Solution:"
   ]
  },
  {
   "cell_type": "code",
   "execution_count": 5,
   "metadata": {
    "collapsed": true,
    "jupyter": {
     "outputs_hidden": true,
     "source_hidden": true
    },
    "nbdime-conflicts": {
     "local_diff": [
      {
       "key": "jupyter",
       "op": "remove"
      }
     ],
     "remote_diff": [
      {
       "diff": [
        {
         "key": "source_hidden",
         "op": "remove"
        }
       ],
       "key": "jupyter",
       "op": "patch"
      }
     ]
    },
    "tags": [
     "hide-input",
     "hide-output"
    ]
   },
   "outputs": [
    {
     "name": "stdout",
     "output_type": "stream",
     "text": [
      "Calling FFC just-in-time (JIT) compiler, this may take some time.\n",
      "Calling FFC just-in-time (JIT) compiler, this may take some time.\n",
      "Solving linear variational problem.\n"
     ]
    },
    {
     "data": {
      "text/plain": [
       "<matplotlib.tri._tricontour.TriContourSet at 0x7c9b9ad86d50>"
      ]
     },
     "execution_count": 5,
     "metadata": {},
     "output_type": "execute_result"
    },
    {
     "data": {
      "image/png": "[encoded data removed]",
      "text/plain": [
       "<Figure size 640x480 with 1 Axes>"
      ]
     },
     "metadata": {},
     "output_type": "display_data"
    }
   ],
   "source": [
    "\n",
    "F = kappa_over_mu * dot(grad(p), grad(v)) * dx - S * \\\n",
    "    v * dx  # residual form of our equation\n",
    "a, L = system(F)\n",
    "ph = Function(W)  # place to store the solution\n",
    "solve(a == L, ph, bcs)\n",
    "plot(ph)"
   ]
  },
  {
   "cell_type": "markdown",
   "metadata": {},
   "source": [
    "# Estimate the velocity field from the pressure field (postprocessing)\n",
    "In the previous tutorials, we have only worked with scalar quantities (such as concentration, pressure, temperature). However, as we would like to get the velocity field\n",
    "$$ v_f =  \\frac {q} {\\phi}  $$ \n",
    "we need to define a suitable finite element space for this quantity.\n",
    "\n",
    "As $q$ is a first order Lagrange function, it's derivative is a cell-wise continuous function (as explained in [Lecture 1](./L01_FEM_intro.ipynb)).\n",
    "Thus, we create a vector-element, which will have the same number of dimensions as the mesh (1 in 1D, 2 in 2D, 3 in 3D)."
   ]
  },
  {
   "cell_type": "code",
   "execution_count": 12,
   "metadata": {},
   "outputs": [],
   "source": [
    "# This is new type of element (for vector field discretization)\n",
    "elem_v = VectorElement(\"DG\", mesh.ufl_cell(), 0)\n",
    "W_v = FunctionSpace(mesh, elem_v)"
   ]
  },
  {
   "cell_type": "markdown",
   "metadata": {},
   "source": [
    "Next, we need to compute $v_f$. We do this by a projection, which means solving the linear problem:\n",
    "Find $v_f\\in W_v$ such that\n",
    "$$\n",
    "\\int_\\Omega (v_f - \\frac{q}{\\phi})v~\\mathrm{d}x = 0\\qquad\\forall v\\in W_v\n",
    "$$\n",
    "There are several ways of computing this projection. The simplest (but most expensive if we need to do it multiple times) is to use the `project` function in FEniCS."
   ]
  },
  {
   "cell_type": "code",
   "execution_count": 13,
   "metadata": {},
   "outputs": [
    {
     "data": {
      "text/plain": [
       "<matplotlib.colorbar.Colorbar at 0x7c9b9aaba750>"
      ]
     },
     "execution_count": 13,
     "metadata": {},
     "output_type": "execute_result"
    },
    {
     "data": {
      "image/png": "[encoded data removed]",
      "text/plain": [
       "<Figure size 640x480 with 2 Axes>"
      ]
     },
     "metadata": {},
     "output_type": "display_data"
    }
   ],
   "source": [
    "import matplotlib.pyplot as plt\n",
    "vf = project(-kappa_over_mu * grad(ph) / phi, W_v)\n",
    "fig = plt.figure()\n",
    "im = plot(vf)\n",
    "plt.colorbar(im, format=\"%.2e\")"
   ]
  },
  {
   "cell_type": "markdown",
   "metadata": {},
   "source": [
    "## Paraview\n",
    "We can output the solutions to [Paraview](https://www.paraview.org/) for post-processing.\n",
    "We do this by using the `xdmf`-format, as shown below"
   ]
  },
  {
   "cell_type": "code",
   "execution_count": null,
   "metadata": {},
   "outputs": [],
   "source": [
    "with XDMFFile(\"Darcy_solutions.xdmf\") as xdmf:\n",
    "    xdmf.write(vf, 0.0)\n",
    "    xdmf.write(ph, 0.0)"
   ]
  },
  {
   "cell_type": "markdown",
   "metadata": {},
   "source": [
    "# Advanced: Reusable projection\n",
    "As mentioned above, a projection is solve the problem\n",
    "\n",
    "$$\n",
    "a(u, v) = l(v)\n",
    "$$\n",
    "\n",
    "where\n",
    "\n",
    "$$\n",
    "a(u,v)=\\int_\\Omega u\\cdot v~\\mathrm{d}x\n",
    "$$\n",
    "\n",
    "$$\n",
    "l(v)=\\int_\\Omega f\\cdot v~\\mathrm{d}x\n",
    "$$"
   ]
  },
  {
   "cell_type": "code",
   "execution_count": null,
   "metadata": {},
   "outputs": [],
   "source": [
    "import matplotlib.pyplot as plt\n",
    "\n",
    "\n",
    "class Projector():\n",
    "    def __init__(self, V):\n",
    "        u = TrialFunction(V)\n",
    "        v = TestFunction(V)\n",
    "        a = inner(u, v) * dx\n",
    "        self.A = assemble(a)\n",
    "        self.u = Function(V)\n",
    "        self.solver = LUSolver(self.A)\n",
    "\n",
    "    def __call__(self, f):\n",
    "        v = TestFunction(self.u.function_space())\n",
    "        b = assemble(inner(f, v)*dx)\n",
    "        self.solver.solve(self.u.vector(), b)\n",
    "        return self.u\n",
    "\n",
    "\n",
    "projector = Projector(W_v)\n",
    "vel_f = projector(-kappa_over_mu * grad(ph) / phi)\n",
    "fig = plt.figure()\n",
    "im = plot(vel_f)\n",
    "plt.colorbar(im, format=\"%.2e\")"
   ]
  },
  {
   "cell_type": "markdown",
   "metadata": {},
   "source": [
    "# Advanced: Local projection\n",
    "\n",
    "As we are using a discontinuous function space to represent the velocity the degrees of freedom in each cell is independent of the others. Therefore, we can create a projection function using a `LocalSolver`."
   ]
  },
  {
   "cell_type": "code",
   "execution_count": null,
   "metadata": {},
   "outputs": [],
   "source": [
    "def local_project(f, V):\n",
    "    u = TrialFunction(V)\n",
    "    v = TestFunction(V)\n",
    "    a_proj = inner(u, v)*dx\n",
    "    b_proj = inner(f, v)*dx\n",
    "    solver = LocalSolver(a_proj, b_proj)\n",
    "    solver.factorize()\n",
    "    u = Function(V)\n",
    "    solver.solve_local_rhs(u)\n",
    "    return u\n",
    "\n",
    "\n",
    "vel_f = local_project(-kappa_over_mu * grad(ph) / phi, W_v)\n",
    "fig = plt.figure()\n",
    "plot(mesh, linewidth=0.1)\n",
    "im = plot(vel_f)\n",
    "plt.colorbar(im, format=\"%.2e\")"
   ]
  },
  {
   "cell_type": "markdown",
   "metadata": {},
   "source": []
  }
 ],
 "metadata": {
  "anaconda-cloud": {},
  "kernelspec": {
   "display_name": "Python 3 (ipykernel)",
   "language": "python",
   "name": "python3"
  },
  "language_info": {
   "codemirror_mode": {
    "name": "ipython",
    "version": 3
   },
   "file_extension": ".py",
   "mimetype": "text/x-python",
   "name": "python",
   "nbconvert_exporter": "python",
   "pygments_lexer": "ipython3",
   "version": "3.9.7"
  },
  "nbdime-conflicts": {
   "local_diff": [
    {
     "diff": [
      {
       "diff": [
        {
         "key": 0,
         "op": "addrange",
         "valuelist": [
          "3.12.10"
         ]
        },
        {
         "key": 0,
         "length": 1,
         "op": "removerange"
        }
       ],
       "key": "version",
       "op": "patch"
      }
     ],
     "key": "language_info",
     "op": "patch"
    }
   ],
   "remote_diff": [
    {
     "diff": [
      {
       "diff": [
        {
         "key": 0,
         "op": "addrange",
         "valuelist": [
          "3.12.3"
         ]
        },
        {
         "key": 0,
         "length": 1,
         "op": "removerange"
        }
       ],
       "key": "version",
       "op": "patch"
      }
     ],
     "key": "language_info",
     "op": "patch"
    }
   ]
  },
  "nbpresent": {
   "slides": {
    "015be1d4-345c-491f-bb2b-4c34965c338b": {
     "id": "015be1d4-345c-491f-bb2b-4c34965c338b",
     "prev": "0612798d-d429-44d7-bf81-9ebaed4ef0aa",
     "regions": {
      "a132e000-c1d9-4993-aea1-e5154c3e44e0": {
       "attrs": {
        "height": 0.8,
        "width": 0.8,
        "x": 0.1,
        "y": 0.1
       },
       "content": {
        "cell": "6909eccb-1e85-48ac-9e6f-ca3d34d72fdd",
        "part": "whole"
       },
       "id": "a132e000-c1d9-4993-aea1-e5154c3e44e0"
      }
     }
    },
    "0612798d-d429-44d7-bf81-9ebaed4ef0aa": {
     "id": "0612798d-d429-44d7-bf81-9ebaed4ef0aa",
     "prev": "c0d58ee9-96b9-4be9-aae4-d21100006d0c",
     "regions": {
      "4c57efe8-c451-41ec-b465-26a0b4d1f4a0": {
       "attrs": {
        "height": 0.8,
        "width": 0.8,
        "x": 0.1,
        "y": 0.1
       },
       "content": {
        "cell": "525e1959-16e7-43a7-b7dd-fbb31a4f9b88",
        "part": "whole"
       },
       "id": "4c57efe8-c451-41ec-b465-26a0b4d1f4a0"
      }
     }
    },
    "0dd1cfed-a258-4d95-a2d0-263a209b37da": {
     "id": "0dd1cfed-a258-4d95-a2d0-263a209b37da",
     "prev": "aeac32bf-a3bf-4d71-a94d-cffe32ef0426",
     "regions": {
      "67a39f7a-9ef9-4af7-8221-7b0d7311403f": {
       "attrs": {
        "height": 0.8,
        "width": 0.8,
        "x": 0.1,
        "y": 0.1
       },
       "content": {
        "cell": "c47aea98-5293-4162-a78b-ba93b9703193",
        "part": "whole"
       },
       "id": "67a39f7a-9ef9-4af7-8221-7b0d7311403f"
      }
     }
    },
    "2d71862c-f9dd-4c4a-bd0b-e4e275f5434a": {
     "id": "2d71862c-f9dd-4c4a-bd0b-e4e275f5434a",
     "prev": "51b14400-72d3-482c-a8f6-0f6023c77c9e",
     "regions": {
      "62785e64-b898-4461-9e29-e745b993f067": {
       "attrs": {
        "height": 0.8,
        "width": 0.8,
        "x": 0.1,
        "y": 0.1
       },
       "content": {
        "cell": "507d3841-526f-4f19-a278-cba6a229776c",
        "part": "whole"
       },
       "id": "62785e64-b898-4461-9e29-e745b993f067"
      }
     }
    },
    "3bbfe7ce-8c2b-441e-9a60-ebeeb5694abc": {
     "id": "3bbfe7ce-8c2b-441e-9a60-ebeeb5694abc",
     "prev": "3c1b7ef7-a0f0-41f0-9dc4-22f4aaccac0d",
     "regions": {
      "5540aa5a-15bc-4da3-b523-b38574bae8f7": {
       "attrs": {
        "height": 0.8,
        "width": 0.8,
        "x": 0.1,
        "y": 0.1
       },
       "content": {
        "cell": "a7ae36ff-93c9-458d-8e59-1eec315555a9",
        "part": "whole"
       },
       "id": "5540aa5a-15bc-4da3-b523-b38574bae8f7"
      }
     }
    },
    "3c1b7ef7-a0f0-41f0-9dc4-22f4aaccac0d": {
     "id": "3c1b7ef7-a0f0-41f0-9dc4-22f4aaccac0d",
     "prev": "51368fc3-9441-4f2a-94d2-e037f1724dd9",
     "regions": {
      "f35572c9-0992-4946-9bde-df5e22c042af": {
       "attrs": {
        "height": 0.8,
        "width": 0.8,
        "x": 0.1,
        "y": 0.1
       },
       "content": {
        "cell": "4b2c5c7c-5177-47bc-bd42-cffb1f5e1ce9",
        "part": "whole"
       },
       "id": "f35572c9-0992-4946-9bde-df5e22c042af"
      }
     }
    },
    "4d987153-be5c-4cfe-b405-408935e30152": {
     "id": "4d987153-be5c-4cfe-b405-408935e30152",
     "prev": "8468d0fc-a54f-4aff-90b8-d7610cada1dc",
     "regions": {
      "2a2d149e-4e1e-4d40-99ac-b63f27dcdbbc": {
       "attrs": {
        "height": 0.8,
        "width": 0.8,
        "x": 0.1,
        "y": 0.1
       },
       "content": {
        "cell": "76b65351-272c-4695-83fd-20239382d52e",
        "part": "whole"
       },
       "id": "2a2d149e-4e1e-4d40-99ac-b63f27dcdbbc"
      }
     }
    },
    "51368fc3-9441-4f2a-94d2-e037f1724dd9": {
     "id": "51368fc3-9441-4f2a-94d2-e037f1724dd9",
     "prev": "f6047bc7-7136-433d-8ee4-dff9fcec1a59",
     "regions": {
      "ace0022d-51c1-4135-ae26-2676abe3fde2": {
       "attrs": {
        "height": 0.8,
        "width": 0.8,
        "x": 0.1,
        "y": 0.1
       },
       "content": {
        "cell": "03d50ffa-76f3-47e8-bd94-769c5935995e",
        "part": "whole"
       },
       "id": "ace0022d-51c1-4135-ae26-2676abe3fde2"
      }
     }
    },
    "51b14400-72d3-482c-a8f6-0f6023c77c9e": {
     "id": "51b14400-72d3-482c-a8f6-0f6023c77c9e",
     "prev": "631b1446-6db4-4503-b82a-8ddc8b9e984e",
     "regions": {
      "6907e74b-3542-424a-97fd-74da715edf57": {
       "attrs": {
        "height": 0.8,
        "width": 0.8,
        "x": 0.1,
        "y": 0.1
       },
       "content": {
        "cell": "7e945a63-4d82-433e-922f-d80c765365c8",
        "part": "whole"
       },
       "id": "6907e74b-3542-424a-97fd-74da715edf57"
      }
     }
    },
    "5780af65-6bff-417e-bb66-cfbf181b1343": {
     "id": "5780af65-6bff-417e-bb66-cfbf181b1343",
     "prev": "0dd1cfed-a258-4d95-a2d0-263a209b37da",
     "regions": {
      "8b1213ae-e7ed-4495-b751-9ffd7bfc1542": {
       "attrs": {
        "height": 0.8,
        "width": 0.8,
        "x": 0.1,
        "y": 0.1
       },
       "content": {
        "cell": "d8c9d411-e1ca-4a61-8e1c-5963a313a676",
        "part": "whole"
       },
       "id": "8b1213ae-e7ed-4495-b751-9ffd7bfc1542"
      }
     }
    },
    "5ac86542-75b5-499e-9541-14cf688e2d71": {
     "id": "5ac86542-75b5-499e-9541-14cf688e2d71",
     "prev": "a0887fda-03ad-4342-8ebc-f6ab2fe8a3db",
     "regions": {
      "bb047dfb-fed6-4d9e-b107-bf89940394a9": {
       "attrs": {
        "height": 0.8,
        "width": 0.8,
        "x": 0.1,
        "y": 0.1
       },
       "content": {
        "cell": "aaa29fc4-0dbd-427a-b4c2-afd12d45bf4f",
        "part": "whole"
       },
       "id": "bb047dfb-fed6-4d9e-b107-bf89940394a9"
      }
     }
    },
    "631b1446-6db4-4503-b82a-8ddc8b9e984e": {
     "id": "631b1446-6db4-4503-b82a-8ddc8b9e984e",
     "prev": "7fd80a9d-3b34-4864-884d-17718f11392b",
     "regions": {
      "73e6921a-f141-4015-81da-7063438fb9a8": {
       "attrs": {
        "height": 0.8,
        "width": 0.8,
        "x": 0.1,
        "y": 0.1
       },
       "content": {
        "cell": "14efd9ae-0d67-40a3-96a2-19f7d3faa2ca",
        "part": "whole"
       },
       "id": "73e6921a-f141-4015-81da-7063438fb9a8"
      }
     }
    },
    "692379ba-7df3-4b64-8c9c-7c041542cdb1": {
     "id": "692379ba-7df3-4b64-8c9c-7c041542cdb1",
     "prev": "965de8de-3ed5-4123-aba0-c460d3dc80fc",
     "regions": {
      "1c01cfa7-3624-4e32-b2d4-14454f6b385c": {
       "attrs": {
        "height": 0.8,
        "width": 0.8,
        "x": 0.1,
        "y": 0.1
       },
       "content": {
        "cell": "0b23da00-852c-4e47-a728-bd38f4f6d621",
        "part": "whole"
       },
       "id": "1c01cfa7-3624-4e32-b2d4-14454f6b385c"
      }
     }
    },
    "69452f62-d84c-4bff-8b7c-20ef9af4bd4e": {
     "id": "69452f62-d84c-4bff-8b7c-20ef9af4bd4e",
     "prev": "69c6f80c-efe3-4ddd-9f46-5c50b86f2919",
     "regions": {
      "26b2cd72-e811-4446-a79c-0a6890232ef1": {
       "attrs": {
        "height": 0.8,
        "width": 0.8,
        "x": 0.1,
        "y": 0.1
       },
       "content": {
        "cell": "5d39105d-60e3-402e-aa36-3e7731c888ce",
        "part": "whole"
       },
       "id": "26b2cd72-e811-4446-a79c-0a6890232ef1"
      }
     }
    },
    "69c6f80c-efe3-4ddd-9f46-5c50b86f2919": {
     "id": "69c6f80c-efe3-4ddd-9f46-5c50b86f2919",
     "prev": "cad8f27e-6d2e-4914-80c4-1a026ebdabc9",
     "regions": {
      "87027f3b-915a-4420-b1e9-d7d52ece1c55": {
       "attrs": {
        "height": 0.8,
        "width": 0.8,
        "x": 0.1,
        "y": 0.1
       },
       "content": {
        "cell": "a795ea4d-8c55-405b-8311-a86d620823d9",
        "part": "whole"
       },
       "id": "87027f3b-915a-4420-b1e9-d7d52ece1c55"
      }
     }
    },
    "7fd80a9d-3b34-4864-884d-17718f11392b": {
     "id": "7fd80a9d-3b34-4864-884d-17718f11392b",
     "prev": "b1acce1d-10bf-4b70-b0f8-601689f3702e",
     "regions": {
      "b279d35d-d662-48e3-b47d-1f0658570cec": {
       "attrs": {
        "height": 0.8,
        "width": 0.8,
        "x": 0.1,
        "y": 0.1
       },
       "content": {
        "cell": "115ede87-de1d-4c92-ab2d-41c31105be7a",
        "part": "whole"
       },
       "id": "b279d35d-d662-48e3-b47d-1f0658570cec"
      }
     }
    },
    "8468d0fc-a54f-4aff-90b8-d7610cada1dc": {
     "id": "8468d0fc-a54f-4aff-90b8-d7610cada1dc",
     "prev": "8e8c0fe7-fd01-4852-b190-3cf0be3344bd",
     "regions": {
      "e73df986-0355-4907-9dbb-cb47d63e78e9": {
       "attrs": {
        "height": 0.8,
        "width": 0.8,
        "x": 0.1,
        "y": 0.1
       },
       "content": {
        "cell": "e530e809-00cd-44f0-822c-46ce2b39326e",
        "part": "whole"
       },
       "id": "e73df986-0355-4907-9dbb-cb47d63e78e9"
      }
     }
    },
    "8e8c0fe7-fd01-4852-b190-3cf0be3344bd": {
     "id": "8e8c0fe7-fd01-4852-b190-3cf0be3344bd",
     "prev": "c5d436fa-ef6d-437d-895c-07b2445c3d11",
     "regions": {
      "d81cac13-e5ae-43d8-84be-a8db37685384": {
       "attrs": {
        "height": 0.8,
        "width": 0.8,
        "x": 0.1,
        "y": 0.1
       },
       "content": {
        "cell": "00ecb36c-6239-42a6-bd2e-7bc542688969",
        "part": "whole"
       },
       "id": "d81cac13-e5ae-43d8-84be-a8db37685384"
      }
     }
    },
    "91070645-e6f2-4d3c-a280-e110542bc238": {
     "id": "91070645-e6f2-4d3c-a280-e110542bc238",
     "prev": "015be1d4-345c-491f-bb2b-4c34965c338b",
     "regions": {
      "303292d9-559c-4860-a2da-08faf7c00063": {
       "attrs": {
        "height": 0.8,
        "width": 0.8,
        "x": 0.1,
        "y": 0.1
       },
       "content": {
        "cell": "4b2c5c7c-5177-47bc-bd42-cffb1f5e1ce9",
        "part": "whole"
       },
       "id": "303292d9-559c-4860-a2da-08faf7c00063"
      }
     }
    },
    "965de8de-3ed5-4123-aba0-c460d3dc80fc": {
     "id": "965de8de-3ed5-4123-aba0-c460d3dc80fc",
     "prev": "d000e53f-3ee7-4ffe-8d6a-104448801d0b",
     "regions": {
      "8084712f-639a-4704-a749-0ddf9b9ddd1d": {
       "attrs": {
        "height": 0.8,
        "width": 0.8,
        "x": 0.1,
        "y": 0.1
       },
       "content": {
        "cell": "a9a4a85d-7ec8-4293-a9c5-a9696d9d5493",
        "part": "whole"
       },
       "id": "8084712f-639a-4704-a749-0ddf9b9ddd1d"
      }
     }
    },
    "a0887fda-03ad-4342-8ebc-f6ab2fe8a3db": {
     "id": "a0887fda-03ad-4342-8ebc-f6ab2fe8a3db",
     "prev": "e7dd2602-b08f-4d1e-8caa-f44fa7abcbf3",
     "regions": {
      "e029c729-0166-4af5-a264-e4a4e1b48d48": {
       "attrs": {
        "height": 0.8,
        "width": 0.8,
        "x": 0.1,
        "y": 0.1
       },
       "content": {
        "cell": "ade51df7-3950-44f9-968e-f3a86a2790fe",
        "part": "whole"
       },
       "id": "e029c729-0166-4af5-a264-e4a4e1b48d48"
      }
     }
    },
    "a7848d2f-f443-489b-acbf-a884c4ea7c27": {
     "id": "a7848d2f-f443-489b-acbf-a884c4ea7c27",
     "prev": "b1881cf0-1903-480c-b237-c71791dee55e",
     "regions": {
      "62c1de7c-ff07-485f-997e-c97dbfdae289": {
       "attrs": {
        "height": 0.8,
        "width": 0.8,
        "x": 0.1,
        "y": 0.1
       },
       "content": {
        "cell": "c93cae89-b52a-40fc-a07c-bc0ca38f52f3",
        "part": "whole"
       },
       "id": "62c1de7c-ff07-485f-997e-c97dbfdae289"
      }
     }
    },
    "aeac32bf-a3bf-4d71-a94d-cffe32ef0426": {
     "id": "aeac32bf-a3bf-4d71-a94d-cffe32ef0426",
     "prev": "2d71862c-f9dd-4c4a-bd0b-e4e275f5434a",
     "regions": {
      "1c657827-2c20-4303-b20d-12d9c2638403": {
       "attrs": {
        "height": 0.8,
        "width": 0.8,
        "x": 0.1,
        "y": 0.1
       },
       "content": {
        "cell": "db3cf079-b7b8-4aa2-b047-b0d32bd213a5",
        "part": "whole"
       },
       "id": "1c657827-2c20-4303-b20d-12d9c2638403"
      }
     }
    },
    "b1881cf0-1903-480c-b237-c71791dee55e": {
     "id": "b1881cf0-1903-480c-b237-c71791dee55e",
     "prev": "5780af65-6bff-417e-bb66-cfbf181b1343",
     "regions": {
      "66fc094c-1c1c-4543-a593-1dad92af260f": {
       "attrs": {
        "height": 0.8,
        "width": 0.8,
        "x": 0.1,
        "y": 0.1
       },
       "content": {
        "cell": "7c08bc40-6360-4e2a-8c86-9a90e0858f5d",
        "part": "whole"
       },
       "id": "66fc094c-1c1c-4543-a593-1dad92af260f"
      }
     }
    },
    "b1acce1d-10bf-4b70-b0f8-601689f3702e": {
     "id": "b1acce1d-10bf-4b70-b0f8-601689f3702e",
     "prev": "b53f710e-e009-43cb-8e00-6de44c3a2de6",
     "regions": {
      "27855246-a108-4fed-8308-840002851a1f": {
       "attrs": {
        "height": 0.8,
        "width": 0.8,
        "x": 0.1,
        "y": 0.1
       },
       "content": {
        "cell": "115ede87-de1d-4c92-ab2d-41c31105be7a",
        "part": "whole"
       },
       "id": "27855246-a108-4fed-8308-840002851a1f"
      }
     }
    },
    "b27c6917-92f9-40df-b0ac-1939b68801a2": {
     "id": "b27c6917-92f9-40df-b0ac-1939b68801a2",
     "prev": "3bbfe7ce-8c2b-441e-9a60-ebeeb5694abc",
     "regions": {
      "b7637872-5055-4827-aad4-a55aac12f678": {
       "attrs": {
        "height": 0.8,
        "width": 0.8,
        "x": 0.1,
        "y": 0.1
       },
       "content": {
        "cell": "eac7738a-a3ab-469f-8197-f967b40d5565",
        "part": "whole"
       },
       "id": "b7637872-5055-4827-aad4-a55aac12f678"
      }
     }
    },
    "b53f710e-e009-43cb-8e00-6de44c3a2de6": {
     "id": "b53f710e-e009-43cb-8e00-6de44c3a2de6",
     "prev": "91070645-e6f2-4d3c-a280-e110542bc238",
     "regions": {
      "7bed9c55-5a85-459d-86c7-a563f3cc4166": {
       "attrs": {
        "height": 0.8,
        "width": 0.8,
        "x": 0.1,
        "y": 0.1
       },
       "content": {
        "cell": "18473218-880b-491c-990b-0172b148936e",
        "part": "whole"
       },
       "id": "7bed9c55-5a85-459d-86c7-a563f3cc4166"
      }
     }
    },
    "b6f1f441-7aaa-4bec-bdb6-baea98df40b6": {
     "id": "b6f1f441-7aaa-4bec-bdb6-baea98df40b6",
     "prev": "c6314b51-271b-44e5-b4c2-879e0ee519e8",
     "regions": {
      "07d7d5e7-6bfa-4ce0-bdab-c10b62d43ad9": {
       "attrs": {
        "height": 0.8,
        "width": 0.8,
        "x": 0.1,
        "y": 0.1
       },
       "content": {
        "cell": "f6302901-2199-4c4e-95a3-a5dc07f9012b",
        "part": "whole"
       },
       "id": "07d7d5e7-6bfa-4ce0-bdab-c10b62d43ad9"
      }
     }
    },
    "c0d58ee9-96b9-4be9-aae4-d21100006d0c": {
     "id": "c0d58ee9-96b9-4be9-aae4-d21100006d0c",
     "prev": "5ac86542-75b5-499e-9541-14cf688e2d71",
     "regions": {
      "b68d31f8-cf2d-469c-9085-5dee65660c48": {
       "attrs": {
        "height": 0.8,
        "width": 0.8,
        "x": 0.1,
        "y": 0.1
       },
       "content": {
        "cell": "a92927b5-1763-47fa-8a17-f583c0ed81a2",
        "part": "whole"
       },
       "id": "b68d31f8-cf2d-469c-9085-5dee65660c48"
      }
     }
    },
    "c5d436fa-ef6d-437d-895c-07b2445c3d11": {
     "id": "c5d436fa-ef6d-437d-895c-07b2445c3d11",
     "prev": "d84ce6ed-7030-43dd-b95d-6a6b9d132984",
     "regions": {
      "a0718fe7-ea60-4150-88ad-2edf9e88e9ad": {
       "attrs": {
        "height": 0.8,
        "width": 0.8,
        "x": 0.1,
        "y": 0.1
       },
       "content": {
        "cell": "23630225-b858-48df-a0db-82e22c525965",
        "part": "whole"
       },
       "id": "a0718fe7-ea60-4150-88ad-2edf9e88e9ad"
      }
     }
    },
    "c6314b51-271b-44e5-b4c2-879e0ee519e8": {
     "id": "c6314b51-271b-44e5-b4c2-879e0ee519e8",
     "prev": "692379ba-7df3-4b64-8c9c-7c041542cdb1",
     "regions": {
      "e1fe1b25-ef8a-4c64-b3c9-982cd1524371": {
       "attrs": {
        "height": 0.8,
        "width": 0.8,
        "x": 0.1,
        "y": 0.1
       },
       "content": {
        "cell": "5e623875-16fe-44bd-af26-ff224b2abeb2",
        "part": "whole"
       },
       "id": "e1fe1b25-ef8a-4c64-b3c9-982cd1524371"
      }
     }
    },
    "cad8f27e-6d2e-4914-80c4-1a026ebdabc9": {
     "id": "cad8f27e-6d2e-4914-80c4-1a026ebdabc9",
     "prev": "a7848d2f-f443-489b-acbf-a884c4ea7c27",
     "regions": {
      "2b17ff41-b95f-4853-b516-c29f84556ad9": {
       "attrs": {
        "height": 0.8,
        "width": 0.8,
        "x": 0.1,
        "y": 0.1
       },
       "content": {
        "cell": "dd89c98f-1a20-4c75-95ff-19ce13a595ce",
        "part": "whole"
       },
       "id": "2b17ff41-b95f-4853-b516-c29f84556ad9"
      }
     }
    },
    "cbc58176-359f-426c-b145-7a4a4086d23f": {
     "id": "cbc58176-359f-426c-b145-7a4a4086d23f",
     "prev": "b27c6917-92f9-40df-b0ac-1939b68801a2",
     "regions": {
      "1d31b22a-f6f4-45bf-ad1a-156d4dbcc4a3": {
       "attrs": {
        "height": 0.8,
        "width": 0.8,
        "x": 0.1,
        "y": 0.1
       },
       "content": {
        "cell": "08a002cf-05da-4000-a448-a4a083765734",
        "part": "whole"
       },
       "id": "1d31b22a-f6f4-45bf-ad1a-156d4dbcc4a3"
      }
     }
    },
    "d000e53f-3ee7-4ffe-8d6a-104448801d0b": {
     "id": "d000e53f-3ee7-4ffe-8d6a-104448801d0b",
     "prev": "cbc58176-359f-426c-b145-7a4a4086d23f",
     "regions": {
      "94ef3eaa-629b-463c-b54a-ecdafcd3e957": {
       "attrs": {
        "height": 0.8,
        "width": 0.8,
        "x": 0.1,
        "y": 0.1
       },
       "content": {
        "cell": "cbcedc83-b4d2-4bcf-ab13-9dcecba3e9cd",
        "part": "whole"
       },
       "id": "94ef3eaa-629b-463c-b54a-ecdafcd3e957"
      }
     }
    },
    "d84ce6ed-7030-43dd-b95d-6a6b9d132984": {
     "id": "d84ce6ed-7030-43dd-b95d-6a6b9d132984",
     "prev": "b6f1f441-7aaa-4bec-bdb6-baea98df40b6",
     "regions": {
      "714a3a95-b157-49d9-b0c9-79dcb755d999": {
       "attrs": {
        "height": 0.8,
        "width": 0.8,
        "x": 0.1,
        "y": 0.1
       },
       "content": {
        "cell": "b06dbc96-7fab-468e-b0a8-3864d7180021",
        "part": "whole"
       },
       "id": "714a3a95-b157-49d9-b0c9-79dcb755d999"
      }
     }
    },
    "e7dd2602-b08f-4d1e-8caa-f44fa7abcbf3": {
     "id": "e7dd2602-b08f-4d1e-8caa-f44fa7abcbf3",
     "prev": "4d987153-be5c-4cfe-b405-408935e30152",
     "regions": {
      "fff9d134-325a-4848-9a9d-ff9fd05d0ae2": {
       "attrs": {
        "height": 0.8,
        "width": 0.8,
        "x": 0.1,
        "y": 0.1
       },
       "content": {
        "cell": "32bb5f6f-0b0a-4c04-8dd9-95b3b7c72b49",
        "part": "whole"
       },
       "id": "fff9d134-325a-4848-9a9d-ff9fd05d0ae2"
      }
     }
    },
    "f6047bc7-7136-433d-8ee4-dff9fcec1a59": {
     "id": "f6047bc7-7136-433d-8ee4-dff9fcec1a59",
     "prev": "fd8481e7-421f-44cd-b4a9-41ef85938ff6",
     "regions": {
      "5e80dc2e-915a-4d37-b1ae-7a331cb88661": {
       "attrs": {
        "height": 0.8,
        "width": 0.8,
        "x": 0.1,
        "y": 0.1
       },
       "content": {
        "cell": "d430ea9f-8d6f-4e20-8ad6-99cf179a6cf4",
        "part": "whole"
       },
       "id": "5e80dc2e-915a-4d37-b1ae-7a331cb88661"
      }
     }
    },
    "fd8481e7-421f-44cd-b4a9-41ef85938ff6": {
     "id": "fd8481e7-421f-44cd-b4a9-41ef85938ff6",
     "prev": null,
     "regions": {
      "d7e71fc4-416d-4892-8181-87c2158dae36": {
       "attrs": {
        "height": 0.8,
        "width": 0.8,
        "x": 0.1,
        "y": 0.1
       },
       "content": {
        "cell": "69bf8e21-dff0-406d-8008-694b715c897f",
        "part": "whole"
       },
       "id": "d7e71fc4-416d-4892-8181-87c2158dae36"
      }
     }
    }
   },
   "themes": {}
  }
 },
 "nbformat": 4,
 "nbformat_minor": 4
}
