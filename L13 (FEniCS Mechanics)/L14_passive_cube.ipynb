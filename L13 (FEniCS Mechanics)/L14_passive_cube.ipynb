{
 "cells": [
  {
   "cell_type": "markdown",
   "metadata": {
    "slideshow": {
     "slide_type": "slide"
    }
   },
   "source": [
    "# Soft tissue mechanics in FEniCS\n",
    "\n",
    "**Joakim Sundnes**\n",
    "\n",
    "Date: **June 20, 2025**\n",
    "\n",
    "\n",
    "* Solve a simple soft tissue mechanics problem:\n",
    "  * Elastic unit cube\n",
    "  * Uniaxial stretch\n",
    "  * StVenant-Kirchhoff material\n"
   ]
  },
  {
   "cell_type": "markdown",
   "metadata": {
    "slideshow": {
     "slide_type": "slide"
    }
   },
   "source": [
    "## Recap of key quantities \n",
    "* $u(t) = x(t) - X$: Displacement, usually the primary unknown of our mechanics problems. \n",
    "* ${F} = {I} + \\nabla{u}$: Deformation gradient. Used in strain definitions and to map between deformed and undeformed geometries\n",
    "* ${C} = {F}^T{F}$: Right Cauchy-Green tensor. Measure of pure deformation, free og rigid body translation and rotation, often used in constitutive laws. Not technically strain since ${C} = {I}$ for zero discplacement\n",
    "* ${E} = 1/2({F}^T{F}-{I}) = 1/2({C}-{I})$: Green-Lagrange strain. The most commonly used strain tensor for large deformations. Extension of the standard, linear small deformation strain.\n",
    "* ${\\sigma}$: Cauchy stress tensor, also called the true stress. Standard stress tensor used for small deformations. Relevant also for large deformations, but inconvinient to use in computations. \n",
    "* ${P}, {S}$: First and second Piola-Kirchhoff stress tensors. Stress tensors suitable for large deformations, since they are defined relative to the undeformed geometry. \n",
    "* $W$: Strain energy function. Defines the elastic energy stored during a deformation. Used to define material laws, since stress is recovered as ${S} = \\partial W/\\partial{E}$, etc.\n"
   ]
  },
  {
   "cell_type": "markdown",
   "metadata": {
    "slideshow": {
     "slide_type": "slide"
    }
   },
   "source": [
    "\n",
    "## Example 1: An elastic cube\n",
    "We start with a simple example, where we consider loading of a unit cube. This simple case will illustrate how to define a non-linear elasticity problem in Fenics, and how to introduce boundary conditions and different material properties. The model will be a simple unit cube, fixed at one end ($x=0$) and loaded with a pressure load (negative pressure, i.e. stretch) at the other end ($x=1.0$). The first version of the model will use a simple isotropic neo-Hookean material model. Later we will introduce a more realistic soft tissue model, and also add active contraction. \n"
   ]
  },
  {
   "cell_type": "markdown",
   "metadata": {},
   "source": [
    "### Weak form of the static hyper-elasticity problem\n",
    "We want to solve a static solid mechanics problem with a combination of Dirichlet and Neumann boundary conditions:\n",
    "$$\n",
    " \\begin{alignat*}{2}\n",
    "    - \\nabla\\cdot P &= 0 && \\quad \\text{ in } \\Omega \\\\\n",
    "    u &= 0 && \\quad \\text{ on } \\Gamma_{\\mathrm{D}} \\\\\n",
    "    P \\cdot n &= T && \\quad \\text{ on } \\Gamma_{\\mathrm{N}} \\\\\n",
    "    P \\cdot n &= 0 && \\quad \\text{ on } \\Gamma_{\\mathrm{0}}\n",
    "  \\end{alignat*}\n",
    "$$\n",
    "Here, $P$ is the first Piola-Kirchhoff stress tensor, $u$ is the displacement, $T$ is a load (vector) applied to parts of the boundary, and $\\Omega, \\Gamma_{\\mathrm{D}}, \\Gamma_{\\mathrm{N}},\\Gamma_{\\mathrm{0}}$ are the domain and the boundaries for Dirichlet- and Neumann boundary conditions, respectively. \n",
    "\n",
    "To apply the finite element method, we need to derive the weak form of the problem.  Multiply by a test function $v \\in \\hat{V}$ and integrate by parts:\n",
    "$$\n",
    "  \\begin{equation*}\n",
    "    - \\int_{\\Omega} \\nabla\\cdot P \\cdot v dx\n",
    "    = \\int_{\\Omega} P : \\nabla v dx - \\int_{\\partial\\Omega} (P \\cdot n) \\cdot v ds = 0\n",
    "  \\end{equation*}\n",
    "$$\n",
    "\n",
    "We now apply the boundary conditions (and note that $v = 0$ on $\\Gamma_{\\mathrm{D}}$), to get the final weak form:\n",
    "\n",
    "Find $u \\in V$ such that\n",
    "$$\n",
    "\\begin{equation*}\n",
    "    \\int_{\\Omega} P : \\nabla v dx\n",
    "    = \\int_{\\Gamma_{\\mathrm{N}}} T \\cdot v ds\n",
    "  \\end{equation*}\n",
    "$$\n",
    "for all $v \\in \\hat{V}$ \n",
    "\n",
    "In our case the boundary load $T$ is a simple normal pressure. If we were working in the deformed configuration, we would simply have $T=-p n$, where $p$ is the applied pressure and $n$ is the unit surface normal. However, we are using a Lagrangian formulation and everything is defined relative to the reference state. The applied pressure, which actually acts on the deformed surface, therefore needs to be mapped to the reference state. We get\n",
    "$$\n",
    "\\begin{equation*}\n",
    "T = -p J F^{-T}\\cdot N,\n",
    "\\end{equation*}\n",
    "$$\n",
    "where $N$ is the unit normal of the undeformed (reference) geometry. \n",
    "\n",
    "### The St Venant-Kirchhoff material model\n",
    "The simplest hyper-elastic material model is the St Venant-Kirchhoff model, which is simply an extension of the linear Hooke's law to the large-deformation regime. The strain energy function is given by:\n",
    "$$\n",
    "\\begin{equation*}\n",
    "    W(E) = \\frac{\\lambda}{2} (tr(E))^2 + \\mu tr(E^2),\n",
    "  \\end{equation*}\n",
    "  $$\n",
    "where  $E = \\frac{1}{2}(F^T F - I)$ is the Green-Lagrange strain, and $F = I + \\nabla u$ is the deformation gradient. From the strain energy function we can obtain the first and second Piola-Kirchhoff (PK) stress ($P$ and $S$) as\n",
    "$$\n",
    "\\begin{align*}\n",
    "P_{ij} &= \\frac{\\partial W}{\\partial F_{ij}}, \\\\\n",
    "S_{ij} &= \\frac{\\partial W}{\\partial E_{ij}},\n",
    "\\end{align*}\n",
    "$$\n",
    "and we also have the relation $P = FS$. Both the first and second PK stresses are commonly used in finite element solvers. The formulation based on $S$ is popular in text books, as it allows a few more analytical steps in the derivation of the nonlinear solution method. However, in a computational setting, and in particular when using an automated system like FEniCS, the formulation based on $P$ is just as simple.\n",
    "\n",
    "### The Fenics solver\n",
    "We are now ready to specify the problem in Fenics. First, the usual imports and defining the solution domain, the function space, and the test- and trial functions:"
   ]
  },
  {
   "cell_type": "code",
   "execution_count": 4,
   "metadata": {},
   "outputs": [],
   "source": [
    "import matplotlib.pyplot as plt\n",
    "import numpy as np\n",
    "from fenics import *\n",
    "\n",
    "# Setup the mesh and the function space for the solutions\n",
    "mesh = UnitCubeMesh(4,4,4)\n",
    "V = VectorFunctionSpace(mesh, \"Lagrange\", 2) # Lagrangian function space - quadratic elements, common for non-linear mechanics and elasticity\n",
    "# linear elements makes the problem too stiff, and does not converge well\n",
    "\n",
    "# Define functions\n",
    "v  = TestFunction(V)             # Test function\n",
    "u  = Function(V)                 # Displacement "
   ]
  },
  {
   "cell_type": "markdown",
   "metadata": {},
   "source": [
    "Now we need to define the boundary conditions. We want homogenous Dirichlet conditions on the left boundary $x=0.0$, a non-homoegenous Neumann conditions on $x=1.0$, and homogenous Neumann conditions everywhere else. The following code first defines the subdomains and marks the respective boundaries, then redefines the boundary measure (ds) to allow surface integrals over parts of the boundary, and then defines the Dirichlet conditions:"
   ]
  },
  {
   "cell_type": "code",
   "execution_count": 5,
   "metadata": {},
   "outputs": [],
   "source": [
    "# Mark boundary subdomains\n",
    "left =  CompiledSubDomain(\"near(x[0], side) && on_boundary\", side = 0.0) # uses a C++ syntax to define subdomain\n",
    "# left boundary is defined by x[0] = x = 0.0 (use near to avoid round-off errors)\n",
    "right = CompiledSubDomain(\"near(x[0], side) && on_boundary\", side = 1.0) # right-side of cube\n",
    "\n",
    "boundary_markers = MeshFunction(\"size_t\", mesh,mesh.topology().dim() - 1) # mark the boundary using markers\n",
    "boundary_markers.set_all(0) # all sides initially marked with 0\n",
    "left.mark(boundary_markers, 1) # left side marked with 1\n",
    "right.mark(boundary_markers, 2) # right side marked with 2\n",
    "\n",
    "# Redefine boundary measure\n",
    "ds = Measure('ds', domain=mesh, subdomain_data=boundary_markers) # used to define the surface integral\n",
    "\n",
    "# Define Dirichlet boundary (x = 0 or x = 1)\n",
    "clamp = Constant((0.0, 0.0, 0.0)) # fixed dirichlet BC\n",
    "bc = DirichletBC(V, clamp, left) # modifies the function space directly\n",
    "bcs = [bc]"
   ]
  },
  {
   "cell_type": "markdown",
   "metadata": {},
   "source": [
    "Next, we turn to defining the mechanics problem. We start with the kinematics and the strain energy function defining the neo-Hookean material, obtain the Piola-Kirchhoff stresses by differentiating the strain energy function, and finally define the weak form of the problem.\n",
    "\n",
    "### Exercise \n",
    "\n",
    "Continue the code below to define all the relevant kinematic quantities, define the weak form, and then solve the problem. "
   ]
  },
  {
   "cell_type": "code",
   "execution_count": 6,
   "metadata": {
    "tags": []
   },
   "outputs": [
    {
     "name": "stdout",
     "output_type": "stream",
     "text": [
      "No Jacobian form specified for nonlinear variational problem.\n",
      "Differentiating residual form F to obtain Jacobian J = F'.\n",
      "Calling FFC just-in-time (JIT) compiler, this may take some time.\n",
      "  WARNING: The number of integration points for each cell will be: 216\n",
      "           Consider using the option 'quadrature_degree' to reduce the number of points\n",
      "Calling FFC just-in-time (JIT) compiler, this may take some time.\n",
      "Calling FFC just-in-time (JIT) compiler, this may take some time.\n",
      "Calling FFC just-in-time (JIT) compiler, this may take some time.\n",
      "Calling FFC just-in-time (JIT) compiler, this may take some time.\n",
      "Calling FFC just-in-time (JIT) compiler, this may take some time.\n",
      "  WARNING: The number of integration points for each cell will be: 729\n",
      "           Consider using the option 'quadrature_degree' to reduce the number of points\n",
      "Solving nonlinear variational problem.\n",
      "  Newton iteration 0: r (abs) = 0.000e+00 (tol = 1.000e-10) r (rel) = -nan (tol = 1.000e-09)\n",
      "  Newton solver finished in 0 iterations and 0 linear solver iterations.\n",
      "No Jacobian form specified for nonlinear variational problem.\n",
      "Differentiating residual form F to obtain Jacobian J = F'.\n",
      "Solving nonlinear variational problem.\n",
      "  Newton iteration 0: r (abs) = 3.455e-01 (tol = 1.000e-10) r (rel) = 1.000e+00 (tol = 1.000e-09)\n",
      "  Newton iteration 1: r (abs) = 2.187e-01 (tol = 1.000e-10) r (rel) = 6.331e-01 (tol = 1.000e-09)\n",
      "  Newton iteration 2: r (abs) = 9.950e-03 (tol = 1.000e-10) r (rel) = 2.880e-02 (tol = 1.000e-09)\n",
      "  Newton iteration 3: r (abs) = 1.126e-04 (tol = 1.000e-10) r (rel) = 3.258e-04 (tol = 1.000e-09)\n",
      "  Newton iteration 4: r (abs) = 1.776e-08 (tol = 1.000e-10) r (rel) = 5.142e-08 (tol = 1.000e-09)\n",
      "  Newton iteration 5: r (abs) = 2.535e-15 (tol = 1.000e-10) r (rel) = 7.339e-15 (tol = 1.000e-09)\n",
      "  Newton solver finished in 5 iterations and 5 linear solver iterations.\n",
      "No Jacobian form specified for nonlinear variational problem.\n",
      "Differentiating residual form F to obtain Jacobian J = F'.\n",
      "Solving nonlinear variational problem.\n",
      "  Newton iteration 0: r (abs) = 2.972e-01 (tol = 1.000e-10) r (rel) = 1.000e+00 (tol = 1.000e-09)\n",
      "  Newton iteration 1: r (abs) = 6.529e-02 (tol = 1.000e-10) r (rel) = 2.197e-01 (tol = 1.000e-09)\n",
      "  Newton iteration 2: r (abs) = 7.136e-04 (tol = 1.000e-10) r (rel) = 2.401e-03 (tol = 1.000e-09)\n",
      "  Newton iteration 3: r (abs) = 3.764e-07 (tol = 1.000e-10) r (rel) = 1.266e-06 (tol = 1.000e-09)\n",
      "  Newton iteration 4: r (abs) = 1.605e-13 (tol = 1.000e-10) r (rel) = 5.400e-13 (tol = 1.000e-09)\n",
      "  Newton solver finished in 4 iterations and 4 linear solver iterations.\n",
      "No Jacobian form specified for nonlinear variational problem.\n",
      "Differentiating residual form F to obtain Jacobian J = F'.\n",
      "Solving nonlinear variational problem.\n",
      "  Newton iteration 0: r (abs) = 2.659e-01 (tol = 1.000e-10) r (rel) = 1.000e+00 (tol = 1.000e-09)\n",
      "  Newton iteration 1: r (abs) = 3.224e-02 (tol = 1.000e-10) r (rel) = 1.213e-01 (tol = 1.000e-09)\n",
      "  Newton iteration 2: r (abs) = 1.424e-04 (tol = 1.000e-10) r (rel) = 5.355e-04 (tol = 1.000e-09)\n",
      "  Newton iteration 3: r (abs) = 1.091e-08 (tol = 1.000e-10) r (rel) = 4.101e-08 (tol = 1.000e-09)\n",
      "  Newton iteration 4: r (abs) = 4.764e-15 (tol = 1.000e-10) r (rel) = 1.792e-14 (tol = 1.000e-09)\n",
      "  Newton solver finished in 4 iterations and 4 linear solver iterations.\n",
      "No Jacobian form specified for nonlinear variational problem.\n",
      "Differentiating residual form F to obtain Jacobian J = F'.\n",
      "Solving nonlinear variational problem.\n",
      "  Newton iteration 0: r (abs) = 2.426e-01 (tol = 1.000e-10) r (rel) = 1.000e+00 (tol = 1.000e-09)\n",
      "  Newton iteration 1: r (abs) = 1.913e-02 (tol = 1.000e-10) r (rel) = 7.884e-02 (tol = 1.000e-09)\n",
      "  Newton iteration 2: r (abs) = 4.374e-05 (tol = 1.000e-10) r (rel) = 1.803e-04 (tol = 1.000e-09)\n",
      "  Newton iteration 3: r (abs) = 8.025e-10 (tol = 1.000e-10) r (rel) = 3.308e-09 (tol = 1.000e-09)\n",
      "  Newton iteration 4: r (abs) = 6.983e-15 (tol = 1.000e-10) r (rel) = 2.878e-14 (tol = 1.000e-09)\n",
      "  Newton solver finished in 4 iterations and 4 linear solver iterations.\n"
     ]
    },
    {
     "data": {
      "image/png": "[encoded data removed]",
      "text/plain": [
       "<Figure size 640x480 with 1 Axes>"
      ]
     },
     "metadata": {},
     "output_type": "display_data"
    },
    {
     "data": {
      "text/plain": [
       "'Define the remaining kinematic quantities, stresses, and the weak form.\\nThen solve the problem.\\n\\nThe code follows the mathematical definitions quite intuitively, but\\na couple of tricks are useful to know about:\\n\\n- We want to differentiate the strain energy function wrt either\\n  F or E, to obtain, respectively, the PK1 or PK2 stress. The variable\\n  we differentiate with respect to needs to be identified as a variable, for \\n  instance \\n  E = 0.5*(C - I) \\n  E = variable(E)\\n  (...)\\n  S = diff(psi,E)\\n\\n- The load for the right boundary needs to be incrementally increased in a loop. \\n  It can be defined, for instance, as follows:\\n  p_right = Constant(0.0)\\n  And then updated inside a loop by\\n  p_right.assign(load)\\n  where load is the load we want to apply for the present step.\\n- A suitable final load can be p_right = 10.0, and we can use, for instance, 5-10 steps to get there\\n'"
      ]
     },
     "execution_count": 6,
     "metadata": {},
     "output_type": "execute_result"
    }
   ],
   "source": [
    "# Kinematics\n",
    "d = len(u)\n",
    "I = Identity(d)             # Identity tensor\n",
    "F = I + grad(u)             # Deformation gradient\n",
    "\n",
    "C = F.T * F \n",
    "E = (0.5)*(C-I)\n",
    "\n",
    "lmbda = 20.0\n",
    "mu = 4.0\n",
    "\n",
    "E = variable(E) # define Lagrange-Greem strain as a variable - needed to take a derivative\n",
    "W = (lmbda/2) * (tr(E)**2) + mu * tr (E*E)\n",
    "\n",
    "S = diff(W,E)\n",
    "P = F * S\n",
    "\n",
    "p_right = Constant(0.0)\n",
    "N = FacetNormal(mesh)\n",
    "\n",
    "Gext = p_right * inner(v, det(F) * inv(F) * N) * ds(2) #ds(2) = left boundary\n",
    "R = inner(P,grad(v)) * dx + Gext \n",
    "\n",
    "#Finally, we solve the problem for different loads, and plot the load vs displacement. \n",
    "# The middle point on the right boundary\n",
    "point0 = np.array([1.0,0.5,0.5])\n",
    "\n",
    "load_steps = 5\n",
    "target_load = 10\n",
    "\n",
    "loads = np.linspace(0, target_load, load_steps)\n",
    "\n",
    "d0 = np.zeros(3)                #displacement at point0\n",
    "disp = np.zeros(load_steps) #array to store displacement for all steps\n",
    "\n",
    "disp_file = XDMFFile(\"displacement/u.xdmf\")\n",
    "\n",
    "for step in range(load_steps):\n",
    "    #solve the problem\n",
    "    # Stretch is a negative pressure\n",
    "    p_right.assign(-loads[step])\n",
    "    \n",
    "    #solve the problem:\n",
    "    solve(R == 0, u, bcs)\n",
    "    \n",
    "    #evaluate displacement at point defined above\n",
    "    u.eval(d0,point0)\n",
    "    disp[step] = d0[0]\n",
    "\n",
    "    disp_file.write_checkpoint(u, \"Displacement\", step, append=True)\n",
    "\n",
    "disp_file.close()\n",
    "\n",
    "#displacement on x-axis, load on y-axis\n",
    "plt.figure(1)\n",
    "plt.plot(disp,loads)\n",
    "plt.xlabel('Displacement of point (1.0, 0.5, 0.5)')\n",
    "plt.ylabel('Applied pressure load')\n",
    "\n",
    "plt.show()\n",
    "\n",
    "\n",
    "\"\"\"Define the remaining kinematic quantities, stresses, and the weak form.\n",
    "Then solve the problem.\n",
    "\n",
    "The code follows the mathematical definitions quite intuitively, but\n",
    "a couple of tricks are useful to know about:\n",
    "\n",
    "- We want to differentiate the strain energy function wrt either\n",
    "  F or E, to obtain, respectively, the PK1 or PK2 stress. The variable\n",
    "  we differentiate with respect to needs to be identified as a variable, for \n",
    "  instance \n",
    "  E = 0.5*(C - I) \n",
    "  E = variable(E)\n",
    "  (...)\n",
    "  S = diff(psi,E)\n",
    "\n",
    "- The load for the right boundary needs to be incrementally increased in a loop. \n",
    "  It can be defined, for instance, as follows:\n",
    "  p_right = Constant(0.0)\n",
    "  And then updated inside a loop by\n",
    "  p_right.assign(load)\n",
    "  where load is the load we want to apply for the present step.\n",
    "- A suitable final load can be p_right = 10.0, and we can use, for instance, 5-10 steps to get there\n",
    "\"\"\"\n"
   ]
  },
  {
   "cell_type": "markdown",
   "metadata": {},
   "source": [
    "## Solution\n",
    "Click below to expand the cell and see a suggested solution."
   ]
  },
  {
   "cell_type": "code",
   "execution_count": 4,
   "metadata": {
    "tags": [
     "hide-input",
     "hide-output"
    ]
   },
   "outputs": [
    {
     "name": "stdout",
     "output_type": "stream",
     "text": [
      "No Jacobian form specified for nonlinear variational problem.\n",
      "Differentiating residual form F to obtain Jacobian J = F'.\n",
      "Solving nonlinear variational problem.\n",
      "  Newton iteration 0: r (abs) = 0.000e+00 (tol = 1.000e-10) r (rel) = nan (tol = 1.000e-09)\n",
      "  Newton solver finished in 0 iterations and 0 linear solver iterations.\n",
      "No Jacobian form specified for nonlinear variational problem.\n",
      "Differentiating residual form F to obtain Jacobian J = F'.\n",
      "Solving nonlinear variational problem.\n",
      "  Newton iteration 0: r (abs) = 3.455e-01 (tol = 1.000e-10) r (rel) = 1.000e+00 (tol = 1.000e-09)\n",
      "  Newton iteration 1: r (abs) = 2.187e-01 (tol = 1.000e-10) r (rel) = 6.331e-01 (tol = 1.000e-09)\n",
      "  Newton iteration 2: r (abs) = 9.950e-03 (tol = 1.000e-10) r (rel) = 2.880e-02 (tol = 1.000e-09)\n",
      "  Newton iteration 3: r (abs) = 1.126e-04 (tol = 1.000e-10) r (rel) = 3.258e-04 (tol = 1.000e-09)\n",
      "  Newton iteration 4: r (abs) = 1.776e-08 (tol = 1.000e-10) r (rel) = 5.142e-08 (tol = 1.000e-09)\n",
      "  Newton iteration 5: r (abs) = 2.546e-15 (tol = 1.000e-10) r (rel) = 7.370e-15 (tol = 1.000e-09)\n",
      "  Newton solver finished in 5 iterations and 5 linear solver iterations.\n",
      "No Jacobian form specified for nonlinear variational problem.\n",
      "Differentiating residual form F to obtain Jacobian J = F'.\n",
      "Solving nonlinear variational problem.\n",
      "  Newton iteration 0: r (abs) = 2.972e-01 (tol = 1.000e-10) r (rel) = 1.000e+00 (tol = 1.000e-09)\n",
      "  Newton iteration 1: r (abs) = 6.529e-02 (tol = 1.000e-10) r (rel) = 2.197e-01 (tol = 1.000e-09)\n",
      "  Newton iteration 2: r (abs) = 7.136e-04 (tol = 1.000e-10) r (rel) = 2.401e-03 (tol = 1.000e-09)\n",
      "  Newton iteration 3: r (abs) = 3.764e-07 (tol = 1.000e-10) r (rel) = 1.266e-06 (tol = 1.000e-09)\n",
      "  Newton iteration 4: r (abs) = 1.606e-13 (tol = 1.000e-10) r (rel) = 5.402e-13 (tol = 1.000e-09)\n",
      "  Newton solver finished in 4 iterations and 4 linear solver iterations.\n",
      "No Jacobian form specified for nonlinear variational problem.\n",
      "Differentiating residual form F to obtain Jacobian J = F'.\n",
      "Solving nonlinear variational problem.\n",
      "  Newton iteration 0: r (abs) = 2.659e-01 (tol = 1.000e-10) r (rel) = 1.000e+00 (tol = 1.000e-09)\n",
      "  Newton iteration 1: r (abs) = 3.224e-02 (tol = 1.000e-10) r (rel) = 1.213e-01 (tol = 1.000e-09)\n",
      "  Newton iteration 2: r (abs) = 1.424e-04 (tol = 1.000e-10) r (rel) = 5.355e-04 (tol = 1.000e-09)\n",
      "  Newton iteration 3: r (abs) = 1.091e-08 (tol = 1.000e-10) r (rel) = 4.101e-08 (tol = 1.000e-09)\n",
      "  Newton iteration 4: r (abs) = 5.166e-15 (tol = 1.000e-10) r (rel) = 1.943e-14 (tol = 1.000e-09)\n",
      "  Newton solver finished in 4 iterations and 4 linear solver iterations.\n",
      "No Jacobian form specified for nonlinear variational problem.\n",
      "Differentiating residual form F to obtain Jacobian J = F'.\n",
      "Solving nonlinear variational problem.\n",
      "  Newton iteration 0: r (abs) = 2.426e-01 (tol = 1.000e-10) r (rel) = 1.000e+00 (tol = 1.000e-09)\n",
      "  Newton iteration 1: r (abs) = 1.913e-02 (tol = 1.000e-10) r (rel) = 7.884e-02 (tol = 1.000e-09)\n",
      "  Newton iteration 2: r (abs) = 4.374e-05 (tol = 1.000e-10) r (rel) = 1.803e-04 (tol = 1.000e-09)\n",
      "  Newton iteration 3: r (abs) = 8.025e-10 (tol = 1.000e-10) r (rel) = 3.308e-09 (tol = 1.000e-09)\n",
      "  Newton iteration 4: r (abs) = 6.620e-15 (tol = 1.000e-10) r (rel) = 2.728e-14 (tol = 1.000e-09)\n",
      "  Newton solver finished in 4 iterations and 4 linear solver iterations.\n"
     ]
    },
    {
     "data": {
      "image/png": "[encoded data removed]",
      "text/plain": [
       "<Figure size 432x288 with 1 Axes>"
      ]
     },
     "metadata": {
      "needs_background": "light"
     },
     "output_type": "display_data"
    }
   ],
   "source": [
    "# Kinematics\n",
    "d = len(u)\n",
    "I = Identity(d)             # Identity tensor\n",
    "F = I + grad(u)             # Deformation gradient\n",
    "C = F.T*F                   # the right Cauchy-Green tensor\n",
    "E = 0.5*(C - I)             # the Green-Lagrange strain tensor\n",
    "\n",
    "# Material parameters (Lamé parameters)\n",
    "mu    = 4.0  \n",
    "lmbda = 20.0  \n",
    "\n",
    "# The strain energy for the St-Venant Kirchhoff model:\n",
    "E = variable(E)\n",
    "psi = lmbda / 2 * (tr(E)**2) + mu * tr(E * E)\n",
    "\n",
    "S = diff(psi, E) #second Piola-Kirchhoff stress\n",
    "P = F * S         #First Piola-Kirchhoff stress\n",
    "\n",
    "p_right = Constant(0.0) #the pressure load (zero for now)\n",
    "\n",
    "# Definition of the weak form:\n",
    "N = FacetNormal(mesh)\n",
    "Gext = p_right * inner(v, det(F) * inv(F) * N) * ds(2) #ds(2) = left boundary\n",
    "R = inner(P,grad(v)) * dx + Gext \n",
    "\n",
    "#Finally, we solve the problem for different loads, and plot the load vs displacement. \n",
    "# The middle point on the right boundary\n",
    "point0 = np.array([1.0,0.5,0.5])\n",
    "\n",
    "# Step-wise loading (for plotting and convergence)\n",
    "load_steps = 5\n",
    "target_load = 10.0\n",
    "loads = np.linspace(0, target_load, load_steps)\n",
    "\n",
    "d0 = np.zeros(3)                #displacement at point0\n",
    "disp = np.zeros(load_steps) #array to store displacement for all steps\n",
    "\n",
    "disp_file = XDMFFile(\"displacement/u.xdmf\")\n",
    "\n",
    "for step in range(load_steps):\n",
    "    # Stretch is a negative pressure\n",
    "    p_right.assign(-loads[step])\n",
    "    \n",
    "    #solve the problem:\n",
    "    solve(R == 0, u, bcs)\n",
    "    \n",
    "    #evaluate displacement at point defined above\n",
    "    u.eval(d0,point0)\n",
    "    disp[step] = d0[0]\n",
    "\n",
    "    disp_file.write_checkpoint(u, \"Displacement\", step, append=True)\n",
    "\n",
    "disp_file.close()\n",
    "\n",
    "#displacement on x-axis, load on y-axis\n",
    "plt.figure(1)\n",
    "plt.plot(disp,loads)\n",
    "plt.xlabel('Displacement of point (1.0, 0.5, 0.5)')\n",
    "plt.ylabel('Applied pressure load')\n",
    "\n",
    "plt.show()"
   ]
  },
  {
   "cell_type": "markdown",
   "metadata": {},
   "source": [
    "### Questions and comments:\n",
    "* The neo-Hookean model is a linear stress-strain relation, but the curve above is non-linear. Why?\n",
    "* An open source cardiac mechanics solver, based on the approach outlined above, can be found here: [https://github.com/finsberg/pulse](https://github.com/finsberg/pulse) "
   ]
  },
  {
   "cell_type": "code",
   "execution_count": null,
   "metadata": {
    "tags": []
   },
   "outputs": [],
   "source": []
  }
 ],
 "metadata": {
  "celltoolbar": "Slideshow",
  "kernelspec": {
   "display_name": "Python 3 (ipykernel)",
   "language": "python",
   "name": "python3"
  },
  "language_info": {
   "codemirror_mode": {
    "name": "ipython",
    "version": 3
   },
   "file_extension": ".py",
   "mimetype": "text/x-python",
   "name": "python",
   "nbconvert_exporter": "python",
   "pygments_lexer": "ipython3",
   "version": "3.12.10"
  }
 },
 "nbformat": 4,
 "nbformat_minor": 4
}
