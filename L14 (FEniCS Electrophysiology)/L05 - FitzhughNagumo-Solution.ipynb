{
 "cells": [
  {
   "attachments": {},
   "cell_type": "markdown",
   "metadata": {},
   "source": [
    "# FitzHugh--Nagumo model"
   ]
  },
  {
   "attachments": {},
   "cell_type": "markdown",
   "metadata": {},
   "source": [
    "The FitzHugh–Nagumo model represents a model for the\n",
    "study of excitable media. The propagation of the transmembrane potential $u$ is modeled by a diffusion equation with a cubic nonlinear reaction term, whereas the recovery of the slow variable $v$ is represented by a single ordinary differential equation. The system of equations reads as follows:\n",
    "\n",
    "\\begin{align}\n",
    "\\frac{\\partial u}{\\partial t} &= D \\Delta u + u(1-u)(u-a) -v + S  \\qquad \\text{ for } x \\in \\Omega \\text{ and for } t \\in [0, T], \\\\\n",
    "\\frac{\\partial v}{\\partial t} &= \\epsilon (\\beta u - \\gamma v) \\qquad x \\in \\Omega \\text{ and for } t \\in [0, T]\n",
    "\\end{align}\n",
    "\n",
    "$\\Omega$ denotes the spatial domain and $t$ is time. We consider the following choice of model parameters: $K_u = 0.001$, $a = 0.1$, $\\epsilon = 0.01$,\n",
    "$\\beta = 0.5$, $\\gamma = 1.0.$ These parameters generate stable patterns in  the system in the form of re--entrant spiral waves.\n",
    "\n",
    "$S$ is a stimulus that we use to perturb the system."
   ]
  },
  {
   "attachments": {},
   "cell_type": "markdown",
   "metadata": {},
   "source": [
    " # Semi-discrete problem and weak formulation"
   ]
  },
  {
   "attachments": {},
   "cell_type": "markdown",
   "metadata": {},
   "source": [
    "At each time step we have the semidiscretized system to solve:\n",
    "\n",
    "\\begin{align}\n",
    "\\frac{u^n - u^{n-1}}{\\Delta t} &= D \\Delta u^n + u^n(1-u^n)(u^n-a) - v^n + S  \\qquad \\text{ for } x \\in \\Omega \\text{ and for } t \\in [0, T], \\\\\n",
    "\\frac{v^n - v^{n-1}}{\\Delta t} &= \\epsilon (\\beta u^n - \\gamma v^n) \\qquad x \\in \\Omega \\text{ and for } t \\in [0, T]\n",
    "\\end{align}\n",
    "\n",
    "The weak formulation reads as follows:\n",
    "\n",
    "Find $u^n$, $v^n$ s.t. \n",
    "\n",
    "\\begin{align}\n",
    "\\langle \\frac{u^n - u^{n-1}}{\\Delta t}, \\psi_u \\rangle &= - D \\langle \\nabla u^n, \\nabla \\psi_u \\rangle + \\langle u^n(1-u^n)(u^n-a), \\psi_u \\rangle - \\langle v^n, \\psi_u \\rangle + \\langle S, \\psi_u \\rangle \\qquad \\text{ for } x \\in \\Omega \\text{ and for } t \\in [0, T], \\\\\n",
    "\\langle \\frac{v^n - v^{n-1}}{\\Delta t}, \\psi_v\\rangle &= \\epsilon (\\beta \\langle u^n, \\psi_v \\rangle - \\langle \\gamma v^n, \\psi_v \\rangle ) \\qquad x \\in \\Omega \\text{ and for } t \\in [0, T]  \\text{ and for all} \\quad \\psi_u, \\psi_v\n",
    "\\end{align}"
   ]
  },
  {
   "attachments": {},
   "cell_type": "markdown",
   "metadata": {},
   "source": [
    "## FEniCS implementation"
   ]
  },
  {
   "attachments": {},
   "cell_type": "markdown",
   "metadata": {},
   "source": [
    "First, we define our domain and finite elements. We have a system of two equations, therefore we will use a Mixed Function Space where the first component is $u$ and the second is $v$."
   ]
  },
  {
   "cell_type": "code",
   "execution_count": 1,
   "metadata": {},
   "outputs": [
    {
     "name": "stdout",
     "output_type": "stream",
     "text": [
      "Calling FFC just-in-time (JIT) compiler, this may take some time.\n",
      "Calling FFC just-in-time (JIT) compiler, this may take some time.\n"
     ]
    }
   ],
   "source": [
    "from dolfin import *\n",
    "%matplotlib inline\n",
    "import pylab\n",
    "\n",
    "# Define the mesh\n",
    "N = 32\n",
    "mesh = RectangleMesh(Point(0, 0), Point(2.5, 2.5), N, N)\n",
    "\n",
    "# Define the mixed finite elements\n",
    "Ue = FiniteElement(\"Lagrange\", mesh.ufl_cell(), 1)\n",
    "Us = FunctionSpace(mesh, Ue)\n",
    "\n",
    "element = MixedElement([Ue, Ue])\n",
    "ME = FunctionSpace(mesh, element)\n",
    "\n",
    "\n",
    "# Lower the log level to get more verbose output\n",
    "set_log_level(40)"
   ]
  },
  {
   "attachments": {},
   "cell_type": "markdown",
   "metadata": {},
   "source": [
    "We need to define our stimulus $S$ and boundary conditions: "
   ]
  },
  {
   "cell_type": "code",
   "execution_count": 2,
   "metadata": {},
   "outputs": [],
   "source": [
    "def BC_U_and_stim(t):\n",
    "    ## returns tuple of BCs to apply (to V) and stimulus term at time t\n",
    "    ## What happens when you play with this parameters?\n",
    "    start_stim_end_time = 6\n",
    "    stimstarttime = 150\n",
    "    stimduration = 6.\n",
    "    stimamp = 0.8\n",
    "    \n",
    "    if t < start_stim_end_time:\n",
    "        # set a Dirichlet boundary condition of u=1 at left edge of the domain, but no stimulus term S\n",
    "        subdomain = CompiledSubDomain(\"near(x[0], 0) && on_boundary\")\n",
    "        return [DirichletBC(ME.sub(0), Constant(1), subdomain)], Constant(0)\n",
    "    \n",
    "    elif t > stimstarttime and t < stimstarttime + stimduration:\n",
    "        # have no Dirichlet boundary conditions, but a stimulus in the bottom left quarter of the domain\n",
    "        class Stimulus(UserExpression):\n",
    "            def eval(self, value, x):\n",
    "                if x[0] < 1.25 and x[1] < 1.25:\n",
    "                    value[0] = stimamp\n",
    "                else:\n",
    "                    value[0] = 0\n",
    "\n",
    "            def value_shape(self):\n",
    "                return ()\n",
    "        return [], Stimulus(degree=0)\n",
    "\n",
    "    else:\n",
    "        # no stimulus and no Dirichlet boundrary conditions\n",
    "        return [], Constant(0)\n"
   ]
  },
  {
   "attachments": {},
   "cell_type": "markdown",
   "metadata": {},
   "source": [
    "For each time step we need to solve a linear system. We define parameters, trial and test functions, and weak formulation. In FEniCS it is possible to obtain the Jacobian of the nonlinear equations automatically:"
   ]
  },
  {
   "cell_type": "code",
   "execution_count": 3,
   "metadata": {},
   "outputs": [],
   "source": [
    "def solve_single_timestep(Up, t, dt, theta=1):\n",
    "    \"\"\"\n",
    "    Solve for a single time step\n",
    "\n",
    "    Args:\n",
    "        Up: Solution from previous tiem step\n",
    "        t: Current simulation time\n",
    "        dt: Size of time step\n",
    "        theta: Choose discretization method (1=implicit Euler, 0.5=Crank-Nicholson, 0=Explicit Euler)\n",
    "    \"\"\"\n",
    "    u_p, v_p = Up.sub(0), Up.sub(1)\n",
    "    U = Function(ME)\n",
    "    dU = TrialFunction(ME)\n",
    "    psiU = TestFunction(ME)\n",
    "\n",
    "    u, v = split(U)\n",
    "    psiu, psiv = split(psiU)\n",
    "\n",
    "\n",
    "    a = Constant(0.1)\n",
    "    eps = Constant(0.01)\n",
    "    beta = Constant(0.5)\n",
    "    gamma = Constant(1)\n",
    "    D = Constant(1E-4)\n",
    "    dtc = Constant(dt)\n",
    "    \n",
    "    bcs, stim = BC_U_and_stim(t)\n",
    " \n",
    "    def RHS_E1(v, w):\n",
    "        return - D*inner(grad(u), grad(psiu)) + psiu *u*(1-u)*(u-a)  - w*psiu  + stim*psiu\n",
    "    def RHS_E2(v, w):\n",
    "        return eps*(beta*v - gamma*w)*psiv\n",
    "        \n",
    "    F1 = (u - u_p)/dtc * psiu * dx - (theta * RHS_E1(u, v_p) + (1-theta) * RHS_E1(u_p, v_p)) * dx\n",
    "    F2 = (v - v_p)/dtc * psiv * dx - (theta * RHS_E2(u, v) + (1-theta) * RHS_E2(u_p, v_p)) * dx\n",
    "\n",
    "    F = F1 + F2\n",
    "    \n",
    "    # Automatic differentiation! Isn't it cool?\n",
    "    J = derivative(F, U, dU)\n",
    "    \n",
    "    # Define non linear variational problem\n",
    "    problem = NonlinearVariationalProblem(F, U, bcs, J)\n",
    "    \n",
    "    # Assign initial guess to Newton solver\n",
    "    # Try to remove this, what happens?\n",
    "    assign(U.sub(0), u_p)\n",
    "    assign(U.sub(1), v_p)\n",
    "\n",
    "    # Newton solver\n",
    "    solver = NonlinearVariationalSolver(problem)\n",
    "    niter, _ = solver.solve()\n",
    "\n",
    "    return niter, U\n"
   ]
  },
  {
   "attachments": {},
   "cell_type": "markdown",
   "metadata": {},
   "source": [
    "Once we defined the weak formulation and the nonlinear solver we can solve our equations for $t \\leq T$:"
   ]
  },
  {
   "cell_type": "code",
   "execution_count": 4,
   "metadata": {},
   "outputs": [
    {
     "data": {
      "application/vnd.jupyter.widget-view+json": {
       "model_id": "6382cf94d5f545899e65087bf0d0b1bc",
       "version_major": 2,
       "version_minor": 0
      },
      "text/plain": [
       "Solving time dependent problem: 0it [00:00, ?it/s]"
      ]
     },
     "metadata": {},
     "output_type": "display_data"
    },
    {
     "name": "stdout",
     "output_type": "stream",
     "text": [
      "Calling FFC just-in-time (JIT) compiler, this may take some time.\n",
      "Calling FFC just-in-time (JIT) compiler, this may take some time.\n",
      "Calling FFC just-in-time (JIT) compiler, this may take some time.\n",
      "Calling FFC just-in-time (JIT) compiler, this may take some time.\n",
      "Calling FFC just-in-time (JIT) compiler, this may take some time.\n",
      "Calling FFC just-in-time (JIT) compiler, this may take some time.\n",
      "Calling FFC just-in-time (JIT) compiler, this may take some time.\n",
      "Calling FFC just-in-time (JIT) compiler, this may take some time.\n"
     ]
    }
   ],
   "source": [
    "import tqdm.notebook\n",
    "# initial conditions\n",
    "U = Function(ME)\n",
    "\n",
    "# run solver\n",
    "\n",
    "# optional saving to file\n",
    "# fv = XDMFFile(\"output/u.xdmf\")\n",
    "# fw = XDMFFile(\"output/v.xdmf\")\n",
    "\n",
    "t = 0\n",
    "dt = 4.\n",
    "T = 500\n",
    "\n",
    "U_sol = {}\n",
    "n = 0\n",
    "progress_bar_solver = tqdm.notebook.tqdm(int(T/dt), desc=\"Solving time dependent problem\")\n",
    "while t <= T:\n",
    "    progress_bar_solver.update(1)\n",
    "\n",
    "    t += dt\n",
    "    n += 1\n",
    "    niter, U = solve_single_timestep(U, t, dt)\n",
    "    U_sol[n] = (t, U.copy())\n",
    "    progress_bar_solver.set_description(f\"t={t:4.2f}, number of Newton iterations={niter:2.0f}\")\n",
    "    # save to file\n",
    "    # u_p, v_p = U.split(deepcopy=True)\n",
    "    # u_p.rename(\"u\", \"name\")\n",
    "    # v_p.rename(\"v\", \"name\")\n",
    "    # fv.write(u_p, t)\n",
    "    # fw.write(v_p, t)\n",
    "# fv.close()\n",
    "# fw.close()\n",
    "progress_bar_solver.close()\n"
   ]
  },
  {
   "cell_type": "code",
   "execution_count": 6,
   "metadata": {},
   "outputs": [
    {
     "data": {
      "application/vnd.jupyter.widget-view+json": {
       "model_id": "f32ab0dfe94c451da89f3e1f3c3fc2d6",
       "version_major": 2,
       "version_minor": 0
      },
      "text/plain": [
       "Creating animation:   0%|          | 0/126 [00:00<?, ?it/s]"
      ]
     },
     "metadata": {},
     "output_type": "display_data"
    },
    {
     "ename": "AttributeError",
     "evalue": "'TriContourSet' object has no attribute 'collections'",
     "output_type": "error",
     "traceback": [
      "\u001b[31m---------------------------------------------------------------------------\u001b[39m",
      "\u001b[31mAttributeError\u001b[39m                            Traceback (most recent call last)",
      "\u001b[36mCell\u001b[39m\u001b[36m \u001b[39m\u001b[32mIn[6]\u001b[39m\u001b[32m, line 27\u001b[39m\n\u001b[32m     25\u001b[39m progress_bar = tqdm.notebook.tqdm(total=N_frames, desc=\u001b[33m\"\u001b[39m\u001b[33mCreating animation\u001b[39m\u001b[33m\"\u001b[39m)\n\u001b[32m     26\u001b[39m fig = plt.figure()\n\u001b[32m---> \u001b[39m\u001b[32m27\u001b[39m anim = \u001b[43manimation\u001b[49m\u001b[43m.\u001b[49m\u001b[43mFuncAnimation\u001b[49m\u001b[43m(\u001b[49m\u001b[43mfig\u001b[49m\u001b[43m,\u001b[49m\u001b[43m \u001b[49m\u001b[43mpartial\u001b[49m\u001b[43m(\u001b[49m\u001b[43manimate\u001b[49m\u001b[43m,\u001b[49m\u001b[43m \u001b[49m\u001b[43mprogress_bar\u001b[49m\u001b[43m=\u001b[49m\u001b[43mprogress_bar\u001b[49m\u001b[43m)\u001b[49m\u001b[43m,\u001b[49m\n\u001b[32m     28\u001b[39m \u001b[43m                               \u001b[49m\u001b[43mframes\u001b[49m\u001b[43m=\u001b[49m\u001b[38;5;28;43mlen\u001b[39;49m\u001b[43m(\u001b[49m\u001b[43mU_sol\u001b[49m\u001b[43m.\u001b[49m\u001b[43mkeys\u001b[49m\u001b[43m(\u001b[49m\u001b[43m)\u001b[49m\u001b[43m)\u001b[49m\u001b[43m,\u001b[49m\u001b[43m \u001b[49m\u001b[43minterval\u001b[49m\u001b[43m=\u001b[49m\u001b[32;43m100\u001b[39;49m\u001b[43m,\u001b[49m\u001b[43m \u001b[49m\u001b[43mblit\u001b[49m\u001b[43m=\u001b[49m\u001b[38;5;28;43;01mTrue\u001b[39;49;00m\u001b[43m)\u001b[49m\n\u001b[32m     31\u001b[39m \u001b[38;5;66;03m# cool animation\u001b[39;00m\n\u001b[32m     32\u001b[39m display(HTML(anim.to_jshtml()))\n",
      "\u001b[36mFile \u001b[39m\u001b[32m/opt/pixi/.pixi/envs/default/lib/python3.12/site-packages/matplotlib/animation.py:1716\u001b[39m, in \u001b[36mFuncAnimation.__init__\u001b[39m\u001b[34m(self, fig, func, frames, init_func, fargs, save_count, cache_frame_data, **kwargs)\u001b[39m\n\u001b[32m   1713\u001b[39m \u001b[38;5;66;03m# Needs to be initialized so the draw functions work without checking\u001b[39;00m\n\u001b[32m   1714\u001b[39m \u001b[38;5;28mself\u001b[39m._save_seq = []\n\u001b[32m-> \u001b[39m\u001b[32m1716\u001b[39m \u001b[38;5;28;43msuper\u001b[39;49m\u001b[43m(\u001b[49m\u001b[43m)\u001b[49m\u001b[43m.\u001b[49m\u001b[34;43m__init__\u001b[39;49m\u001b[43m(\u001b[49m\u001b[43mfig\u001b[49m\u001b[43m,\u001b[49m\u001b[43m \u001b[49m\u001b[43m*\u001b[49m\u001b[43m*\u001b[49m\u001b[43mkwargs\u001b[49m\u001b[43m)\u001b[49m\n\u001b[32m   1718\u001b[39m \u001b[38;5;66;03m# Need to reset the saved seq, since right now it will contain data\u001b[39;00m\n\u001b[32m   1719\u001b[39m \u001b[38;5;66;03m# for a single frame from init, which is not what we want.\u001b[39;00m\n\u001b[32m   1720\u001b[39m \u001b[38;5;28mself\u001b[39m._save_seq = []\n",
      "\u001b[36mFile \u001b[39m\u001b[32m/opt/pixi/.pixi/envs/default/lib/python3.12/site-packages/matplotlib/animation.py:1440\u001b[39m, in \u001b[36mTimedAnimation.__init__\u001b[39m\u001b[34m(self, fig, interval, repeat_delay, repeat, event_source, *args, **kwargs)\u001b[39m\n\u001b[32m   1438\u001b[39m \u001b[38;5;28;01mif\u001b[39;00m event_source \u001b[38;5;129;01mis\u001b[39;00m \u001b[38;5;28;01mNone\u001b[39;00m:\n\u001b[32m   1439\u001b[39m     event_source = fig.canvas.new_timer(interval=\u001b[38;5;28mself\u001b[39m._interval)\n\u001b[32m-> \u001b[39m\u001b[32m1440\u001b[39m \u001b[38;5;28;43msuper\u001b[39;49m\u001b[43m(\u001b[49m\u001b[43m)\u001b[49m\u001b[43m.\u001b[49m\u001b[34;43m__init__\u001b[39;49m\u001b[43m(\u001b[49m\u001b[43mfig\u001b[49m\u001b[43m,\u001b[49m\u001b[43m \u001b[49m\u001b[43mevent_source\u001b[49m\u001b[43m=\u001b[49m\u001b[43mevent_source\u001b[49m\u001b[43m,\u001b[49m\u001b[43m \u001b[49m\u001b[43m*\u001b[49m\u001b[43margs\u001b[49m\u001b[43m,\u001b[49m\u001b[43m \u001b[49m\u001b[43m*\u001b[49m\u001b[43m*\u001b[49m\u001b[43mkwargs\u001b[49m\u001b[43m)\u001b[49m\n",
      "\u001b[36mFile \u001b[39m\u001b[32m/opt/pixi/.pixi/envs/default/lib/python3.12/site-packages/matplotlib/animation.py:904\u001b[39m, in \u001b[36mAnimation.__init__\u001b[39m\u001b[34m(self, fig, event_source, blit)\u001b[39m\n\u001b[32m    901\u001b[39m \u001b[38;5;28mself\u001b[39m._close_id = \u001b[38;5;28mself\u001b[39m._fig.canvas.mpl_connect(\u001b[33m'\u001b[39m\u001b[33mclose_event\u001b[39m\u001b[33m'\u001b[39m,\n\u001b[32m    902\u001b[39m                                               \u001b[38;5;28mself\u001b[39m._stop)\n\u001b[32m    903\u001b[39m \u001b[38;5;28;01mif\u001b[39;00m \u001b[38;5;28mself\u001b[39m._blit:\n\u001b[32m--> \u001b[39m\u001b[32m904\u001b[39m     \u001b[38;5;28;43mself\u001b[39;49m\u001b[43m.\u001b[49m\u001b[43m_setup_blit\u001b[49m\u001b[43m(\u001b[49m\u001b[43m)\u001b[49m\n",
      "\u001b[36mFile \u001b[39m\u001b[32m/opt/pixi/.pixi/envs/default/lib/python3.12/site-packages/matplotlib/animation.py:1228\u001b[39m, in \u001b[36mAnimation._setup_blit\u001b[39m\u001b[34m(self)\u001b[39m\n\u001b[32m   1226\u001b[39m \u001b[38;5;28mself\u001b[39m._drawn_artists = []\n\u001b[32m   1227\u001b[39m \u001b[38;5;66;03m# _post_draw needs to be called first to initialize the renderer\u001b[39;00m\n\u001b[32m-> \u001b[39m\u001b[32m1228\u001b[39m \u001b[38;5;28;43mself\u001b[39;49m\u001b[43m.\u001b[49m\u001b[43m_post_draw\u001b[49m\u001b[43m(\u001b[49m\u001b[38;5;28;43;01mNone\u001b[39;49;00m\u001b[43m,\u001b[49m\u001b[43m \u001b[49m\u001b[38;5;28;43mself\u001b[39;49m\u001b[43m.\u001b[49m\u001b[43m_blit\u001b[49m\u001b[43m)\u001b[49m\n\u001b[32m   1229\u001b[39m \u001b[38;5;66;03m# Then we need to clear the Frame for the initial draw\u001b[39;00m\n\u001b[32m   1230\u001b[39m \u001b[38;5;66;03m# This is typically handled in _on_resize because QT and Tk\u001b[39;00m\n\u001b[32m   1231\u001b[39m \u001b[38;5;66;03m# emit a resize event on launch, but the macosx backend does not,\u001b[39;00m\n\u001b[32m   1232\u001b[39m \u001b[38;5;66;03m# thus we force it here for everyone for consistency\u001b[39;00m\n\u001b[32m   1233\u001b[39m \u001b[38;5;28mself\u001b[39m._init_draw()\n",
      "\u001b[36mFile \u001b[39m\u001b[32m/opt/pixi/.pixi/envs/default/lib/python3.12/site-packages/matplotlib/animation.py:1183\u001b[39m, in \u001b[36mAnimation._post_draw\u001b[39m\u001b[34m(self, framedata, blit)\u001b[39m\n\u001b[32m   1181\u001b[39m     \u001b[38;5;28mself\u001b[39m._blit_draw(\u001b[38;5;28mself\u001b[39m._drawn_artists)\n\u001b[32m   1182\u001b[39m \u001b[38;5;28;01melse\u001b[39;00m:\n\u001b[32m-> \u001b[39m\u001b[32m1183\u001b[39m     \u001b[38;5;28;43mself\u001b[39;49m\u001b[43m.\u001b[49m\u001b[43m_fig\u001b[49m\u001b[43m.\u001b[49m\u001b[43mcanvas\u001b[49m\u001b[43m.\u001b[49m\u001b[43mdraw_idle\u001b[49m\u001b[43m(\u001b[49m\u001b[43m)\u001b[49m\n",
      "\u001b[36mFile \u001b[39m\u001b[32m/opt/pixi/.pixi/envs/default/lib/python3.12/site-packages/matplotlib/backend_bases.py:1891\u001b[39m, in \u001b[36mFigureCanvasBase.draw_idle\u001b[39m\u001b[34m(self, *args, **kwargs)\u001b[39m\n\u001b[32m   1889\u001b[39m \u001b[38;5;28;01mif\u001b[39;00m \u001b[38;5;129;01mnot\u001b[39;00m \u001b[38;5;28mself\u001b[39m._is_idle_drawing:\n\u001b[32m   1890\u001b[39m     \u001b[38;5;28;01mwith\u001b[39;00m \u001b[38;5;28mself\u001b[39m._idle_draw_cntx():\n\u001b[32m-> \u001b[39m\u001b[32m1891\u001b[39m         \u001b[38;5;28;43mself\u001b[39;49m\u001b[43m.\u001b[49m\u001b[43mdraw\u001b[49m\u001b[43m(\u001b[49m\u001b[43m*\u001b[49m\u001b[43margs\u001b[49m\u001b[43m,\u001b[49m\u001b[43m \u001b[49m\u001b[43m*\u001b[49m\u001b[43m*\u001b[49m\u001b[43mkwargs\u001b[49m\u001b[43m)\u001b[49m\n",
      "\u001b[36mFile \u001b[39m\u001b[32m/opt/pixi/.pixi/envs/default/lib/python3.12/site-packages/matplotlib/backends/backend_agg.py:382\u001b[39m, in \u001b[36mFigureCanvasAgg.draw\u001b[39m\u001b[34m(self)\u001b[39m\n\u001b[32m    379\u001b[39m \u001b[38;5;66;03m# Acquire a lock on the shared font cache.\u001b[39;00m\n\u001b[32m    380\u001b[39m \u001b[38;5;28;01mwith\u001b[39;00m (\u001b[38;5;28mself\u001b[39m.toolbar._wait_cursor_for_draw_cm() \u001b[38;5;28;01mif\u001b[39;00m \u001b[38;5;28mself\u001b[39m.toolbar\n\u001b[32m    381\u001b[39m       \u001b[38;5;28;01melse\u001b[39;00m nullcontext()):\n\u001b[32m--> \u001b[39m\u001b[32m382\u001b[39m     \u001b[38;5;28;43mself\u001b[39;49m\u001b[43m.\u001b[49m\u001b[43mfigure\u001b[49m\u001b[43m.\u001b[49m\u001b[43mdraw\u001b[49m\u001b[43m(\u001b[49m\u001b[38;5;28;43mself\u001b[39;49m\u001b[43m.\u001b[49m\u001b[43mrenderer\u001b[49m\u001b[43m)\u001b[49m\n\u001b[32m    383\u001b[39m     \u001b[38;5;66;03m# A GUI class may be need to update a window using this draw, so\u001b[39;00m\n\u001b[32m    384\u001b[39m     \u001b[38;5;66;03m# don't forget to call the superclass.\u001b[39;00m\n\u001b[32m    385\u001b[39m     \u001b[38;5;28msuper\u001b[39m().draw()\n",
      "\u001b[36mFile \u001b[39m\u001b[32m/opt/pixi/.pixi/envs/default/lib/python3.12/site-packages/matplotlib/artist.py:94\u001b[39m, in \u001b[36m_finalize_rasterization.<locals>.draw_wrapper\u001b[39m\u001b[34m(artist, renderer, *args, **kwargs)\u001b[39m\n\u001b[32m     92\u001b[39m \u001b[38;5;129m@wraps\u001b[39m(draw)\n\u001b[32m     93\u001b[39m \u001b[38;5;28;01mdef\u001b[39;00m\u001b[38;5;250m \u001b[39m\u001b[34mdraw_wrapper\u001b[39m(artist, renderer, *args, **kwargs):\n\u001b[32m---> \u001b[39m\u001b[32m94\u001b[39m     result = \u001b[43mdraw\u001b[49m\u001b[43m(\u001b[49m\u001b[43martist\u001b[49m\u001b[43m,\u001b[49m\u001b[43m \u001b[49m\u001b[43mrenderer\u001b[49m\u001b[43m,\u001b[49m\u001b[43m \u001b[49m\u001b[43m*\u001b[49m\u001b[43margs\u001b[49m\u001b[43m,\u001b[49m\u001b[43m \u001b[49m\u001b[43m*\u001b[49m\u001b[43m*\u001b[49m\u001b[43mkwargs\u001b[49m\u001b[43m)\u001b[49m\n\u001b[32m     95\u001b[39m     \u001b[38;5;28;01mif\u001b[39;00m renderer._rasterizing:\n\u001b[32m     96\u001b[39m         renderer.stop_rasterizing()\n",
      "\u001b[36mFile \u001b[39m\u001b[32m/opt/pixi/.pixi/envs/default/lib/python3.12/site-packages/matplotlib/artist.py:71\u001b[39m, in \u001b[36mallow_rasterization.<locals>.draw_wrapper\u001b[39m\u001b[34m(artist, renderer)\u001b[39m\n\u001b[32m     68\u001b[39m     \u001b[38;5;28;01mif\u001b[39;00m artist.get_agg_filter() \u001b[38;5;129;01mis\u001b[39;00m \u001b[38;5;129;01mnot\u001b[39;00m \u001b[38;5;28;01mNone\u001b[39;00m:\n\u001b[32m     69\u001b[39m         renderer.start_filter()\n\u001b[32m---> \u001b[39m\u001b[32m71\u001b[39m     \u001b[38;5;28;01mreturn\u001b[39;00m \u001b[43mdraw\u001b[49m\u001b[43m(\u001b[49m\u001b[43martist\u001b[49m\u001b[43m,\u001b[49m\u001b[43m \u001b[49m\u001b[43mrenderer\u001b[49m\u001b[43m)\u001b[49m\n\u001b[32m     72\u001b[39m \u001b[38;5;28;01mfinally\u001b[39;00m:\n\u001b[32m     73\u001b[39m     \u001b[38;5;28;01mif\u001b[39;00m artist.get_agg_filter() \u001b[38;5;129;01mis\u001b[39;00m \u001b[38;5;129;01mnot\u001b[39;00m \u001b[38;5;28;01mNone\u001b[39;00m:\n",
      "\u001b[36mFile \u001b[39m\u001b[32m/opt/pixi/.pixi/envs/default/lib/python3.12/site-packages/matplotlib/figure.py:3264\u001b[39m, in \u001b[36mFigure.draw\u001b[39m\u001b[34m(self, renderer)\u001b[39m\n\u001b[32m   3261\u001b[39m \u001b[38;5;28;01mfinally\u001b[39;00m:\n\u001b[32m   3262\u001b[39m     \u001b[38;5;28mself\u001b[39m.stale = \u001b[38;5;28;01mFalse\u001b[39;00m\n\u001b[32m-> \u001b[39m\u001b[32m3264\u001b[39m \u001b[43mDrawEvent\u001b[49m\u001b[43m(\u001b[49m\u001b[33;43m\"\u001b[39;49m\u001b[33;43mdraw_event\u001b[39;49m\u001b[33;43m\"\u001b[39;49m\u001b[43m,\u001b[49m\u001b[43m \u001b[49m\u001b[38;5;28;43mself\u001b[39;49m\u001b[43m.\u001b[49m\u001b[43mcanvas\u001b[49m\u001b[43m,\u001b[49m\u001b[43m \u001b[49m\u001b[43mrenderer\u001b[49m\u001b[43m)\u001b[49m\u001b[43m.\u001b[49m\u001b[43m_process\u001b[49m\u001b[43m(\u001b[49m\u001b[43m)\u001b[49m\n",
      "\u001b[36mFile \u001b[39m\u001b[32m/opt/pixi/.pixi/envs/default/lib/python3.12/site-packages/matplotlib/backend_bases.py:1189\u001b[39m, in \u001b[36mEvent._process\u001b[39m\u001b[34m(self)\u001b[39m\n\u001b[32m   1187\u001b[39m \u001b[38;5;28;01mdef\u001b[39;00m\u001b[38;5;250m \u001b[39m\u001b[34m_process\u001b[39m(\u001b[38;5;28mself\u001b[39m):\n\u001b[32m   1188\u001b[39m \u001b[38;5;250m    \u001b[39m\u001b[33;03m\"\"\"Process this event on ``self.canvas``, then unset ``guiEvent``.\"\"\"\u001b[39;00m\n\u001b[32m-> \u001b[39m\u001b[32m1189\u001b[39m     \u001b[38;5;28;43mself\u001b[39;49m\u001b[43m.\u001b[49m\u001b[43mcanvas\u001b[49m\u001b[43m.\u001b[49m\u001b[43mcallbacks\u001b[49m\u001b[43m.\u001b[49m\u001b[43mprocess\u001b[49m\u001b[43m(\u001b[49m\u001b[38;5;28;43mself\u001b[39;49m\u001b[43m.\u001b[49m\u001b[43mname\u001b[49m\u001b[43m,\u001b[49m\u001b[43m \u001b[49m\u001b[38;5;28;43mself\u001b[39;49m\u001b[43m)\u001b[49m\n\u001b[32m   1190\u001b[39m     \u001b[38;5;28mself\u001b[39m.guiEvent = \u001b[38;5;28;01mNone\u001b[39;00m\n",
      "\u001b[36mFile \u001b[39m\u001b[32m/opt/pixi/.pixi/envs/default/lib/python3.12/site-packages/matplotlib/cbook.py:366\u001b[39m, in \u001b[36mCallbackRegistry.process\u001b[39m\u001b[34m(self, s, *args, **kwargs)\u001b[39m\n\u001b[32m    364\u001b[39m \u001b[38;5;28;01mexcept\u001b[39;00m \u001b[38;5;167;01mException\u001b[39;00m \u001b[38;5;28;01mas\u001b[39;00m exc:\n\u001b[32m    365\u001b[39m     \u001b[38;5;28;01mif\u001b[39;00m \u001b[38;5;28mself\u001b[39m.exception_handler \u001b[38;5;129;01mis\u001b[39;00m \u001b[38;5;129;01mnot\u001b[39;00m \u001b[38;5;28;01mNone\u001b[39;00m:\n\u001b[32m--> \u001b[39m\u001b[32m366\u001b[39m         \u001b[38;5;28;43mself\u001b[39;49m\u001b[43m.\u001b[49m\u001b[43mexception_handler\u001b[49m\u001b[43m(\u001b[49m\u001b[43mexc\u001b[49m\u001b[43m)\u001b[49m\n\u001b[32m    367\u001b[39m     \u001b[38;5;28;01melse\u001b[39;00m:\n\u001b[32m    368\u001b[39m         \u001b[38;5;28;01mraise\u001b[39;00m\n",
      "\u001b[36mFile \u001b[39m\u001b[32m/opt/pixi/.pixi/envs/default/lib/python3.12/site-packages/matplotlib/cbook.py:110\u001b[39m, in \u001b[36m_exception_printer\u001b[39m\u001b[34m(exc)\u001b[39m\n\u001b[32m    108\u001b[39m \u001b[38;5;28;01mdef\u001b[39;00m\u001b[38;5;250m \u001b[39m\u001b[34m_exception_printer\u001b[39m(exc):\n\u001b[32m    109\u001b[39m     \u001b[38;5;28;01mif\u001b[39;00m _get_running_interactive_framework() \u001b[38;5;129;01min\u001b[39;00m [\u001b[33m\"\u001b[39m\u001b[33mheadless\u001b[39m\u001b[33m\"\u001b[39m, \u001b[38;5;28;01mNone\u001b[39;00m]:\n\u001b[32m--> \u001b[39m\u001b[32m110\u001b[39m         \u001b[38;5;28;01mraise\u001b[39;00m exc\n\u001b[32m    111\u001b[39m     \u001b[38;5;28;01melse\u001b[39;00m:\n\u001b[32m    112\u001b[39m         traceback.print_exc()\n",
      "\u001b[36mFile \u001b[39m\u001b[32m/opt/pixi/.pixi/envs/default/lib/python3.12/site-packages/matplotlib/cbook.py:361\u001b[39m, in \u001b[36mCallbackRegistry.process\u001b[39m\u001b[34m(self, s, *args, **kwargs)\u001b[39m\n\u001b[32m    359\u001b[39m \u001b[38;5;28;01mif\u001b[39;00m func \u001b[38;5;129;01mis\u001b[39;00m \u001b[38;5;129;01mnot\u001b[39;00m \u001b[38;5;28;01mNone\u001b[39;00m:\n\u001b[32m    360\u001b[39m     \u001b[38;5;28;01mtry\u001b[39;00m:\n\u001b[32m--> \u001b[39m\u001b[32m361\u001b[39m         \u001b[43mfunc\u001b[49m\u001b[43m(\u001b[49m\u001b[43m*\u001b[49m\u001b[43margs\u001b[49m\u001b[43m,\u001b[49m\u001b[43m \u001b[49m\u001b[43m*\u001b[49m\u001b[43m*\u001b[49m\u001b[43mkwargs\u001b[49m\u001b[43m)\u001b[49m\n\u001b[32m    362\u001b[39m     \u001b[38;5;66;03m# this does not capture KeyboardInterrupt, SystemExit,\u001b[39;00m\n\u001b[32m    363\u001b[39m     \u001b[38;5;66;03m# and GeneratorExit\u001b[39;00m\n\u001b[32m    364\u001b[39m     \u001b[38;5;28;01mexcept\u001b[39;00m \u001b[38;5;167;01mException\u001b[39;00m \u001b[38;5;28;01mas\u001b[39;00m exc:\n",
      "\u001b[36mFile \u001b[39m\u001b[32m/opt/pixi/.pixi/envs/default/lib/python3.12/site-packages/matplotlib/animation.py:928\u001b[39m, in \u001b[36mAnimation._start\u001b[39m\u001b[34m(self, *args)\u001b[39m\n\u001b[32m    925\u001b[39m \u001b[38;5;28mself\u001b[39m._fig.canvas.mpl_disconnect(\u001b[38;5;28mself\u001b[39m._first_draw_id)\n\u001b[32m    927\u001b[39m \u001b[38;5;66;03m# Now do any initial draw\u001b[39;00m\n\u001b[32m--> \u001b[39m\u001b[32m928\u001b[39m \u001b[38;5;28;43mself\u001b[39;49m\u001b[43m.\u001b[49m\u001b[43m_init_draw\u001b[49m\u001b[43m(\u001b[49m\u001b[43m)\u001b[49m\n\u001b[32m    930\u001b[39m \u001b[38;5;66;03m# Add our callback for stepping the animation and\u001b[39;00m\n\u001b[32m    931\u001b[39m \u001b[38;5;66;03m# actually start the event_source.\u001b[39;00m\n\u001b[32m    932\u001b[39m \u001b[38;5;28mself\u001b[39m.event_source.add_callback(\u001b[38;5;28mself\u001b[39m._step)\n",
      "\u001b[36mFile \u001b[39m\u001b[32m/opt/pixi/.pixi/envs/default/lib/python3.12/site-packages/matplotlib/animation.py:1770\u001b[39m, in \u001b[36mFuncAnimation._init_draw\u001b[39m\u001b[34m(self)\u001b[39m\n\u001b[32m   1762\u001b[39m         warnings.warn(\n\u001b[32m   1763\u001b[39m             \u001b[33m\"\u001b[39m\u001b[33mCan not start iterating the frames for the initial draw. \u001b[39m\u001b[33m\"\u001b[39m\n\u001b[32m   1764\u001b[39m             \u001b[33m\"\u001b[39m\u001b[33mThis can be caused by passing in a 0 length sequence \u001b[39m\u001b[33m\"\u001b[39m\n\u001b[32m   (...)\u001b[39m\u001b[32m   1767\u001b[39m             \u001b[33m\"\u001b[39m\u001b[33mit may be exhausted due to a previous display or save.\u001b[39m\u001b[33m\"\u001b[39m\n\u001b[32m   1768\u001b[39m         )\n\u001b[32m   1769\u001b[39m         \u001b[38;5;28;01mreturn\u001b[39;00m\n\u001b[32m-> \u001b[39m\u001b[32m1770\u001b[39m     \u001b[38;5;28;43mself\u001b[39;49m\u001b[43m.\u001b[49m\u001b[43m_draw_frame\u001b[49m\u001b[43m(\u001b[49m\u001b[43mframe_data\u001b[49m\u001b[43m)\u001b[49m\n\u001b[32m   1771\u001b[39m \u001b[38;5;28;01melse\u001b[39;00m:\n\u001b[32m   1772\u001b[39m     \u001b[38;5;28mself\u001b[39m._drawn_artists = \u001b[38;5;28mself\u001b[39m._init_func()\n",
      "\u001b[36mFile \u001b[39m\u001b[32m/opt/pixi/.pixi/envs/default/lib/python3.12/site-packages/matplotlib/animation.py:1789\u001b[39m, in \u001b[36mFuncAnimation._draw_frame\u001b[39m\u001b[34m(self, framedata)\u001b[39m\n\u001b[32m   1785\u001b[39m     \u001b[38;5;28mself\u001b[39m._save_seq = \u001b[38;5;28mself\u001b[39m._save_seq[-\u001b[38;5;28mself\u001b[39m._save_count:]\n\u001b[32m   1787\u001b[39m \u001b[38;5;66;03m# Call the func with framedata and args. If blitting is desired,\u001b[39;00m\n\u001b[32m   1788\u001b[39m \u001b[38;5;66;03m# func needs to return a sequence of any artists that were modified.\u001b[39;00m\n\u001b[32m-> \u001b[39m\u001b[32m1789\u001b[39m \u001b[38;5;28mself\u001b[39m._drawn_artists = \u001b[38;5;28;43mself\u001b[39;49m\u001b[43m.\u001b[49m\u001b[43m_func\u001b[49m\u001b[43m(\u001b[49m\u001b[43mframedata\u001b[49m\u001b[43m,\u001b[49m\u001b[43m \u001b[49m\u001b[43m*\u001b[49m\u001b[38;5;28;43mself\u001b[39;49m\u001b[43m.\u001b[49m\u001b[43m_args\u001b[49m\u001b[43m)\u001b[49m\n\u001b[32m   1791\u001b[39m \u001b[38;5;28;01mif\u001b[39;00m \u001b[38;5;28mself\u001b[39m._blit:\n\u001b[32m   1793\u001b[39m     err = \u001b[38;5;167;01mRuntimeError\u001b[39;00m(\u001b[33m'\u001b[39m\u001b[33mThe animation function must return a sequence \u001b[39m\u001b[33m'\u001b[39m\n\u001b[32m   1794\u001b[39m                        \u001b[33m'\u001b[39m\u001b[33mof Artist objects.\u001b[39m\u001b[33m'\u001b[39m)\n",
      "\u001b[36mCell\u001b[39m\u001b[36m \u001b[39m\u001b[32mIn[6]\u001b[39m\u001b[32m, line 16\u001b[39m, in \u001b[36manimate\u001b[39m\u001b[34m(i, progress_bar)\u001b[39m\n\u001b[32m     13\u001b[39m t, U = U_sol[i+\u001b[32m1\u001b[39m]\n\u001b[32m     15\u001b[39m pylab.subplot(\u001b[32m1\u001b[39m, \u001b[32m2\u001b[39m, \u001b[32m1\u001b[39m)\n\u001b[32m---> \u001b[39m\u001b[32m16\u001b[39m c1 = \u001b[43mplot\u001b[49m\u001b[43m(\u001b[49m\u001b[43mU\u001b[49m\u001b[43m.\u001b[49m\u001b[43msub\u001b[49m\u001b[43m(\u001b[49m\u001b[32;43m0\u001b[39;49m\u001b[43m)\u001b[49m\u001b[43m)\u001b[49m\u001b[43m.\u001b[49m\u001b[43mcollections\u001b[49m\n\u001b[32m     17\u001b[39m plt.title(\u001b[33mf\u001b[39m\u001b[33m\"\u001b[39m\u001b[33mPotential at time t=\u001b[39m\u001b[38;5;132;01m{\u001b[39;00mt\u001b[38;5;132;01m:\u001b[39;00m\u001b[33m0>4\u001b[39m\u001b[38;5;132;01m}\u001b[39;00m\u001b[33m\"\u001b[39m)\n\u001b[32m     19\u001b[39m pylab.subplot(\u001b[32m1\u001b[39m, \u001b[32m2\u001b[39m, \u001b[32m2\u001b[39m)\n",
      "\u001b[31mAttributeError\u001b[39m: 'TriContourSet' object has no attribute 'collections'"
     ]
    },
    {
     "data": {
      "image/png": "[encoded data removed]",
      "text/plain": [
       "<Figure size 640x480 with 1 Axes>"
      ]
     },
     "metadata": {},
     "output_type": "display_data"
    }
   ],
   "source": [
    "# from ipywidgets import interact, interactive, IntSlider\n",
    "\n",
    "import itertools\n",
    "import matplotlib.pyplot as plt\n",
    "from matplotlib import animation\n",
    "from IPython.display import HTML\n",
    "from functools import partial\n",
    "\n",
    "N_frames = len(U_sol.keys()) \n",
    "\n",
    "def animate(i, progress_bar):\n",
    "    progress_bar.update(1)\n",
    "    t, U = U_sol[i+1]\n",
    "    \n",
    "    pylab.subplot(1, 2, 1)\n",
    "    c1 = plot(U.sub(0)).collections\n",
    "    plt.title(f\"Potential at time t={t:0>4}\")\n",
    "    \n",
    "    pylab.subplot(1, 2, 2)\n",
    "    c2 = plot(U.sub(1)).collections\n",
    "    plt.title(f\"Recovery at time t={t:0>4}\")\n",
    "    \n",
    "    return itertools.chain(c1, c2)\n",
    "\n",
    "progress_bar = tqdm.notebook.tqdm(total=N_frames, desc=\"Creating animation\")\n",
    "fig = plt.figure()\n",
    "anim = animation.FuncAnimation(fig, partial(animate, progress_bar=progress_bar),\n",
    "                               frames=len(U_sol.keys()), interval=100, blit=True)\n",
    "\n",
    "\n",
    "# cool animation\n",
    "display(HTML(anim.to_jshtml()))\n",
    "progress_bar.close()\n",
    "plt.close();\n",
    "\n",
    "\n",
    "# slidable movie\n",
    "# slider = IntSlider(min=min(U_sol.keys())-1, max=max(U_sol.keys())-1,continuous_update=False)\n",
    "# slider.layout.width = \"80%\"\n",
    "# interact(animate,i=slider)"
   ]
  },
  {
   "cell_type": "code",
   "execution_count": null,
   "metadata": {},
   "outputs": [],
   "source": []
  }
 ],
 "metadata": {
  "kernelspec": {
   "display_name": "Python 3 (ipykernel)",
   "language": "python",
   "name": "python3"
  },
  "language_info": {
   "codemirror_mode": {
    "name": "ipython",
    "version": 3
   },
   "file_extension": ".py",
   "mimetype": "text/x-python",
   "name": "python",
   "nbconvert_exporter": "python",
   "pygments_lexer": "ipython3",
   "version": "3.12.10"
  }
 },
 "nbformat": 4,
 "nbformat_minor": 4
}
