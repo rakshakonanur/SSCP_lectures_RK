{
 "cells": [
  {
   "cell_type": "markdown",
   "metadata": {},
   "source": [
    "# Time-dependent PDEs in FEniCS"
   ]
  },
  {
   "cell_type": "markdown",
   "metadata": {},
   "source": [
    "## Time is crucial for many processes"
   ]
  },
  {
   "cell_type": "code",
   "execution_count": 1,
   "metadata": {},
   "outputs": [
    {
     "data": {
      "text/html": [
       "<iframe width=\"560\" height=\"315\" src=\"https://www.youtube.com/embed/CCmTY0PKGDs\" frameborder=\"0\" allowfullscreen></iframe>"
      ],
      "text/plain": [
       "<IPython.core.display.HTML object>"
      ]
     },
     "execution_count": 1,
     "metadata": {},
     "output_type": "execute_result"
    }
   ],
   "source": [
    "from IPython.display import HTML\n",
    "HTML('<iframe width=\"560\" height=\"315\" src=\"https://www.youtube.com/embed/CCmTY0PKGDs\" frameborder=\"0\" allowfullscreen></iframe>')"
   ]
  },
  {
   "cell_type": "markdown",
   "metadata": {},
   "source": [
    "## The heat equation is the \"Hello world\" example of a time-dependent PDE"
   ]
  },
  {
   "cell_type": "markdown",
   "metadata": {},
   "source": [
    "We will solve the simplest extension of the Poisson problem into\n",
    "the time domain, the **heat equation**:\n",
    "\n",
    "$$\n",
    "\\frac{\\partial u}{\\partial t} + D u_{xx} = f  \\qquad \\text{ for } x \\in \\Omega \\text{ and for } t \\in [0, T], \\\\\n",
    "u = g  \\qquad \\text{ for } x \\in \\partial \\Omega \\text{ and } t \\in [0, T], \\\\\n",
    "u = u^0 \\qquad \\text{ for } x \\in \\Omega \\text{ and } t = 0.\n",
    "$$\n",
    "\n",
    "with $D \\in \\mathbb R$. $\\Omega$ denotes the spatial domain and $\\partial \\Omega$ the domain boundary. For example for $\\Omega = [-L, L]$, the boundary $\\partial \\Omega$ consists of the two points $-L$ and $L$. We start the simulation at time $t=0$ until the final time $T$.\n",
    "\n",
    "\n",
    "The solution $u = u(x, t)$, the right-hand side $f = f (x, t)$ and the\n",
    "boundary value $g = g(x, t)$ may vary in space $(x)$\n",
    "and time (t). The initial value $u_0$ is a function of space only.\n",
    "\n",
    "Let's see how a 2D solution of this problem looks like:"
   ]
  },
  {
   "cell_type": "code",
   "execution_count": 2,
   "metadata": {},
   "outputs": [
    {
     "data": {
      "text/html": [
       "<iframe width=\"560\" height=\"315\" src=\"https://www.youtube.com/embed/TvlIfSlLB0c\" frameborder=\"0\" allowfullscreen></iframe>"
      ],
      "text/plain": [
       "<IPython.core.display.HTML object>"
      ]
     },
     "execution_count": 2,
     "metadata": {},
     "output_type": "execute_result"
    }
   ],
   "source": [
    "## An example solution in 2D\n",
    "from IPython.display import HTML\n",
    "HTML('<iframe width=\"560\" height=\"315\" src=\"https://www.youtube.com/embed/TvlIfSlLB0c\" frameborder=\"0\" allowfullscreen></iframe>')"
   ]
  },
  {
   "cell_type": "markdown",
   "metadata": {},
   "source": [
    "**Question**: Which kind of initial/boundary conditions were used in the above simulation?"
   ]
  },
  {
   "cell_type": "markdown",
   "metadata": {},
   "source": [
    "## Time-discretization of the heat equation\n",
    "\n",
    "FEniCS cannot direct solve time-dependent equations. We therefore must approximate the time-derivative $\\frac{\\partial u}{\\partial t}$, that is discretise in time. This will lead to a sequence of non-time dependent PDEs, which we can solve with FEniCS. \n",
    "\n",
    "\n",
    "Our goal is to compute the solution at a set of discrete time-levels $0 = t^0 < t^1 < ... < T^N = T$. \n",
    "The variables at the n'th time-levels will denoted with a superscript $n$:\n",
    "\n",
    "$$ u^n \\approx u(t^n) \\\\\n",
    "f^n = f(t^n)\n",
    "$$\n",
    "\n",
    "We discretize in time using the **implicit Euler** method.\n",
    "\n",
    "$$ \\frac{\\partial u}{\\partial t} (t^n) \\approx \\frac{u^n - u^{n-1}}{\\Delta t} $$\n",
    "This leads to the semi-discretization of the heat equation (\"semi\"-discretisation because we have discretised in time, but not yet in space):\n",
    "$$\n",
    "u^n - u^{n-1} - u^n_{xx} = \\Delta t f_n \n",
    "$$\n",
    "\n",
    "\n",
    "### Time stepping algorithm for the heat equation\n",
    "\n",
    "1. Start with $u^0$ and choose a timestep ∆t > 0.\n",
    "2. For $n = 1, 2, ...$ solve for $u^n$: \n",
    " \n",
    "   $u^n − \\Delta t u^n_{xx} = u^{n-1} + \\Delta t f^n$"
   ]
  },
  {
   "cell_type": "markdown",
   "metadata": {},
   "source": [
    "## Variational problem for the heat equation\n",
    "\n",
    "To obtain the fully-discretised system, we derive the variational formulation of the semi-discretised system:\n",
    "\n",
    "Find $u^n, n=1, ..., N$ such that \n",
    "$$\n",
    " a(u^n, v) = L^n(v)  \\quad \\text{ for all } v\n",
    "$$\n",
    "where \n",
    "$$\n",
    "  a(u^n, v) = \\int_\\Omega u^nv + \\Delta t u_x v_x \\text{d}x\\\\\n",
    "  L^n(v) = \\int_\\Omega u^{n-1}v + \\Delta t f^nv \\text{d}x\n",
    "$$\n",
    "Note that the bilinear form $a(u, v)$ is constant while the linear\n",
    "form $L^n$ depends on $n$."
   ]
  },
  {
   "cell_type": "markdown",
   "metadata": {},
   "source": [
    "## Detailed time-stepping algorithm for the heat equation\n",
    "\n",
    "The following sceleton shows how to solve a time-dependent problem in FEniCS:\n",
    "\n",
    "* Define the mesh, functions-spaces and Dirichlet boundary conditions\n",
    "* Compute $u_0$ as the projection of the given initial value\n",
    "* Define the forms $a$ and $L$\n",
    "* Set $t$ to $\\Delta t$\n",
    "* **while $t < T$ do**\n",
    "    * Apply the boundary condition\n",
    "    * Solve the $A = L$ for $U$ and store in $u_1$\n",
    "    * Set $t$ to $t + \\Delta t$\n",
    "    * Set $u_0$ to $u_1$ (get ready for next step)\n",
    "* **end while**"
   ]
  },
  {
   "cell_type": "markdown",
   "metadata": {},
   "source": [
    "## Some implementation tips - let's started with setting up a basic FEniCS environment"
   ]
  },
  {
   "cell_type": "code",
   "execution_count": 3,
   "metadata": {},
   "outputs": [],
   "source": [
    "%matplotlib inline\n",
    "from fenics import *\n",
    "import pylab\n",
    "#parameters['plotting_backend'] = 'matplotlib'\n",
    "\n",
    "mesh = UnitIntervalMesh(100)\n",
    "V = FunctionSpace(mesh, \"CG\", 1)"
   ]
  },
  {
   "cell_type": "markdown",
   "metadata": {},
   "source": [
    "## Handling time-dependent expressions\n",
    "\n",
    "We need to define a time-dependent expression for the boundary value:"
   ]
  },
  {
   "cell_type": "code",
   "execution_count": 4,
   "metadata": {},
   "outputs": [],
   "source": [
    "beta = 1.2\n",
    "g = Expression (\"1-beta*t\", beta=beta , t=0, degree=2)"
   ]
  },
  {
   "cell_type": "markdown",
   "metadata": {},
   "source": [
    "Updating parameter values:"
   ]
  },
  {
   "cell_type": "code",
   "execution_count": 5,
   "metadata": {
    "collapsed": true
   },
   "outputs": [],
   "source": [
    "g.t = 2.0"
   ]
  },
  {
   "cell_type": "markdown",
   "metadata": {},
   "source": [
    "## Projection and interpolation\n",
    "\n",
    "Now `g` is a `fenics.Expression`, which does not depend on the mesh. Our unknown will be a `fenics.Function`, which is something living on a particular mesh, so to set its initial value we need to project the Expression g:"
   ]
  },
  {
   "cell_type": "code",
   "execution_count": 6,
   "metadata": {},
   "outputs": [
    {
     "name": "stdout",
     "output_type": "stream",
     "text": [
      "('g is a: ', <class 'dolfin.functions.expression.CompiledExpression'>)\n",
      "('u0 is a: ', <class 'dolfin.functions.function.Function'>)\n"
     ]
    },
    {
     "data": {
      "image/png": "[encoded data removed]",
      "text/plain": [
       "<matplotlib.figure.Figure at 0x7fb483c9fdd0>"
      ]
     },
     "metadata": {},
     "output_type": "display_data"
    }
   ],
   "source": [
    "u0 = project(g, V)\n",
    "p = plot(u0)\n",
    "# The next two lines may be required to plot the function correctly\n",
    "#p[0].axes.set_xlim([0, 1])\n",
    "#p[0].axes.set_ylim([3, 7])\n",
    "\n",
    "print(\"g is a: \", type(g))\n",
    "print(\"u0 is a: \", type(u0))\n"
   ]
  },
  {
   "cell_type": "markdown",
   "metadata": {},
   "source": [
    "## Implementing the variational problem"
   ]
  },
  {
   "cell_type": "code",
   "execution_count": 7,
   "metadata": {
    "collapsed": true
   },
   "outputs": [],
   "source": [
    "# The time-step\n",
    "dt = 0.3\n",
    "\n",
    "# Project the intial condition\n",
    "u0 = project (g, V)\n",
    "\n",
    "# Define a variable to store the solution at the previous time-step\n",
    "u1 = Function(V)\n",
    "\n",
    "# Define a source term\n",
    "f = Constant(0)\n",
    "\n",
    "# Define the Dirichlet boundary condition\n",
    "bc = DirichletBC (V, g, \"on_boundary\")\n",
    "\n",
    "# Code the variational formulation\n",
    "u = TrialFunction(V)\n",
    "v = TestFunction(V)\n",
    "a = u*v*dx + dt*inner(grad(u), grad(v))*dx\n",
    "L = u0*v*dx + dt*f*v*dx"
   ]
  },
  {
   "cell_type": "markdown",
   "metadata": {},
   "source": [
    "## Implementing the time-stepping loop"
   ]
  },
  {
   "cell_type": "code",
   "execution_count": 8,
   "metadata": {},
   "outputs": [
    {
     "data": {
      "image/png": "[encoded data removed]",
      "text/plain": [
       "<matplotlib.figure.Figure at 0x7fb483c9f510>"
      ]
     },
     "metadata": {},
     "output_type": "display_data"
    }
   ],
   "source": [
    "# Implement the time-loop\n",
    "T = 2\n",
    "t = dt\n",
    "while t <= T:\n",
    "    # Update the time-level of the boundary expression\n",
    "    g.t = t\n",
    "    \n",
    "    # Solve the linear system\n",
    "    solve(a == L, u1, [bc])\n",
    "    \n",
    "    # Get ready for the next time-step\n",
    "    t += dt\n",
    "    u0.assign(u1)\n",
    "    \n",
    "    # Plot the solution\n",
    "    p = plot(u0, label='t={}'.format(t))\n",
    "    p[0].axes.set_xlim([0, 1])\n",
    "    p[0].axes.set_ylim([0, 7])\n",
    "    pylab.legend()"
   ]
  },
  {
   "cell_type": "markdown",
   "metadata": {},
   "source": [
    "## A possible performance boost - a closer look at solve\n",
    "The above code works, but a small modification can improve its performance if necessary. For linear problems, this code Python code\n",
    "```python\n",
    "solve(a == L, u, bcs)\n",
    "```\n",
    "is equivalent to this (see video on FEM for explanation of the details)\n",
    "```python \n",
    "# Assembling a bilinear form yields a matrix\n",
    "A = assemble(a)\n",
    "# Assembling a linear form yields a vector\n",
    "b = assemble(L)\n",
    "# Applying boundary condition info to system\n",
    "for bc in bcs:\n",
    "    bc.apply(A , b)\n",
    "    # Solve the linear system of equations Ax = b\n",
    "    solve (A, u.vector(), b)\n",
    "```\n",
    "\n",
    "Because ``a`` does not change, we could avoid the call to ``assemble(a)`` at every time step by pulling it outside of the loop."
   ]
  },
  {
   "cell_type": "markdown",
   "metadata": {},
   "source": [
    "## The cable equations\n",
    "\n",
    "The standard cable equation is a reaction-diffusion equation given by\n",
    "$$\n",
    "\\frac{\\partial u}{\\partial t}  = \\sigma u_{xx} + f(u, s)\n",
    "$$\n",
    "where $f(u, s)$ is a reaction term describing ionic fluxes across\n",
    "the membrane.\n",
    "* A linear $f(u)$ describes passive conductance through a leaky cable (dendrites).\n",
    "* A cubic $f(u)$ gives the bistable equation with a propagating activation front.\n",
    "* In general $f(u, s)$, where s is a vector describing the state of the cell membrane, typically governed by a system of ODEs."
   ]
  },
  {
   "cell_type": "markdown",
   "metadata": {},
   "source": [
    "## Exercise 1: The cable equation"
   ]
  },
  {
   "cell_type": "markdown",
   "metadata": {},
   "source": [
    "Solve the linear, bistable cable equation on an interval $\\Omega=[-L, L]$ in FEniCS \n",
    "$$\n",
    "\\frac{\\partial u}{\\partial t} = \\sigma u_{xx} + f(u) \\quad \\text{ for } -L < x < L, \\\\\n",
    "u_x = 0 \\quad \\text{ for } x = -L \\text{ and } x = L,\n",
    "$$\n",
    "with \n",
    "* $f(u) = Au$,\n",
    "* $A = -0.1$,\n",
    "* $\\sigma = 1.0$,\n",
    "* $L = 100$.\n",
    "\n",
    "Implement an implicit Euler time-stepping scheme and solve the problem from $t=0$ to $T=250$ with a timestep of $dt=2.5$. Use as initial condition\n",
    "\n",
    "$$\n",
    "\\frac{1}{2} (1-\\tanh(\\sqrt{A/8\\sigma)}(x+0.75L)))\n",
    "$$\n",
    "Create a plot of the solution on every 10th time-step. What happens if you change the value and sign of A? To improve the performance of your solver, try making it ``assemble(a)`` only once."
   ]
  },
  {
   "cell_type": "markdown",
   "metadata": {},
   "source": [
    "## Exercise 2: Forward or backward?\n",
    "\n",
    "Above, we discretized in time using the **implicit Euler** method, meaning that we replaced $ \\frac{\\partial u}{\\partial t} (t^n)$ by $\\frac{u^n - u^{n-1}}{\\Delta t} $. This is also called the **backward** Euler method because we are approximating a derivative by a difference *backwards* in time.\n",
    "\n",
    "We could also have used the **forward** or **explicit Euler** method by approximating $ \\frac{\\partial u}{\\partial t} (t^n)$ by $\\frac{u^{n+1} - u^n}{\\Delta t} $. Note that now the difference is going *forwards* in time instead. Take the heat equation $$\\frac {\\partial u} {\\partial t} = Du_{xx}$$ and discretize it using both methods. What does the resulting systems of equations look like? Why do you think one is called explicit and the other implicit?\n",
    "\n",
    "Next, let us try to compare the two. Choose initial conditions and Dirichlet boundary conditions so that the exact solution becomes $u_e = \\text{exp}(-t) \\text{ sin}(x)$. Then, using a timestep of $\\Delta t$ = 0.1, derive the weak formulation and solve using first a backward Euler discretization, then a forward Euler discretization. Plot the computed solution alongside the exact solution, or compute the error using `dolfin.errornorm(u_exact, u)`. Which time discretization would you prefer?"
   ]
  },
  {
   "cell_type": "markdown",
   "metadata": {},
   "source": [
    "## Exercise 3: 2D heat equation\n",
    "(This exercise may be challenging without knowledge of vector calculus. Feel free to skip it.)\n",
    "\n",
    "The heat equation can be extended to a 2D domain in the following way:\n",
    "$$\\frac{\\partial u}{\\partial t} - D \\text{ div grad } u = f$$\n",
    "\n",
    "Here, $\\text{ grad }$ means the gradient (vector of $x$ and $y$ derivatives), and $\\text{ div }$ means the divergence (sum of $x$ and $y$ derivatives).\n",
    "\n",
    "To derive its weak formulation, you will need to generalize integration by parts to 2D. The relevant formula is:\n",
    "\n",
    "$$\\int_\\Omega \\psi \\text{ div grad } \\phi = - \\int_\\Omega \\text{grad } \\psi \\cdot \\text{ grad } \\phi  + \\text{ boundary term}$$ \n",
    "\n",
    "Use this to derive the weak formulation of the 2D heat equation. Then solve the heat equation on a unit square with the Dirichlet boundary condition $u = x(1-x)$ on the entire boundary, and the initial condition $u=0$. Some FEniCS commands you may need include the following:"
   ]
  },
  {
   "cell_type": "code",
   "execution_count": 9,
   "metadata": {},
   "outputs": [
    {
     "data": {
      "text/plain": [
       "[<matplotlib.lines.Line2D at 0x7fb4831745d0>,\n",
       " <matplotlib.lines.Line2D at 0x7fb483174350>]"
      ]
     },
     "execution_count": 9,
     "metadata": {},
     "output_type": "execute_result"
    },
    {
     "data": {
      "image/png": "[encoded data removed]",
      "text/plain": [
       "<matplotlib.figure.Figure at 0x7fb483197b90>"
      ]
     },
     "metadata": {},
     "output_type": "display_data"
    }
   ],
   "source": [
    "mesh = UnitSquareMesh(10, 10)\n",
    "plot(mesh)\n",
    "\n",
    "# to compute the inner product of vectors a, b, use inner(a, b)"
   ]
  }
 ],
 "metadata": {
  "kernelspec": {
   "display_name": "Python (vasculatureenv)",
   "language": "python",
   "name": "vasculatureenv"
  },
  "language_info": {
   "codemirror_mode": {
    "name": "ipython",
    "version": 2
   },
   "file_extension": ".py",
   "mimetype": "text/x-python",
   "name": "python",
   "nbconvert_exporter": "python",
   "pygments_lexer": "ipython2",
   "version": "2.7.12"
  }
 },
 "nbformat": 4,
 "nbformat_minor": 2
}
