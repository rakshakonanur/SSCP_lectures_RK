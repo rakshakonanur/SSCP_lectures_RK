{
 "cells": [
  {
   "cell_type": "markdown",
   "id": "2980dd42",
   "metadata": {},
   "source": [
    "# EMI modeling in FEniCS\n"
   ]
  },
  {
   "cell_type": "markdown",
   "id": "7c1c2fd9",
   "metadata": {},
   "source": [
    "## Model equations \n",
    "In summary, the non-stationary EMI (extra-, membrane, intra-) model for a single cell surrounded by an extracellular domain (as illustrated), for $t\\in(0,T]$, is given by \n",
    "\\begin{align}\n",
    "    & -\\nabla \\cdot (\\sigma_e\\nabla u_e(\\mathbf{x},t))=f_e && \\quad \\mathrm{for} \\quad \\mathbf{x}\\in\\Omega_e, \\\\ \n",
    "    & -\\nabla \\cdot (\\sigma_i\\nabla u_i(\\mathbf{x},t))=f_i && \\quad \\mathrm{for} \\quad \\mathbf{x}\\in\\Omega_i, \\label{eq::EMI_2}\\\\\n",
    "    & \\sigma_e\\nabla u_e(\\mathbf{x},t)\\cdot\\mathbf{n}_e = -\\sigma_i\\nabla u_i(\\mathbf{x},t)\\cdot\\mathbf{n}_i\\equiv I_m(\\mathbf{x},t) && \\quad \\mathrm{for} \\quad \\mathbf{x}\\in\\Gamma, \\label{eq::EMI_3} \\\\\n",
    "    & u_i(\\mathbf{x},t)-u_e(\\mathbf{x},t) = v(\\mathbf{x},t) && \\quad \\mathrm{for} \\quad \\mathbf{x}\\in\\Gamma \\label{eq::EMI_4} \\\\ \n",
    "    & \\frac{\\partial v(\\mathbf{x},t)}{\\partial t} = \\frac{1}{C_m}(I_m(\\mathbf{x},t) - I_{\\text{ion}}(\\mathbf{x},t)) && \\quad \\mathrm{for} \\quad \\mathbf{x}\\in\\Gamma,\\label{eq::EMI_5}\n",
    "\\end{align}\n",
    "for the intra- and extra-cellular potentials $u_i,u_e$, and for the membrane current $I_m$:\n",
    "with $\\sigma_e,\\sigma_i$ conductivities and $C_m$ the membrane capacitance. The ionic current $I_{\\text{ion}}=I_{\\text{ion}}(v)$ depends on the specific ionic model of choice. Source terms $f_e,f_i$ are typically zero in the physical setting.\n",
    "\n",
    "\n",
    "We can close the EMI problem with homogeneous boundary conditions:\n",
    "\\begin{align}\n",
    "     u_e(\\mathbf{x},t) = 0 & \\quad \\mathrm{for} \\quad \\mathbf{x}\\in\\partial\\Gamma_e^D,\\\\ \\label{bc2}\n",
    "     \\sigma_e \\nabla u_e (\\mathbf{x},t) \\cdot \\mathbf{n}_e = 0 & \\quad \\mathrm{for} \\quad \\mathbf{x}\\in\\partial\\Gamma_e^N,\n",
    "\\end{align}\n",
    "and initial membrane potential $v(\\mathbf{x},0)=v_0(\\mathbf{x})$.\n",
    "\n",
    "| <img src=\"figures/cell.png\" width=500> |\n",
    "|:--:|\n",
    "|*Modeling Excitable Tissue The EMI Framework, Chapter 5* by M. Kuchta et. al. |"
   ]
  },
  {
   "cell_type": "markdown",
   "id": "1a9cc9d8",
   "metadata": {},
   "source": [
    "### Exercise \n",
    "The EMI solution consist of the intra- and extra- potentials, as well as a membrane term encoded in the current $I_m$. It is possible to eliminate the latter unknown, expressing it as a function of $u_i$ and $u_e$. Try to obtain such an expression for $I_m$; to do so:\n",
    "\n",
    "1) Discretize in time the membrane equations, i.e. consider $N_t>0$ discrete time steps $0=t_0<t_1<\\cdots<t_{N_t-1}=T$, with $\\Delta t = t_n - t_{n-1}$ for $n=1,...,N_t$. \n",
    "\n",
    "2) Consider a forward finite difference stencil for $\\partial/\\partial_t$.\n",
    "\n",
    "3) Consider an implicit treatment of the membrane current $I_m$ and an explicit one of the ionic current $I_{\\text{ion}}$.\n",
    "\n",
    "4) Derive an expression for $I_m$.\n"
   ]
  },
  {
   "cell_type": "markdown",
   "id": "ab5ad1c7-0804-40a5-8e01-b0ecaa7593a9",
   "metadata": {
    "jupyter": {
     "source_hidden": true
    },
    "tags": [
     "hide-input"
    ]
   },
   "source": [
    "### Solution\n",
    "For the first time step (i.e. $t=t_1$) we have:\n",
    "$$I_m= \\frac{C_m}{\\Delta t}(u_i-u_e - v_0)+ I_{\\text{ion}}(v_0).$$"
   ]
  },
  {
   "cell_type": "markdown",
   "id": "9a65f407",
   "metadata": {},
   "source": [
    "## Weak formulation \n",
    "After substituting the expression for $I_m$, multiplying by test functions and integrating by parts, the weak form  of the EMI problem reads: given $V_i,V_e$ sufficiently regular Hilbert spaces, with elements satisfying the boundary conditions, find $u_i\\in V_i(\\Omega_i)$ and $u_e\\in V_e(\\Omega_e)$ such that\n",
    "\n",
    "\\begin{align}\n",
    "\\sigma_e\\int_{\\Omega_e} \\nabla u_e \\cdot\\nabla v_e\\,\\mathrm{d}\\mathbf{x} + \\frac{C_m}{\\Delta t}\\int_{\\Gamma}u_ev_e\\,\\mathrm{d}s - \\frac{C_m}{\\Delta t}\\int_{\\Gamma}u_iv_e\\,\\mathrm{d}s & = \\int_{\\Omega_e} f_e v_e\\,\\mathrm{d}\\mathbf{x} -\\int_{\\Gamma}fv_e\\,\\mathrm{d}s,  \\\\\n",
    "\\sigma_i\\int_{\\Omega_i}\\nabla u_i \\cdot\\nabla v_i\\,\\mathrm{d}\\mathbf{x} + \\frac{C_m}{\\Delta t}\\int_{\\Gamma}u_iv_i\\,\\mathrm{d}s - \\frac{C_m}{\\Delta t}\\int_{\\Gamma}u_ev_i\\,\\mathrm{d}s & = \\int_{\\Omega_i} f_i v_e\\,\\mathrm{d}\\mathbf{x} + \\int_{\\Gamma}fv_i\\,\\mathrm{d}s, \n",
    "\\end{align}\n",
    "for all test functions $v_e\\in V_e$ and $v_i\\in V_i$."
   ]
  },
  {
   "cell_type": "markdown",
   "id": "57201341-28fa-4666-bbd8-ed04018a88b5",
   "metadata": {},
   "source": [
    "### Exercise \n",
    "Derive an expression for $f$."
   ]
  },
  {
   "cell_type": "markdown",
   "id": "fdcf0892-7119-4efa-b03a-f284ad22f4a0",
   "metadata": {
    "jupyter": {
     "source_hidden": true
    },
    "tags": [
     "hide-input"
    ]
   },
   "source": [
    "### Solution\n",
    "$$f = \\frac{C_m}{\\Delta t}v_0 - I_{\\text{ion}}(v_0).$$"
   ]
  },
  {
   "cell_type": "markdown",
   "id": "5d8f9426-b0ee-4c94-ac13-9418c2254445",
   "metadata": {},
   "source": [
    "## Algebraic form\n",
    "We introduce a yet unspecified discretization via finite element basis functions (e.g. Lagrangian elements of order $p\\in\\mathbb{N}$ on a regular grid) for $V_e$ and $V_i$:\n",
    "\n",
    "$$V_{e,h}=\\mathrm{span}\\left(\\{\\phi^e_j\\}_{j=1}^{N_e}\\right),\\quad V_{i,h}=\\mathrm{span}\\left(\\{\\phi^i_j\\}_{j=1}^{N_i}\\right),$$\n",
    "\n",
    "with $N_e,N_i$ and $N_\\Gamma\\in\\mathbb{N}$ denoting the number of degrees of freedom in the corresponding subdomains.\n",
    "\n",
    "we define the following discrete operators: intra- and extra- Laplacians\n",
    "\n",
    "\\begin{align}\n",
    "    & A_e=\\left[\\int_{\\Omega_e}\\sigma_e\\nabla\\phi^e_j(\\mathbf{x})\\cdot\\nabla\\phi^e_k(\\mathbf{x})\\,\\mathrm{d}\\mathbf{x}\\right]_{j,k=1}^{N_e}\\in\\mathbb{R}^{N_e\\times N_e}, \\\\\n",
    "    & A_i=\\left[\\int_{\\Omega_i}\\sigma_i\\nabla\\phi^i_j(\\mathbf{x})\\cdot\\nabla\\phi^i_k(\\mathbf{x})\\,\\mathrm{d}\\mathbf{x}\\right]_{j,k=1}^{N_i}\\in\\mathbb{R}^{N_i\\times N_i},\n",
    "\\end{align}\n",
    "\n",
    "membrane mass matrices: \n",
    "\n",
    "\\begin{align}\n",
    "    & M_{e}=\\left[\\int_{\\Gamma}\\phi^e_j(\\mathbf{x})\\phi^e_k(\\mathbf{x})\\,\\mathrm{d}s\\right]_{j,k=1}^{N_e}\\in\\mathbb{R}^{N_e\\times N_e}, \\\\\n",
    "    & M_{i}=\\left[\\int_{\\Gamma}\\phi^i_j(\\mathbf{x})\\phi^i_k(\\mathbf{x})\\,\\mathrm{d}s\\right]_{j,k=1}^{N_i}\\in\\mathbb{R}^{N_i\\times N_i},\n",
    "\\end{align}\n",
    "\n",
    "and the coupling matrix\n",
    "\n",
    "\\begin{align}\n",
    "    & T_{ei}=\\left[\\int_{\\Gamma}\\phi^i_j(\\mathbf{x})\\phi^e_k(\\mathbf{x})\\,\\mathrm{d}s\\right]_{(j,k)=(1,1)}^{(N_e,N_i)}\\in\\mathbb{R}^{N_e\\times N_i}.\n",
    "    % & T_{ie}=\\left[C\\int_{\\Omega_i}\\sigma_i\\nabla\\phi^i_j(\\mathbf{x})\\cdot\\nabla\\phi^i_k(\\mathbf{x})\\right]_{j,k=1}^{N_i}\\in\\mathbb{R}^{N_i\\times N_i}.\n",
    "\\end{align}\n",
    "\n",
    "## Exercise\n",
    "Finally we express the linear system of size $n = N_e+N_i$ corresponding to presented weak formulation. \n",
    "Given the latter matrices definitions, write down the $2\\times2$ block system corresponding to the presented weak formulation. Can you notice something about the arising overall EMI linear operator, in terms of algebraic properties?"
   ]
  },
  {
   "cell_type": "markdown",
   "id": "9aae932a-8443-40ff-b16c-52cdd321a92a",
   "metadata": {
    "jupyter": {
     "source_hidden": true
    },
    "tags": [
     "hide-input"
    ]
   },
   "source": [
    "## Solution\n",
    "\\begin{equation}\n",
    "\t\\begin{bmatrix}\n",
    "\t\tCA_e + M_e & T_{ei} \\\\\n",
    "\t\tT_{ei}^T & CA_i + M_i \\\\\n",
    "\t\\end{bmatrix}\n",
    "\t\\begin{bmatrix}\n",
    "\t\t\\mathbf{u}_e \\\\\n",
    "\t\t\\mathbf{u}_i \\\\\n",
    "\t\\end{bmatrix} =\n",
    "\t\\begin{bmatrix}\n",
    "\t\t\\mathbf{f}_e \\\\\n",
    "\t\t\\mathbf{f}_i \\\\\n",
    "\t\\end{bmatrix} \\, \\Longleftrightarrow \\, A_n \\mathbf{u} = \\mathbf{f},\n",
    "\\end{equation}\n",
    "\n",
    "with $\\mathbf{u}_e,\\mathbf{f}_e\\in\\mathbb{R}^{N_e}$ (resp. $\\mathbf{u}_i,\\mathbf{f}_i\\in\\mathbb{R}^{N_i}$) the unknowns and the right hand side corresponding to $\\Omega_e$ (resp. $\\Omega_i$). The EMI operator $A_n$ is symmetric. \n"
   ]
  },
  {
   "cell_type": "markdown",
   "id": "8fdbb9a8-2f1b-46b2-845f-84270416b23a",
   "metadata": {
    "tags": []
   },
   "source": [
    "## Test case\n",
    "To start with, we consider a benchmark example in the 2D unit square where an analytical solution is known:\n",
    "\n",
    "\\begin{align}\n",
    "& u_i(x,y,t) = sin(2\\pi x) \\cdot sin(2\\pi y)\\cdot(1 + e^{-t}),\\\\\n",
    "& u_e(x,y,t) = sin(2\\pi x) \\cdot sin(2\\pi y).\n",
    "\\end{align}\n",
    "\n",
    "and the corresponding source functions:\n",
    "\n",
    "\\begin{align}\n",
    "& f_i(x,y,t) = 8\\pi^2sin(2\\pi x) \\cdot sin(2\\pi y)\\cdot(1 + e^{-t}),\\\\\n",
    "& f_e(x,y,t) = 8\\pi^2sin(2\\pi x) \\cdot sin(2\\pi y),\n",
    "\\end{align}\n",
    "\n",
    "with $\\Omega_i = (0.25, 0.75)\\times(0.25, 0.75)$ and $\\Omega_i\\cup\\Omega_e=(0,1)\\times(0,1)$, cf. figure.\n",
    "\n",
    "We impose the ionic current $I_{ion} = v$ and consider the following initial condition on the membrane $\\Gamma$:\n",
    "\n",
    "$$ v_0=sin(2\\pi x) \\cdot sin(2\\pi y).$$"
   ]
  },
  {
   "cell_type": "markdown",
   "id": "16a939ee-c07b-4ebb-a238-4f4b43326530",
   "metadata": {},
   "source": [
    "### Exercise \n",
    "1) Verify that the given solution satisfies the EMI problem.\n",
    "2) Which is the value of $I_m$?.\n"
   ]
  },
  {
   "cell_type": "markdown",
   "id": "aae8e642-e980-4d40-93bf-dc7fde5a2096",
   "metadata": {},
   "source": [
    "## Implementation\n",
    "Let us import relevant modules:"
   ]
  },
  {
   "cell_type": "code",
   "execution_count": 3,
   "id": "ba3c0692",
   "metadata": {},
   "outputs": [
    {
     "name": "stdout",
     "output_type": "stream",
     "text": [
      "\u001b[31mERROR: Could not find a version that satisfies the requirement multiphenics (from versions: none)\u001b[0m\u001b[31m\n",
      "\u001b[0m\u001b[31mERROR: No matching distribution found for multiphenics\u001b[0m\u001b[31m\n",
      "\u001b[0m"
     ]
    }
   ],
   "source": [
    "from dolfin import *\n",
    "from multiphenics import *\n",
    "parameters[\"ghost_mode\"] = \"shared_facet\" # required by dS\n"
   ]
  },
  {
   "cell_type": "markdown",
   "id": "583f3d71-bf6f-4c57-8472-5935377f67db",
   "metadata": {},
   "source": [
    "Set discretization and physical parameters, here we are limited to $n\\in\\{16,32,64,128,256\\}$"
   ]
  },
  {
   "cell_type": "code",
   "execution_count": 1,
   "id": "51283d33-186e-4c2e-a9b8-47d107789308",
   "metadata": {},
   "outputs": [],
   "source": [
    "# space discretization parameters\n",
    "n = 16 \n",
    "p = 1\n",
    "\n",
    "# time discretization parameters\n",
    "t          = 0.0\n",
    "dt         = 0.1 \n",
    "time_steps = 10  \n",
    "\n",
    "# physical parameters\n",
    "C_M     = 1.0\n",
    "sigma_i = 1.0\n",
    "sigma_e = 1.0"
   ]
  },
  {
   "cell_type": "markdown",
   "id": "b1c3ed13-1417-4f7f-b1af-081b119f1cc6",
   "metadata": {},
   "source": [
    "Set anaytical solution and initial condition (replace TODO with the appropriate expressions):"
   ]
  },
  {
   "cell_type": "code",
   "execution_count": null,
   "id": "609e2339-c494-44b1-baa2-da737c9317a1",
   "metadata": {},
   "outputs": [],
   "source": [
    "# initial membrane potential V\n",
    "v = Expression(\"sin(2*pi*x[0]) * sin(2*pi*x[1])\", degree = 4)\n",
    "\n",
    "# source factors\n",
    "# f_i = Expression(\"TODO\", degree = 4, t = t)\n",
    "# f_e = Expression(\"TODO\",                   degree = 4)\n",
    "\n",
    "f_i = Expression(\"8*pi*pi*sin(2*pi*x[0]) * sin(2*pi*x[1]) * (1.0 + exp(-t))\", degree = 4, t = t)\n",
    "f_e = Expression(\"8*pi*pi*sin(2*pi*x[0]) * sin(2*pi*x[1])\",                   degree = 4)"
   ]
  },
  {
   "cell_type": "markdown",
   "id": "70a03606-018e-4855-b1ae-96017eabd62e",
   "metadata": {},
   "source": [
    "Import meshes:"
   ]
  },
  {
   "cell_type": "code",
   "execution_count": null,
   "id": "19f89d5a-3258-4adb-bc67-bf9ff454b74e",
   "metadata": {},
   "outputs": [],
   "source": [
    "# Mesh\n",
    "mesh = Mesh(\"meshes/square/square\" + str(n) + \".xml\")\n",
    "subdomains = MeshFunction(\"size_t\", mesh, \"meshes/square/square_physical_region\" + str(n) + \".xml\")\n",
    "boundaries = MeshFunction(\"size_t\", mesh, \"meshes/square/square_facet_region\" + str(n) + \".xml\")\n",
    "# Restrictions\n",
    "omega_i = MeshRestriction(mesh, \"meshes/square/square_restriction_om_i\" + str(n) + \".rtc.xml\")\n",
    "omega_e = MeshRestriction(mesh, \"meshes/square/square_restriction_om_e\" + str(n) + \".rtc.xml\")"
   ]
  },
  {
   "cell_type": "markdown",
   "id": "55c77583-51f2-435d-ae42-0bbbefa5ac60",
   "metadata": {},
   "source": [
    "Create FE function spaces and corresponding test/trial functions:"
   ]
  },
  {
   "cell_type": "code",
   "execution_count": null,
   "id": "9f14ff66-db75-48a7-a474-22d906c465d5",
   "metadata": {},
   "outputs": [],
   "source": [
    "# Function space\n",
    "V = FunctionSpace(mesh, \"Lagrange\", p)\n",
    "# Block function space\n",
    "W = BlockFunctionSpace([V, V], restrict=[omega_i, omega_e])\n",
    "\n",
    "# TRIAL/TEST FUNCTIONS #\n",
    "uu = BlockTrialFunction(W)\n",
    "vv = BlockTestFunction(W)\n",
    "\n",
    "(ui, ue) = block_split(uu)\n",
    "(vi, ve) = block_split(vv)\n",
    "\n",
    "# MEASURES #\n",
    "dx = Measure(\"dx\")(subdomain_data=subdomains)\n",
    "dS = Measure(\"dS\")(subdomain_data=boundaries)\n",
    "dS = dS(2) # restrict to the interface, which has facet ID equal to 2\n"
   ]
  },
  {
   "cell_type": "code",
   "execution_count": 5,
   "id": "63d1b421-cb9c-4022-b3f6-a3cbf4399f8e",
   "metadata": {},
   "outputs": [
    {
     "ename": "NameError",
     "evalue": "name 'inner' is not defined",
     "output_type": "error",
     "traceback": [
      "\u001b[0;31m---------------------------------------------------------------------------\u001b[0m",
      "\u001b[0;31mNameError\u001b[0m                                 Traceback (most recent call last)",
      "Input \u001b[0;32mIn [5]\u001b[0m, in \u001b[0;36m<cell line: 2>\u001b[0;34m()\u001b[0m\n\u001b[1;32m      1\u001b[0m \u001b[38;5;66;03m# ASSEMBLE #\u001b[39;00m\n\u001b[0;32m----> 2\u001b[0m a11 \u001b[38;5;241m=\u001b[39m dt \u001b[38;5;241m*\u001b[39m \u001b[43minner\u001b[49m(sigma_i\u001b[38;5;241m*\u001b[39mgrad(ui), grad(vi))\u001b[38;5;241m*\u001b[39mdx(\u001b[38;5;241m1\u001b[39m) \u001b[38;5;241m+\u001b[39m C_M \u001b[38;5;241m*\u001b[39m inner(ui(\u001b[38;5;124m'\u001b[39m\u001b[38;5;124m-\u001b[39m\u001b[38;5;124m'\u001b[39m), vi(\u001b[38;5;124m'\u001b[39m\u001b[38;5;124m-\u001b[39m\u001b[38;5;124m'\u001b[39m))\u001b[38;5;241m*\u001b[39mdS\n\u001b[1;32m      3\u001b[0m a22 \u001b[38;5;241m=\u001b[39m dt \u001b[38;5;241m*\u001b[39m inner(sigma_e\u001b[38;5;241m*\u001b[39mgrad(ue), grad(ve))\u001b[38;5;241m*\u001b[39mdx(\u001b[38;5;241m2\u001b[39m) \u001b[38;5;241m+\u001b[39m C_M \u001b[38;5;241m*\u001b[39m inner(ue(\u001b[38;5;124m'\u001b[39m\u001b[38;5;124m+\u001b[39m\u001b[38;5;124m'\u001b[39m), ve(\u001b[38;5;124m'\u001b[39m\u001b[38;5;124m+\u001b[39m\u001b[38;5;124m'\u001b[39m))\u001b[38;5;241m*\u001b[39mdS\n\u001b[1;32m      4\u001b[0m a12 \u001b[38;5;241m=\u001b[39m \u001b[38;5;241m-\u001b[39m C_M \u001b[38;5;241m*\u001b[39m inner(ue(\u001b[38;5;124m'\u001b[39m\u001b[38;5;124m+\u001b[39m\u001b[38;5;124m'\u001b[39m), vi(\u001b[38;5;124m'\u001b[39m\u001b[38;5;124m-\u001b[39m\u001b[38;5;124m'\u001b[39m))\u001b[38;5;241m*\u001b[39mdS\n",
      "\u001b[0;31mNameError\u001b[0m: name 'inner' is not defined"
     ]
    }
   ],
   "source": [
    "# ASSEMBLE #\n",
    "a11 = dt * inner(sigma_i*grad(ui), grad(vi))*dx(1) + C_M * inner(ui('-'), vi('-'))*dS\n",
    "a22 = dt * inner(sigma_e*grad(ue), grad(ve))*dx(2) + C_M * inner(ue('+'), ve('+'))*dS\n",
    "a12 = - C_M * inner(ue('+'), vi('-'))*dS\n",
    "a21 = - C_M * inner(ui('-'), ve('+'))*dS\n",
    "\n",
    "a = [[a11, a12],\n",
    "    [ a21, a22]]\n",
    "\n",
    "# boundary conditions\n",
    "bc_e = DirichletBC(W.sub(1), Constant(0.), boundaries, 1)\n",
    "bcs  = BlockDirichletBC([None,bc_e])\n",
    "\n",
    "# ASSEMBLE #\n",
    "A = block_assemble(a)\n",
    "bcs.apply(A)\n",
    "\n",
    "# solution vector\n",
    "U = BlockFunction(W)"
   ]
  },
  {
   "cell_type": "markdown",
   "id": "71b02328-d3f0-4e22-93ca-9ca89701a4ea",
   "metadata": {},
   "source": [
    "Perform the time loop:"
   ]
  },
  {
   "cell_type": "code",
   "execution_count": null,
   "id": "81afda61-c93c-483c-8686-f5381734c059",
   "metadata": {},
   "outputs": [],
   "source": [
    "# Time-stepping\n",
    "for i in range(time_steps):\n",
    "\n",
    "    print('Time step', i + 1)  \n",
    "\n",
    "    # update current time\n",
    "    t += dt\n",
    "    \n",
    "    # update source term \n",
    "    f_i.t = t   \n",
    "\n",
    "    # update rhs    \n",
    "    fg = v - (dt/C_M) * v\n",
    "    fi = dt * inner(f_i, vi)*dx(1) + C_M * inner(fg, vi('-'))*dS\n",
    "    fe = dt * inner(f_e, ve)*dx(2) - C_M * inner(fg, ve('+'))*dS\n",
    "    f =  [fi, fe]\n",
    "    F = block_assemble(f)\n",
    "    bcs.apply(F)\n",
    "\n",
    "    # SOLVE\n",
    "    block_solve(A, U.block_vector(), F)\n",
    "    \n",
    "    # update membrane potential        \n",
    "    v = U[0] - U[1]"
   ]
  },
  {
   "cell_type": "markdown",
   "id": "22e09027-c781-4c25-a437-3cd6e7014f56",
   "metadata": {},
   "source": [
    "Error analysis (replace TODO):"
   ]
  },
  {
   "cell_type": "code",
   "execution_count": null,
   "id": "6e79a6d0-c428-425c-8241-bbcccaab027b",
   "metadata": {},
   "outputs": [],
   "source": [
    "# ERROR\n",
    "ui_exact = Expression(\"(1 + exp(-t)) * sin(2*pi*x[0]) * sin(2*pi*x[1])\", degree = 4, t = t)\n",
    "# ue_exact = Expression(\"TODO\", degree = 4)\n",
    "\n",
    "ue_exact = Expression(\"sin(2*pi*x[0]) * sin(2*pi*x[1])\", degree = 4)\n",
    "\n",
    "err_i = inner(U[0] - ui_exact, U[0] - ui_exact)*dx(1)\n",
    "err_e = inner(U[1] - ue_exact, U[1] - ue_exact)*dx(2)\n",
    "L2_norm_i = sqrt(assemble(err_i))\n",
    "L2_norm_e = sqrt(assemble(err_e))\n",
    "\n",
    "# print info\n",
    "print(\"~~~~~~~~~~~~~~ Info ~~~~~~~~~~~~~~\")\n",
    "print(\"dt =\", dt)\n",
    "print(\"n =\", n)\n",
    "print(\"p =\", p)\n",
    "\n",
    "print(\"~~~~~~~~~~~~~~ Errors ~~~~~~~~~~~~~~\")\n",
    "print('L2 error interior:', L2_norm_i)\n",
    "print('L2 error exterior:', L2_norm_e)"
   ]
  },
  {
   "cell_type": "markdown",
   "id": "b1be2805-5e39-4b76-9928-65a5758183fe",
   "metadata": {},
   "source": [
    "### Exercise\n",
    "Check the convergence order for various $p=1,2,3,...$ varying $n$. "
   ]
  },
  {
   "cell_type": "markdown",
   "id": "9ac4a6bc-2229-4ee3-ad60-562060dec38e",
   "metadata": {},
   "source": [
    "## Astrocyte example"
   ]
  },
  {
   "cell_type": "code",
   "execution_count": null,
   "id": "86fb4a16-eaa5-422a-89c2-0424b3cd15e1",
   "metadata": {},
   "outputs": [],
   "source": [
    "from dolfin       import *\n",
    "from multiphenics import *\n",
    "parameters[\"ghost_mode\"] = \"shared_facet\" # required by dS\n",
    "\n",
    "# MESHES #\n",
    "# Mesh\n",
    "print('REading meshes...')\n",
    "mesh = Mesh(MPI.comm_world)\n",
    "mesh = Mesh(\"meshes/astrocyte/astrocyte_mesh.xml\")\n",
    "subdomains = MeshFunction(\"size_t\", mesh, \"meshes/astrocyte/astrocyte_mesh_physical_region.xml\")\n",
    "boundaries = MeshFunction(\"size_t\", mesh, \"meshes/astrocyte/astrocyte_mesh_facet_region.xml\")\n",
    "mesh.coordinates()[:] *= 1e-6\n",
    "# Restrictions\n",
    "interior  = MeshRestriction(mesh, \"meshes/astrocyte/astrocyte_mesh_interior_restriction.rtc.xml\")\n",
    "exterior  = MeshRestriction(mesh, \"meshes/astrocyte/astrocyte_mesh_exterior_restriction.rtc.xml\")\n",
    "interface = MeshRestriction(mesh, \"meshes/astrocyte/astrocyte_mesh_interface_restriction.rtc.xml\")\n",
    "\n",
    "# print size\n",
    "print('#Mesh cells =', mesh.num_cells())\n",
    "\n",
    "# forcing term on interface (you can play with this)\n",
    "f_gamma = Expression('10*sin(x[0]+x[1])', degree=1)\n",
    "\n",
    "# FUNCTION SPACES #\n",
    "# Function spaces\n",
    "V = FunctionSpace(mesh, \"Lagrange\", 2)\n",
    "\n",
    "# Block function space\n",
    "W = BlockFunctionSpace([V, V], restrict=[interior, exterior])\n",
    "\n",
    "# TRIAL/TEST FUNCTIONS #\n",
    "uu = BlockTrialFunction(W)\n",
    "vv = BlockTestFunction(W)\n",
    "\n",
    "(ui, ue) = block_split(uu)\n",
    "(vi, ve) = block_split(vv)\n",
    "\n",
    "# MEASURES #\n",
    "dx = Measure(\"dx\")(subdomain_data=subdomains)\n",
    "ds = Measure(\"ds\")(subdomain_data=boundaries)\n",
    "dS = Measure(\"dS\")(subdomain_data=boundaries)\n",
    "dS = dS(5) # restrict to the interface, which has facet ID equal to 5\n",
    "\n",
    "# ASSEMBLE #\n",
    "print('Assembling...')\n",
    "# Interior mesh has subdomain id = 3\n",
    "# Exterior mesh has subdomain id = 1\n",
    "a11 = inner(grad(ui), grad(vi))*dx(3) + inner(ui('-'), vi('-'))*dS\n",
    "a22 = inner(grad(ue), grad(ve))*dx(1) + inner(ue('+'), ve('+'))*dS\n",
    "a12 = - inner(ue('-'), vi('+'))*dS\n",
    "a21 = - inner(ui('+'), ve('-'))*dS\n",
    "\n",
    "a = [[a11, a12],\n",
    "    [a21, a22]]\n",
    "\n",
    "f1 = -inner(f_gamma, vi('-'))*dS\n",
    "f2 =  inner(f_gamma, ve('+'))*dS\n",
    "\n",
    "f =  [f1, f2]\n",
    "\n",
    "# Outer shell of exterior mesh has facet tag 4\n",
    "bce = DirichletBC(W.sub(1), Constant(0.), boundaries, 4)\n",
    "bcs = BlockDirichletBC([None, bce])\n",
    "\n",
    "A = block_assemble(a)\n",
    "F = block_assemble(f)\n",
    "bcs.apply(A)\n",
    "bcs.apply(F)\n",
    "U = BlockFunction(W)\n",
    "\n",
    "print('Solving...')\n",
    "block_solve(A, U.block_vector(), F, linear_solver = 'mumps')\n",
    "\n",
    "# save output\n",
    "print('Writing output...')\n",
    "U[0].rename('u_i', '')\n",
    "U[1].rename('u_e', '')\n",
    "out_i = XDMFFile(MPI.comm_world, \"astrocyte_sol_i.xdmf\")\n",
    "out_e = XDMFFile(MPI.comm_world, \"astrocyte_sol_e.xdmf\")  \n",
    "out_i.write(U[0])\n",
    "out_e.write(U[1])\n",
    "out_i.write(subdomains)\n",
    "out_e.write(subdomains)"
   ]
  },
  {
   "cell_type": "markdown",
   "id": "34dafe74-1530-42f3-968f-2e9a69876892",
   "metadata": {},
   "source": [
    "### Visualization\n",
    "Open the output with Paraview.\n",
    "\n",
    "1) Use the 'Threshold' filter to isolate extra- (f = 1) and intra- (f = 3) solutions.\n",
    "2) Intra- and extra- sapces are labelled with scalar 'f' with tags 3 amd 1 respectively.\n",
    "3) Apply the 'Clip' filter on the extra- data, to visualize both solutions togheter.\n",
    "4) Rescale and play with colorbars and opacities.\n"
   ]
  },
  {
   "cell_type": "markdown",
   "id": "44f07e0f-7d11-4d67-a3d8-4ebb379c966f",
   "metadata": {
    "jupyter": {
     "source_hidden": true
    },
    "tags": [
     "hide-input"
    ]
   },
   "source": [
    "### Figure\n",
    "\n",
    "| <img src=\"figures/astrocyte2.png\" width=500> |\n",
    "|:--:|"
   ]
  },
  {
   "cell_type": "code",
   "execution_count": null,
   "id": "c21f578b-e3d5-4fd1-8111-67f4dffbef28",
   "metadata": {},
   "outputs": [],
   "source": []
  }
 ],
 "metadata": {
  "celltoolbar": "Edit Metadata",
  "kernelspec": {
   "display_name": "Python 3 (ipykernel)",
   "language": "python",
   "name": "python3"
  },
  "language_info": {
   "codemirror_mode": {
    "name": "ipython",
    "version": 3
   },
   "file_extension": ".py",
   "mimetype": "text/x-python",
   "name": "python",
   "nbconvert_exporter": "python",
   "pygments_lexer": "ipython3",
   "version": "3.9.12"
  }
 },
 "nbformat": 4,
 "nbformat_minor": 5
}
